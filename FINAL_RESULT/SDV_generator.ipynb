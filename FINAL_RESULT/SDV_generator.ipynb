{
 "cells": [
  {
   "cell_type": "code",
   "execution_count": 1,
   "id": "7012296e",
   "metadata": {},
   "outputs": [],
   "source": [
    "import pandas as pd\n",
    "import numpy as np\n",
    "import seaborn as sns\n",
    "import matplotlib.pyplot as plt\n",
    "import os\n",
    "from sklearn.model_selection import train_test_split\n",
    "from sklearn.preprocessing import StandardScaler\n",
    "import tensorflow as tf\n",
    "from tensorflow import keras\n",
    "from tensorflow.keras import layers\n",
    "\n",
    "import pandas as pd # data processing\n",
    "from tensorflow.keras.models import Sequential\n",
    "from tensorflow.keras.layers import Dense,Conv1D,Dropout,LSTM, Bidirectional\n",
    "import tensorflow as tf\n",
    "from sklearn.preprocessing import MinMaxScaler\n",
    "from sklearn.preprocessing import StandardScaler\n",
    "from sklearn.metrics import confusion_matrix\n",
    "from keras.layers import BatchNormalization, Dropout\n",
    "from keras.layers import Dense, Activation\n",
    "from tensorflow import keras\n",
    "from tensorflow.keras.callbacks import EarlyStopping\n",
    "import torch\n",
    "from torch.nn import Transformer\n",
    "from sklearn.preprocessing import StandardScaler #good\n",
    "from sklearn.preprocessing import MinMaxScaler,MaxAbsScaler\n",
    "from sklearn import metrics #accuracy measure\n",
    "import joblib\n",
    "import warnings\n",
    "import sdv\n",
    "from sdv.metadata import SingleTableMetadata"
   ]
  },
  {
   "cell_type": "code",
   "execution_count": 2,
   "id": "11f24032",
   "metadata": {
    "scrolled": true
   },
   "outputs": [
    {
     "name": "stdout",
     "output_type": "stream",
     "text": [
      "(211, 8682)\n"
     ]
    },
    {
     "name": "stderr",
     "output_type": "stream",
     "text": [
      "/Users/khangphan/anaconda3/lib/python3.10/site-packages/sdv/single_table/base.py:79: UserWarning: We strongly recommend saving the metadata using 'save_to_json' for replicability in future SDV versions.\n",
      "  warnings.warn(\n"
     ]
    },
    {
     "name": "stdout",
     "output_type": "stream",
     "text": [
      "(204, 8682)\n"
     ]
    },
    {
     "name": "stderr",
     "output_type": "stream",
     "text": [
      "/Users/khangphan/anaconda3/lib/python3.10/site-packages/sdv/single_table/base.py:79: UserWarning: We strongly recommend saving the metadata using 'save_to_json' for replicability in future SDV versions.\n",
      "  warnings.warn(\n"
     ]
    },
    {
     "name": "stdout",
     "output_type": "stream",
     "text": [
      "(226, 8682)\n"
     ]
    },
    {
     "name": "stderr",
     "output_type": "stream",
     "text": [
      "/Users/khangphan/anaconda3/lib/python3.10/site-packages/sdv/single_table/base.py:79: UserWarning: We strongly recommend saving the metadata using 'save_to_json' for replicability in future SDV versions.\n",
      "  warnings.warn(\n"
     ]
    },
    {
     "name": "stdout",
     "output_type": "stream",
     "text": [
      "(204, 8682)\n"
     ]
    },
    {
     "name": "stderr",
     "output_type": "stream",
     "text": [
      "/Users/khangphan/anaconda3/lib/python3.10/site-packages/sdv/single_table/base.py:79: UserWarning: We strongly recommend saving the metadata using 'save_to_json' for replicability in future SDV versions.\n",
      "  warnings.warn(\n"
     ]
    },
    {
     "name": "stdout",
     "output_type": "stream",
     "text": [
      "(313, 8682)\n"
     ]
    },
    {
     "name": "stderr",
     "output_type": "stream",
     "text": [
      "/Users/khangphan/anaconda3/lib/python3.10/site-packages/sdv/single_table/base.py:79: UserWarning: We strongly recommend saving the metadata using 'save_to_json' for replicability in future SDV versions.\n",
      "  warnings.warn(\n"
     ]
    },
    {
     "name": "stdout",
     "output_type": "stream",
     "text": [
      "(305, 8682)\n"
     ]
    },
    {
     "name": "stderr",
     "output_type": "stream",
     "text": [
      "/Users/khangphan/anaconda3/lib/python3.10/site-packages/sdv/single_table/base.py:79: UserWarning: We strongly recommend saving the metadata using 'save_to_json' for replicability in future SDV versions.\n",
      "  warnings.warn(\n"
     ]
    },
    {
     "name": "stdout",
     "output_type": "stream",
     "text": [
      "(222, 8682)\n"
     ]
    },
    {
     "name": "stderr",
     "output_type": "stream",
     "text": [
      "/Users/khangphan/anaconda3/lib/python3.10/site-packages/sdv/single_table/base.py:79: UserWarning: We strongly recommend saving the metadata using 'save_to_json' for replicability in future SDV versions.\n",
      "  warnings.warn(\n"
     ]
    },
    {
     "name": "stdout",
     "output_type": "stream",
     "text": [
      "(207, 8682)\n"
     ]
    },
    {
     "name": "stderr",
     "output_type": "stream",
     "text": [
      "/Users/khangphan/anaconda3/lib/python3.10/site-packages/sdv/single_table/base.py:79: UserWarning: We strongly recommend saving the metadata using 'save_to_json' for replicability in future SDV versions.\n",
      "  warnings.warn(\n"
     ]
    },
    {
     "name": "stdout",
     "output_type": "stream",
     "text": [
      "(159, 8682)\n"
     ]
    },
    {
     "name": "stderr",
     "output_type": "stream",
     "text": [
      "/Users/khangphan/anaconda3/lib/python3.10/site-packages/sdv/single_table/base.py:79: UserWarning: We strongly recommend saving the metadata using 'save_to_json' for replicability in future SDV versions.\n",
      "  warnings.warn(\n"
     ]
    },
    {
     "name": "stdout",
     "output_type": "stream",
     "text": [
      "(213, 8682)\n"
     ]
    },
    {
     "name": "stderr",
     "output_type": "stream",
     "text": [
      "/Users/khangphan/anaconda3/lib/python3.10/site-packages/sdv/single_table/base.py:79: UserWarning: We strongly recommend saving the metadata using 'save_to_json' for replicability in future SDV versions.\n",
      "  warnings.warn(\n"
     ]
    },
    {
     "name": "stdout",
     "output_type": "stream",
     "text": [
      "(186, 8682)\n"
     ]
    },
    {
     "name": "stderr",
     "output_type": "stream",
     "text": [
      "/Users/khangphan/anaconda3/lib/python3.10/site-packages/sdv/single_table/base.py:79: UserWarning: We strongly recommend saving the metadata using 'save_to_json' for replicability in future SDV versions.\n",
      "  warnings.warn(\n"
     ]
    },
    {
     "name": "stdout",
     "output_type": "stream",
     "text": [
      "(165, 8682)\n"
     ]
    },
    {
     "name": "stderr",
     "output_type": "stream",
     "text": [
      "/Users/khangphan/anaconda3/lib/python3.10/site-packages/sdv/single_table/base.py:79: UserWarning: We strongly recommend saving the metadata using 'save_to_json' for replicability in future SDV versions.\n",
      "  warnings.warn(\n"
     ]
    },
    {
     "name": "stdout",
     "output_type": "stream",
     "text": [
      "(164, 8682)\n"
     ]
    },
    {
     "name": "stderr",
     "output_type": "stream",
     "text": [
      "/Users/khangphan/anaconda3/lib/python3.10/site-packages/sdv/single_table/base.py:79: UserWarning: We strongly recommend saving the metadata using 'save_to_json' for replicability in future SDV versions.\n",
      "  warnings.warn(\n"
     ]
    },
    {
     "name": "stdout",
     "output_type": "stream",
     "text": [
      "(137, 8682)\n"
     ]
    },
    {
     "name": "stderr",
     "output_type": "stream",
     "text": [
      "/Users/khangphan/anaconda3/lib/python3.10/site-packages/sdv/single_table/base.py:79: UserWarning: We strongly recommend saving the metadata using 'save_to_json' for replicability in future SDV versions.\n",
      "  warnings.warn(\n"
     ]
    },
    {
     "ename": "KeyboardInterrupt",
     "evalue": "",
     "output_type": "error",
     "traceback": [
      "\u001b[0;31m---------------------------------------------------------------------------\u001b[0m",
      "\u001b[0;31mKeyboardInterrupt\u001b[0m                         Traceback (most recent call last)",
      "Cell \u001b[0;32mIn[2], line 93\u001b[0m\n\u001b[1;32m     91\u001b[0m metadata\u001b[38;5;241m.\u001b[39mdetect_from_dataframe(df)\n\u001b[1;32m     92\u001b[0m model \u001b[38;5;241m=\u001b[39m sdv\u001b[38;5;241m.\u001b[39mlite\u001b[38;5;241m.\u001b[39mSingleTablePreset(name\u001b[38;5;241m=\u001b[39m\u001b[38;5;124m'\u001b[39m\u001b[38;5;124mFAST_ML\u001b[39m\u001b[38;5;124m'\u001b[39m, metadata\u001b[38;5;241m=\u001b[39mmetadata)\n\u001b[0;32m---> 93\u001b[0m \u001b[43mmodel\u001b[49m\u001b[38;5;241;43m.\u001b[39;49m\u001b[43mfit\u001b[49m\u001b[43m(\u001b[49m\u001b[43mdf\u001b[49m\u001b[43m)\u001b[49m\n\u001b[1;32m     94\u001b[0m df_gen\u001b[38;5;241m=\u001b[39mmodel\u001b[38;5;241m.\u001b[39msample(num_rows\u001b[38;5;241m=\u001b[39mlength_data)\n\u001b[1;32m     95\u001b[0m df_gen\u001b[38;5;241m.\u001b[39mto_csv(\u001b[38;5;124mf\u001b[39m\u001b[38;5;124m'\u001b[39m\u001b[38;5;124m./gandata/\u001b[39m\u001b[38;5;132;01m{\u001b[39;00mdata\u001b[38;5;132;01m}\u001b[39;00m\u001b[38;5;124m'\u001b[39m)\n",
      "File \u001b[0;32m~/anaconda3/lib/python3.10/site-packages/sdv/lite/single_table.py:75\u001b[0m, in \u001b[0;36mSingleTablePreset.fit\u001b[0;34m(self, data)\u001b[0m\n\u001b[1;32m     68\u001b[0m \u001b[38;5;28;01mdef\u001b[39;00m \u001b[38;5;21mfit\u001b[39m(\u001b[38;5;28mself\u001b[39m, data):\n\u001b[1;32m     69\u001b[0m \u001b[38;5;250m    \u001b[39m\u001b[38;5;124;03m\"\"\"Fit this model to the data.\u001b[39;00m\n\u001b[1;32m     70\u001b[0m \n\u001b[1;32m     71\u001b[0m \u001b[38;5;124;03m    Args:\u001b[39;00m\n\u001b[1;32m     72\u001b[0m \u001b[38;5;124;03m        data (pandas.DataFrame):\u001b[39;00m\n\u001b[1;32m     73\u001b[0m \u001b[38;5;124;03m            Data to fit the model to.\u001b[39;00m\n\u001b[1;32m     74\u001b[0m \u001b[38;5;124;03m    \"\"\"\u001b[39;00m\n\u001b[0;32m---> 75\u001b[0m     \u001b[38;5;28;43mself\u001b[39;49m\u001b[38;5;241;43m.\u001b[39;49m\u001b[43m_synthesizer\u001b[49m\u001b[38;5;241;43m.\u001b[39;49m\u001b[43mfit\u001b[49m\u001b[43m(\u001b[49m\u001b[43mdata\u001b[49m\u001b[43m)\u001b[49m\n",
      "File \u001b[0;32m~/anaconda3/lib/python3.10/site-packages/sdv/single_table/base.py:395\u001b[0m, in \u001b[0;36mBaseSynthesizer.fit\u001b[0;34m(self, data)\u001b[0m\n\u001b[1;32m    393\u001b[0m \u001b[38;5;28mself\u001b[39m\u001b[38;5;241m.\u001b[39m_data_processor\u001b[38;5;241m.\u001b[39mreset_sampling()\n\u001b[1;32m    394\u001b[0m \u001b[38;5;28mself\u001b[39m\u001b[38;5;241m.\u001b[39m_random_state_set \u001b[38;5;241m=\u001b[39m \u001b[38;5;28;01mFalse\u001b[39;00m\n\u001b[0;32m--> 395\u001b[0m processed_data \u001b[38;5;241m=\u001b[39m \u001b[38;5;28;43mself\u001b[39;49m\u001b[38;5;241;43m.\u001b[39;49m\u001b[43m_preprocess\u001b[49m\u001b[43m(\u001b[49m\u001b[43mdata\u001b[49m\u001b[43m)\u001b[49m\n\u001b[1;32m    396\u001b[0m \u001b[38;5;28mself\u001b[39m\u001b[38;5;241m.\u001b[39mfit_processed_data(processed_data)\n",
      "File \u001b[0;32m~/anaconda3/lib/python3.10/site-packages/sdv/single_table/base.py:340\u001b[0m, in \u001b[0;36mBaseSynthesizer._preprocess\u001b[0;34m(self, data)\u001b[0m\n\u001b[1;32m    338\u001b[0m \u001b[38;5;28mself\u001b[39m\u001b[38;5;241m.\u001b[39mvalidate(data)\n\u001b[1;32m    339\u001b[0m \u001b[38;5;28mself\u001b[39m\u001b[38;5;241m.\u001b[39m_data_processor\u001b[38;5;241m.\u001b[39mfit(data)\n\u001b[0;32m--> 340\u001b[0m \u001b[38;5;28;01mreturn\u001b[39;00m \u001b[38;5;28;43mself\u001b[39;49m\u001b[38;5;241;43m.\u001b[39;49m\u001b[43m_data_processor\u001b[49m\u001b[38;5;241;43m.\u001b[39;49m\u001b[43mtransform\u001b[49m\u001b[43m(\u001b[49m\u001b[43mdata\u001b[49m\u001b[43m)\u001b[49m\n",
      "File \u001b[0;32m~/anaconda3/lib/python3.10/site-packages/sdv/data_processing/data_processor.py:808\u001b[0m, in \u001b[0;36mDataProcessor.transform\u001b[0;34m(self, data, is_condition)\u001b[0m\n\u001b[1;32m    805\u001b[0m     data \u001b[38;5;241m=\u001b[39m data\u001b[38;5;241m.\u001b[39mset_index(\u001b[38;5;28mself\u001b[39m\u001b[38;5;241m.\u001b[39m_primary_key, drop\u001b[38;5;241m=\u001b[39m\u001b[38;5;28;01mFalse\u001b[39;00m)\n\u001b[1;32m    807\u001b[0m \u001b[38;5;28;01mtry\u001b[39;00m:\n\u001b[0;32m--> 808\u001b[0m     transformed \u001b[38;5;241m=\u001b[39m \u001b[38;5;28;43mself\u001b[39;49m\u001b[38;5;241;43m.\u001b[39;49m\u001b[43m_hyper_transformer\u001b[49m\u001b[38;5;241;43m.\u001b[39;49m\u001b[43mtransform_subset\u001b[49m\u001b[43m(\u001b[49m\u001b[43mdata\u001b[49m\u001b[43m)\u001b[49m\n\u001b[1;32m    809\u001b[0m \u001b[38;5;28;01mexcept\u001b[39;00m (rdt\u001b[38;5;241m.\u001b[39merrors\u001b[38;5;241m.\u001b[39mNotFittedError, rdt\u001b[38;5;241m.\u001b[39merrors\u001b[38;5;241m.\u001b[39mConfigNotSetError):\n\u001b[1;32m    810\u001b[0m     transformed \u001b[38;5;241m=\u001b[39m data\n",
      "File \u001b[0;32m~/anaconda3/lib/python3.10/site-packages/rdt/hyper_transformer.py:800\u001b[0m, in \u001b[0;36mHyperTransformer.transform_subset\u001b[0;34m(self, data)\u001b[0m\n\u001b[1;32m    789\u001b[0m \u001b[38;5;28;01mdef\u001b[39;00m \u001b[38;5;21mtransform_subset\u001b[39m(\u001b[38;5;28mself\u001b[39m, data):\n\u001b[1;32m    790\u001b[0m \u001b[38;5;250m    \u001b[39m\u001b[38;5;124;03m\"\"\"Transform a subset of the fitted data's columns.\u001b[39;00m\n\u001b[1;32m    791\u001b[0m \n\u001b[1;32m    792\u001b[0m \u001b[38;5;124;03m    Args:\u001b[39;00m\n\u001b[0;32m   (...)\u001b[0m\n\u001b[1;32m    798\u001b[0m \u001b[38;5;124;03m            Transformed subset.\u001b[39;00m\n\u001b[1;32m    799\u001b[0m \u001b[38;5;124;03m    \"\"\"\u001b[39;00m\n\u001b[0;32m--> 800\u001b[0m     \u001b[38;5;28;01mreturn\u001b[39;00m \u001b[38;5;28;43mself\u001b[39;49m\u001b[38;5;241;43m.\u001b[39;49m\u001b[43m_transform\u001b[49m\u001b[43m(\u001b[49m\u001b[43mdata\u001b[49m\u001b[43m,\u001b[49m\u001b[43m \u001b[49m\u001b[43mprevent_subset\u001b[49m\u001b[38;5;241;43m=\u001b[39;49m\u001b[38;5;28;43;01mFalse\u001b[39;49;00m\u001b[43m)\u001b[49m\n",
      "File \u001b[0;32m~/anaconda3/lib/python3.10/site-packages/rdt/hyper_transformer.py:784\u001b[0m, in \u001b[0;36mHyperTransformer._transform\u001b[0;34m(self, data, prevent_subset)\u001b[0m\n\u001b[1;32m    782\u001b[0m data \u001b[38;5;241m=\u001b[39m data\u001b[38;5;241m.\u001b[39mcopy()\n\u001b[1;32m    783\u001b[0m \u001b[38;5;28;01mfor\u001b[39;00m transformer \u001b[38;5;129;01min\u001b[39;00m \u001b[38;5;28mself\u001b[39m\u001b[38;5;241m.\u001b[39m_transformers_sequence:\n\u001b[0;32m--> 784\u001b[0m     data \u001b[38;5;241m=\u001b[39m \u001b[43mtransformer\u001b[49m\u001b[38;5;241;43m.\u001b[39;49m\u001b[43mtransform\u001b[49m\u001b[43m(\u001b[49m\u001b[43mdata\u001b[49m\u001b[43m)\u001b[49m\n\u001b[1;32m    786\u001b[0m transformed_columns \u001b[38;5;241m=\u001b[39m \u001b[38;5;28mself\u001b[39m\u001b[38;5;241m.\u001b[39m_subset(\u001b[38;5;28mself\u001b[39m\u001b[38;5;241m.\u001b[39m_output_columns, data\u001b[38;5;241m.\u001b[39mcolumns)\n\u001b[1;32m    787\u001b[0m \u001b[38;5;28;01mreturn\u001b[39;00m data\u001b[38;5;241m.\u001b[39mreindex(columns\u001b[38;5;241m=\u001b[39mtransformed_columns)\n",
      "File \u001b[0;32m~/anaconda3/lib/python3.10/site-packages/rdt/transformers/base.py:55\u001b[0m, in \u001b[0;36mrandom_state.<locals>.wrapper\u001b[0;34m(self, *args, **kwargs)\u001b[0m\n\u001b[1;32m     53\u001b[0m method_name \u001b[38;5;241m=\u001b[39m function\u001b[38;5;241m.\u001b[39m\u001b[38;5;18m__name__\u001b[39m\n\u001b[1;32m     54\u001b[0m \u001b[38;5;28;01mwith\u001b[39;00m set_random_states(\u001b[38;5;28mself\u001b[39m\u001b[38;5;241m.\u001b[39mrandom_states, method_name, \u001b[38;5;28mself\u001b[39m\u001b[38;5;241m.\u001b[39mset_random_state):\n\u001b[0;32m---> 55\u001b[0m     \u001b[38;5;28;01mreturn\u001b[39;00m \u001b[43mfunction\u001b[49m\u001b[43m(\u001b[49m\u001b[38;5;28;43mself\u001b[39;49m\u001b[43m,\u001b[49m\u001b[43m \u001b[49m\u001b[38;5;241;43m*\u001b[39;49m\u001b[43margs\u001b[49m\u001b[43m,\u001b[49m\u001b[43m \u001b[49m\u001b[38;5;241;43m*\u001b[39;49m\u001b[38;5;241;43m*\u001b[39;49m\u001b[43mkwargs\u001b[49m\u001b[43m)\u001b[49m\n",
      "File \u001b[0;32m~/anaconda3/lib/python3.10/site-packages/rdt/transformers/base.py:426\u001b[0m, in \u001b[0;36mBaseTransformer.transform\u001b[0;34m(self, data)\u001b[0m\n\u001b[1;32m    424\u001b[0m transformed_data \u001b[38;5;241m=\u001b[39m \u001b[38;5;28mself\u001b[39m\u001b[38;5;241m.\u001b[39m_transform(columns_data)\n\u001b[1;32m    425\u001b[0m data \u001b[38;5;241m=\u001b[39m data\u001b[38;5;241m.\u001b[39mdrop(\u001b[38;5;28mself\u001b[39m\u001b[38;5;241m.\u001b[39mcolumns, axis\u001b[38;5;241m=\u001b[39m\u001b[38;5;241m1\u001b[39m)\n\u001b[0;32m--> 426\u001b[0m data \u001b[38;5;241m=\u001b[39m \u001b[38;5;28;43mself\u001b[39;49m\u001b[38;5;241;43m.\u001b[39;49m\u001b[43m_add_columns_to_data\u001b[49m\u001b[43m(\u001b[49m\u001b[43mdata\u001b[49m\u001b[43m,\u001b[49m\u001b[43m \u001b[49m\u001b[43mtransformed_data\u001b[49m\u001b[43m,\u001b[49m\u001b[43m \u001b[49m\u001b[38;5;28;43mself\u001b[39;49m\u001b[38;5;241;43m.\u001b[39;49m\u001b[43moutput_columns\u001b[49m\u001b[43m)\u001b[49m\n\u001b[1;32m    428\u001b[0m \u001b[38;5;28;01mreturn\u001b[39;00m data\n",
      "File \u001b[0;32m~/anaconda3/lib/python3.10/site-packages/rdt/transformers/base.py:302\u001b[0m, in \u001b[0;36mBaseTransformer._add_columns_to_data\u001b[0;34m(data, transformed_data, transformed_names)\u001b[0m\n\u001b[1;32m    298\u001b[0m \u001b[38;5;28;01mif\u001b[39;00m transformed_names:\n\u001b[1;32m    299\u001b[0m     \u001b[38;5;66;03m# When '#' is added to the column_prefix of a transformer\u001b[39;00m\n\u001b[1;32m    300\u001b[0m     \u001b[38;5;66;03m# the columns of transformed_data and transformed_names don't match\u001b[39;00m\n\u001b[1;32m    301\u001b[0m     transformed_data\u001b[38;5;241m.\u001b[39mcolumns \u001b[38;5;241m=\u001b[39m transformed_names\n\u001b[0;32m--> 302\u001b[0m     data \u001b[38;5;241m=\u001b[39m \u001b[43mpd\u001b[49m\u001b[38;5;241;43m.\u001b[39;49m\u001b[43mconcat\u001b[49m\u001b[43m(\u001b[49m\u001b[43m[\u001b[49m\u001b[43mdata\u001b[49m\u001b[43m,\u001b[49m\u001b[43m \u001b[49m\u001b[43mtransformed_data\u001b[49m\u001b[38;5;241;43m.\u001b[39;49m\u001b[43mset_index\u001b[49m\u001b[43m(\u001b[49m\u001b[43mdata\u001b[49m\u001b[38;5;241;43m.\u001b[39;49m\u001b[43mindex\u001b[49m\u001b[43m)\u001b[49m\u001b[43m]\u001b[49m\u001b[43m,\u001b[49m\u001b[43m \u001b[49m\u001b[43maxis\u001b[49m\u001b[38;5;241;43m=\u001b[39;49m\u001b[38;5;241;43m1\u001b[39;49m\u001b[43m)\u001b[49m\n\u001b[1;32m    304\u001b[0m \u001b[38;5;28;01mreturn\u001b[39;00m data\n",
      "File \u001b[0;32m~/anaconda3/lib/python3.10/site-packages/pandas/core/reshape/concat.py:393\u001b[0m, in \u001b[0;36mconcat\u001b[0;34m(objs, axis, join, ignore_index, keys, levels, names, verify_integrity, sort, copy)\u001b[0m\n\u001b[1;32m    378\u001b[0m     copy \u001b[38;5;241m=\u001b[39m \u001b[38;5;28;01mFalse\u001b[39;00m\n\u001b[1;32m    380\u001b[0m op \u001b[38;5;241m=\u001b[39m _Concatenator(\n\u001b[1;32m    381\u001b[0m     objs,\n\u001b[1;32m    382\u001b[0m     axis\u001b[38;5;241m=\u001b[39maxis,\n\u001b[0;32m   (...)\u001b[0m\n\u001b[1;32m    390\u001b[0m     sort\u001b[38;5;241m=\u001b[39msort,\n\u001b[1;32m    391\u001b[0m )\n\u001b[0;32m--> 393\u001b[0m \u001b[38;5;28;01mreturn\u001b[39;00m \u001b[43mop\u001b[49m\u001b[38;5;241;43m.\u001b[39;49m\u001b[43mget_result\u001b[49m\u001b[43m(\u001b[49m\u001b[43m)\u001b[49m\n",
      "File \u001b[0;32m~/anaconda3/lib/python3.10/site-packages/pandas/core/reshape/concat.py:680\u001b[0m, in \u001b[0;36m_Concatenator.get_result\u001b[0;34m(self)\u001b[0m\n\u001b[1;32m    676\u001b[0m             indexers[ax] \u001b[38;5;241m=\u001b[39m obj_labels\u001b[38;5;241m.\u001b[39mget_indexer(new_labels)\n\u001b[1;32m    678\u001b[0m     mgrs_indexers\u001b[38;5;241m.\u001b[39mappend((obj\u001b[38;5;241m.\u001b[39m_mgr, indexers))\n\u001b[0;32m--> 680\u001b[0m new_data \u001b[38;5;241m=\u001b[39m \u001b[43mconcatenate_managers\u001b[49m\u001b[43m(\u001b[49m\n\u001b[1;32m    681\u001b[0m \u001b[43m    \u001b[49m\u001b[43mmgrs_indexers\u001b[49m\u001b[43m,\u001b[49m\u001b[43m \u001b[49m\u001b[38;5;28;43mself\u001b[39;49m\u001b[38;5;241;43m.\u001b[39;49m\u001b[43mnew_axes\u001b[49m\u001b[43m,\u001b[49m\u001b[43m \u001b[49m\u001b[43mconcat_axis\u001b[49m\u001b[38;5;241;43m=\u001b[39;49m\u001b[38;5;28;43mself\u001b[39;49m\u001b[38;5;241;43m.\u001b[39;49m\u001b[43mbm_axis\u001b[49m\u001b[43m,\u001b[49m\u001b[43m \u001b[49m\u001b[43mcopy\u001b[49m\u001b[38;5;241;43m=\u001b[39;49m\u001b[38;5;28;43mself\u001b[39;49m\u001b[38;5;241;43m.\u001b[39;49m\u001b[43mcopy\u001b[49m\n\u001b[1;32m    682\u001b[0m \u001b[43m\u001b[49m\u001b[43m)\u001b[49m\n\u001b[1;32m    683\u001b[0m \u001b[38;5;28;01mif\u001b[39;00m \u001b[38;5;129;01mnot\u001b[39;00m \u001b[38;5;28mself\u001b[39m\u001b[38;5;241m.\u001b[39mcopy \u001b[38;5;129;01mand\u001b[39;00m \u001b[38;5;129;01mnot\u001b[39;00m using_copy_on_write():\n\u001b[1;32m    684\u001b[0m     new_data\u001b[38;5;241m.\u001b[39m_consolidate_inplace()\n",
      "File \u001b[0;32m~/anaconda3/lib/python3.10/site-packages/pandas/core/internals/concat.py:131\u001b[0m, in \u001b[0;36mconcatenate_managers\u001b[0;34m(mgrs_indexers, axes, concat_axis, copy)\u001b[0m\n\u001b[1;32m    124\u001b[0m \u001b[38;5;66;03m# Assertions disabled for performance\u001b[39;00m\n\u001b[1;32m    125\u001b[0m \u001b[38;5;66;03m# for tup in mgrs_indexers:\u001b[39;00m\n\u001b[1;32m    126\u001b[0m \u001b[38;5;66;03m#    # caller is responsible for ensuring this\u001b[39;00m\n\u001b[1;32m    127\u001b[0m \u001b[38;5;66;03m#    indexers = tup[1]\u001b[39;00m\n\u001b[1;32m    128\u001b[0m \u001b[38;5;66;03m#    assert concat_axis not in indexers\u001b[39;00m\n\u001b[1;32m    130\u001b[0m \u001b[38;5;28;01mif\u001b[39;00m concat_axis \u001b[38;5;241m==\u001b[39m \u001b[38;5;241m0\u001b[39m:\n\u001b[0;32m--> 131\u001b[0m     mgrs \u001b[38;5;241m=\u001b[39m \u001b[43m_maybe_reindex_columns_na_proxy\u001b[49m\u001b[43m(\u001b[49m\u001b[43maxes\u001b[49m\u001b[43m,\u001b[49m\u001b[43m \u001b[49m\u001b[43mmgrs_indexers\u001b[49m\u001b[43m,\u001b[49m\u001b[43m \u001b[49m\u001b[43mneeds_copy\u001b[49m\u001b[43m)\u001b[49m\n\u001b[1;32m    132\u001b[0m     \u001b[38;5;28;01mreturn\u001b[39;00m mgrs[\u001b[38;5;241m0\u001b[39m]\u001b[38;5;241m.\u001b[39mconcat_horizontal(mgrs, axes)\n\u001b[1;32m    134\u001b[0m \u001b[38;5;28;01mif\u001b[39;00m \u001b[38;5;28mlen\u001b[39m(mgrs_indexers) \u001b[38;5;241m>\u001b[39m \u001b[38;5;241m0\u001b[39m \u001b[38;5;129;01mand\u001b[39;00m mgrs_indexers[\u001b[38;5;241m0\u001b[39m][\u001b[38;5;241m0\u001b[39m]\u001b[38;5;241m.\u001b[39mnblocks \u001b[38;5;241m>\u001b[39m \u001b[38;5;241m0\u001b[39m:\n",
      "File \u001b[0;32m~/anaconda3/lib/python3.10/site-packages/pandas/core/internals/concat.py:230\u001b[0m, in \u001b[0;36m_maybe_reindex_columns_na_proxy\u001b[0;34m(axes, mgrs_indexers, needs_copy)\u001b[0m\n\u001b[1;32m    220\u001b[0m         mgr \u001b[38;5;241m=\u001b[39m mgr\u001b[38;5;241m.\u001b[39mreindex_indexer(\n\u001b[1;32m    221\u001b[0m             axes[i],\n\u001b[1;32m    222\u001b[0m             indexers[i],\n\u001b[0;32m   (...)\u001b[0m\n\u001b[1;32m    227\u001b[0m             use_na_proxy\u001b[38;5;241m=\u001b[39m\u001b[38;5;28;01mTrue\u001b[39;00m,  \u001b[38;5;66;03m# only relevant for i==0\u001b[39;00m\n\u001b[1;32m    228\u001b[0m         )\n\u001b[1;32m    229\u001b[0m     \u001b[38;5;28;01mif\u001b[39;00m needs_copy \u001b[38;5;129;01mand\u001b[39;00m \u001b[38;5;129;01mnot\u001b[39;00m indexers:\n\u001b[0;32m--> 230\u001b[0m         mgr \u001b[38;5;241m=\u001b[39m \u001b[43mmgr\u001b[49m\u001b[38;5;241;43m.\u001b[39;49m\u001b[43mcopy\u001b[49m\u001b[43m(\u001b[49m\u001b[43m)\u001b[49m\n\u001b[1;32m    232\u001b[0m     new_mgrs\u001b[38;5;241m.\u001b[39mappend(mgr)\n\u001b[1;32m    233\u001b[0m \u001b[38;5;28;01mreturn\u001b[39;00m new_mgrs\n",
      "File \u001b[0;32m~/anaconda3/lib/python3.10/site-packages/pandas/core/internals/managers.py:576\u001b[0m, in \u001b[0;36mBaseBlockManager.copy\u001b[0;34m(self, deep)\u001b[0m\n\u001b[1;32m    573\u001b[0m     \u001b[38;5;28;01melse\u001b[39;00m:\n\u001b[1;32m    574\u001b[0m         new_axes \u001b[38;5;241m=\u001b[39m \u001b[38;5;28mlist\u001b[39m(\u001b[38;5;28mself\u001b[39m\u001b[38;5;241m.\u001b[39maxes)\n\u001b[0;32m--> 576\u001b[0m res \u001b[38;5;241m=\u001b[39m \u001b[38;5;28;43mself\u001b[39;49m\u001b[38;5;241;43m.\u001b[39;49m\u001b[43mapply\u001b[49m\u001b[43m(\u001b[49m\u001b[38;5;124;43m\"\u001b[39;49m\u001b[38;5;124;43mcopy\u001b[39;49m\u001b[38;5;124;43m\"\u001b[39;49m\u001b[43m,\u001b[49m\u001b[43m \u001b[49m\u001b[43mdeep\u001b[49m\u001b[38;5;241;43m=\u001b[39;49m\u001b[43mdeep\u001b[49m\u001b[43m)\u001b[49m\n\u001b[1;32m    577\u001b[0m res\u001b[38;5;241m.\u001b[39maxes \u001b[38;5;241m=\u001b[39m new_axes\n\u001b[1;32m    579\u001b[0m \u001b[38;5;28;01mif\u001b[39;00m \u001b[38;5;28mself\u001b[39m\u001b[38;5;241m.\u001b[39mndim \u001b[38;5;241m>\u001b[39m \u001b[38;5;241m1\u001b[39m:\n\u001b[1;32m    580\u001b[0m     \u001b[38;5;66;03m# Avoid needing to re-compute these\u001b[39;00m\n",
      "File \u001b[0;32m~/anaconda3/lib/python3.10/site-packages/pandas/core/internals/managers.py:354\u001b[0m, in \u001b[0;36mBaseBlockManager.apply\u001b[0;34m(self, f, align_keys, **kwargs)\u001b[0m\n\u001b[1;32m    352\u001b[0m         applied \u001b[38;5;241m=\u001b[39m b\u001b[38;5;241m.\u001b[39mapply(f, \u001b[38;5;241m*\u001b[39m\u001b[38;5;241m*\u001b[39mkwargs)\n\u001b[1;32m    353\u001b[0m     \u001b[38;5;28;01melse\u001b[39;00m:\n\u001b[0;32m--> 354\u001b[0m         applied \u001b[38;5;241m=\u001b[39m \u001b[38;5;28;43mgetattr\u001b[39;49m\u001b[43m(\u001b[49m\u001b[43mb\u001b[49m\u001b[43m,\u001b[49m\u001b[43m \u001b[49m\u001b[43mf\u001b[49m\u001b[43m)\u001b[49m\u001b[43m(\u001b[49m\u001b[38;5;241;43m*\u001b[39;49m\u001b[38;5;241;43m*\u001b[39;49m\u001b[43mkwargs\u001b[49m\u001b[43m)\u001b[49m\n\u001b[1;32m    355\u001b[0m     result_blocks \u001b[38;5;241m=\u001b[39m extend_blocks(applied, result_blocks)\n\u001b[1;32m    357\u001b[0m out \u001b[38;5;241m=\u001b[39m \u001b[38;5;28mtype\u001b[39m(\u001b[38;5;28mself\u001b[39m)\u001b[38;5;241m.\u001b[39mfrom_blocks(result_blocks, \u001b[38;5;28mself\u001b[39m\u001b[38;5;241m.\u001b[39maxes)\n",
      "File \u001b[0;32m~/anaconda3/lib/python3.10/site-packages/pandas/core/internals/blocks.py:645\u001b[0m, in \u001b[0;36mBlock.copy\u001b[0;34m(self, deep)\u001b[0m\n\u001b[1;32m    643\u001b[0m refs: BlockValuesRefs \u001b[38;5;241m|\u001b[39m \u001b[38;5;28;01mNone\u001b[39;00m\n\u001b[1;32m    644\u001b[0m \u001b[38;5;28;01mif\u001b[39;00m deep:\n\u001b[0;32m--> 645\u001b[0m     values \u001b[38;5;241m=\u001b[39m \u001b[43mvalues\u001b[49m\u001b[38;5;241;43m.\u001b[39;49m\u001b[43mcopy\u001b[49m\u001b[43m(\u001b[49m\u001b[43m)\u001b[49m\n\u001b[1;32m    646\u001b[0m     refs \u001b[38;5;241m=\u001b[39m \u001b[38;5;28;01mNone\u001b[39;00m\n\u001b[1;32m    647\u001b[0m \u001b[38;5;28;01melse\u001b[39;00m:\n",
      "\u001b[0;31mKeyboardInterrupt\u001b[0m: "
     ]
    }
   ],
   "source": [
    "def second_turn(label,dif):\n",
    "    if label>0:\n",
    "        return 0\n",
    "    if label==0:\n",
    "        return dif\n",
    "def fturn(df):\n",
    "    if list(df['label'])[0]>0: \n",
    "        after0=1\n",
    "    else: after0=1\n",
    "    return after0\n",
    "def fturn_test():\n",
    "    if list(df['label'])[0]>0: \n",
    "        after0=1\n",
    "    else: after0=1\n",
    "    return after0\n",
    "\n",
    "training_set=os.listdir(\"./training_set_df_acc_windowsize3_with_pre_feat3s/\")\n",
    "# training_set=['./gan_win6.csv','./gan_win6.csv']\n",
    "df=None\n",
    "for data in training_set:\n",
    "    if data.endswith('.csv'):\n",
    "        file=f\"./training_set_df_acc_windowsize3_with_pre_feat3s/{data}\"\n",
    "        \n",
    "        df=pd.read_csv(file)\n",
    "        df=df.astype(float)\n",
    "        print(df.shape)\n",
    "        df['previous_label']=df['label']\n",
    "\n",
    "        df['label']=df['label'].astype(\"category\")\n",
    "        df['previous_label']=df['label']\n",
    "        df['previous_label']=df['previous_label'].astype(int)\n",
    "        df['second_turn']=df['previous_label'].diff()\n",
    "        df['second_turn']=df.apply(lambda df:second_turn(df['label'],df['second_turn']),axis=1)\n",
    "        turn=list(df['second_turn'])\n",
    "        turn_2=[]\n",
    "\n",
    "        if (df['label'][0].item()>0): \n",
    "            count=2\n",
    "        else: \n",
    "            count=1\n",
    "        for i in range(len(turn)):\n",
    "\n",
    "            if turn[i]<-3:\n",
    "                count-=1\n",
    "            if count<=0:\n",
    "                turn_2.append(1) \n",
    "            else:\n",
    "                turn_2.append(0) \n",
    "        df['turn']=turn\n",
    "        df['second_turn']=turn_2\n",
    "        after1=[]\n",
    "\n",
    "# print(list(df['label'])[0])\n",
    "\n",
    "        after0=fturn(df)\n",
    "        sturn=True\n",
    "        for i in range(len(df.label)):\n",
    "\n",
    "            if (list(df['label'])[i]==1)|(list(df['label'])[i]==2)|(list(df['label'])[i]==3):\n",
    "                after0-=1\n",
    "            if (list(df['second_turn'])[i]>0) and sturn==True:\n",
    "                after0=fturn(df)\n",
    "                sturn=False\n",
    "            if after0<=0:\n",
    "        #         print(after0)\n",
    "                after1.append(1) \n",
    "            else:\n",
    "                after1.append(0) \n",
    "        df['after1']=after1\n",
    "        after4=[]\n",
    "        after0=fturn(df)\n",
    "        sturn=True\n",
    "        for i in range(len(df['label'])):\n",
    "            if (list(df['label'])[i]==4)|(list(df['label'])[i]==5)|(list(df['label'])[i]==6):\n",
    "                after0-=1\n",
    "            if (list(df['second_turn'])[i]>0) and sturn==True:\n",
    "                after0=fturn(df)\n",
    "                sturn=False\n",
    "            if after0<=0:\n",
    "        #         print(after0)\n",
    "                after4.append(1) \n",
    "            else:\n",
    "                after4.append(0) \n",
    "\n",
    "        df['after4']=after4\n",
    "        df=df.reset_index().rename(columns={df.index.name:'time'})\n",
    "        df=df.drop(['second_turn','turn'],axis=1)\n",
    "        df=df.dropna()\n",
    "        length_data=len(df)\n",
    "        metadata = SingleTableMetadata()\n",
    "        metadata.detect_from_dataframe(df)\n",
    "        model = sdv.lite.SingleTablePreset(name='FAST_ML', metadata=metadata)\n",
    "        model.fit(df)\n",
    "        df_gen=model.sample(num_rows=length_data)\n",
    "        df_gen.to_csv(f'./gandata/{data}')"
   ]
  },
  {
   "cell_type": "code",
   "execution_count": null,
   "id": "105c4033",
   "metadata": {},
   "outputs": [],
   "source": []
  },
  {
   "cell_type": "code",
   "execution_count": null,
   "id": "70dd85f3",
   "metadata": {},
   "outputs": [],
   "source": []
  },
  {
   "cell_type": "code",
   "execution_count": null,
   "id": "2f89c835",
   "metadata": {},
   "outputs": [],
   "source": []
  },
  {
   "cell_type": "code",
   "execution_count": null,
   "id": "3fb6fd52",
   "metadata": {},
   "outputs": [],
   "source": []
  },
  {
   "cell_type": "code",
   "execution_count": null,
   "id": "0b70ff4d",
   "metadata": {},
   "outputs": [],
   "source": []
  },
  {
   "cell_type": "code",
   "execution_count": null,
   "id": "221b9ec4",
   "metadata": {},
   "outputs": [],
   "source": []
  },
  {
   "cell_type": "code",
   "execution_count": null,
   "id": "df0f92cf",
   "metadata": {},
   "outputs": [],
   "source": []
  },
  {
   "cell_type": "code",
   "execution_count": null,
   "id": "a4afded4",
   "metadata": {},
   "outputs": [],
   "source": []
  },
  {
   "cell_type": "code",
   "execution_count": null,
   "id": "e6583f4b",
   "metadata": {},
   "outputs": [],
   "source": []
  },
  {
   "cell_type": "code",
   "execution_count": null,
   "id": "d92fcd1f",
   "metadata": {
    "scrolled": true
   },
   "outputs": [],
   "source": [
    "def second_turn(label,dif):\n",
    "    if label>0:\n",
    "        return 0\n",
    "    if label==0:\n",
    "        return dif\n",
    "def fturn(df):\n",
    "    if list(df['label'])[0]>0: \n",
    "        after0=1\n",
    "    else: after0=1\n",
    "    return after0\n",
    "def fturn_test():\n",
    "    if list(df['label'])[0]>0: \n",
    "        after0=1\n",
    "    else: after0=1\n",
    "    return after0\n",
    "\n",
    "training_set=os.listdir(\"./training_set_df_acc_windowsize3_with_pre_feat3s/\")\n",
    "# training_set=['./gan_win6.csv','./gan_win6.csv']\n",
    "df=None\n",
    "for data in training_set:\n",
    "    if data.endswith('.csv'):\n",
    "        file=f\"./training_set_df_acc_windowsize3_with_pre_feat3s/{data}\"\n",
    "        if df is None:\n",
    "            df=pd.read_csv(file)\n",
    "            df=df.astype(float)\n",
    "            print(df.shape)\n",
    "            df['previous_label']=df['label']\n",
    "            \n",
    "            df['label']=df['label'].astype(\"category\")\n",
    "            df['previous_label']=df['label']\n",
    "            df['previous_label']=df['previous_label'].astype(int)\n",
    "            df['second_turn']=df['previous_label'].diff()\n",
    "            df['second_turn']=df.apply(lambda df:second_turn(df['label'],df['second_turn']),axis=1)\n",
    "            turn=list(df['second_turn'])\n",
    "            turn_2=[]\n",
    "            \n",
    "            if (df['label'][0].item()>0): \n",
    "                count=2\n",
    "            else: \n",
    "                count=1\n",
    "            for i in range(len(turn)):\n",
    "\n",
    "                if turn[i]<-3:\n",
    "                    count-=1\n",
    "                if count<=0:\n",
    "                    turn_2.append(1) \n",
    "                else:\n",
    "                    turn_2.append(0) \n",
    "            df['turn']=turn\n",
    "            df['second_turn']=turn_2\n",
    "            after1=[]\n",
    "            \n",
    "# print(list(df['label'])[0])\n",
    "\n",
    "            after0=fturn(df)\n",
    "            sturn=True\n",
    "            for i in range(len(df.label)):\n",
    "\n",
    "                if (list(df['label'])[i]==1)|(list(df['label'])[i]==2)|(list(df['label'])[i]==3):\n",
    "                    after0-=1\n",
    "                if (list(df['second_turn'])[i]>0) and sturn==True:\n",
    "                    after0=fturn(df)\n",
    "                    sturn=False\n",
    "                if after0<=0:\n",
    "            #         print(after0)\n",
    "                    after1.append(1) \n",
    "                else:\n",
    "                    after1.append(0) \n",
    "            df['after1']=after1\n",
    "            after4=[]\n",
    "            after0=fturn(df)\n",
    "            sturn=True\n",
    "            for i in range(len(df['label'])):\n",
    "                if (list(df['label'])[i]==4)|(list(df['label'])[i]==5)|(list(df['label'])[i]==6):\n",
    "                    after0-=1\n",
    "                if (list(df['second_turn'])[i]>0) and sturn==True:\n",
    "                    after0=fturn(df)\n",
    "                    sturn=False\n",
    "                if after0<=0:\n",
    "            #         print(after0)\n",
    "                    after4.append(1) \n",
    "                else:\n",
    "                    after4.append(0) \n",
    "\n",
    "            df['after4']=after4\n",
    "            df=df.reset_index().rename(columns={df.index.name:'time'})\n",
    "        else:\n",
    "            d=pd.read_csv(file)\n",
    "            d['previous_label']=d['label']\n",
    "            d['previous_label']=d['previous_label'].astype(int)\n",
    "            d['label']=d['label'].astype(\"category\")\n",
    "            d['second_turn']=d['previous_label'].diff()\n",
    "            d['second_turn']=d.apply(lambda d:second_turn(d['label'],d['second_turn']),axis=1)\n",
    "            turn=list(d['second_turn'])\n",
    "            turn_2=[]\n",
    "            if (d['label'][0].item()>0): \n",
    "                count=2\n",
    "            else: count=1\n",
    "            for i in range(len(turn)):\n",
    "                if turn[i]<-3:\n",
    "                    count-=1\n",
    "                if count<=0:\n",
    "                    turn_2.append(1) \n",
    "                else:\n",
    "                    turn_2.append(0) \n",
    "            d['second_turn']=turn_2\n",
    "            d['turn']=turn\n",
    "            after1=[]\n",
    "            \n",
    "# print(list(df['label'])[0])\n",
    "\n",
    "            after0=fturn(d)\n",
    "            sturn=True\n",
    "            for i in range(len(d.label)):\n",
    "\n",
    "                if (list(d['label'])[i]==1)|(list(d['label'])[i]==2)|(list(d['label'])[i]==3):\n",
    "                    after0-=1\n",
    "                if (list(d['second_turn'])[i]>0) and sturn==True:\n",
    "                    after0=fturn(d)\n",
    "                    sturn=False\n",
    "                if after0<=0:\n",
    "            #         print(after0)\n",
    "                    after1.append(1) \n",
    "                else:\n",
    "                    after1.append(0) \n",
    "            d['after1']=after1\n",
    "            after4=[]\n",
    "            after0=fturn(d)\n",
    "            sturn=True\n",
    "            for i in range(len(d['label'])):\n",
    "                if (list(d['label'])[i]==4)|(list(d['label'])[i]==5)|(list(d['label'])[i]==6):\n",
    "                    after0-=1\n",
    "                if (list(df['second_turn'])[i]>0) and sturn==True:\n",
    "                    after0=fturn(d)\n",
    "                    sturn=False\n",
    "                if after0<=0:\n",
    "            #         print(after0)\n",
    "                    after4.append(1) \n",
    "                else:\n",
    "                    after4.append(0) \n",
    "\n",
    "            d['after4']=after4\n",
    "            d=d.reset_index().rename(columns={d.index.name:'time'})\n",
    "            df=pd.concat([df,d])\n",
    "\n",
    "df=df.drop(['second_turn','turn'],axis=1)\n",
    "df_train=df\n",
    "df_train=df_train.dropna()\n",
    "print(df_train.shape)\n",
    "\n",
    "print(df_train.isna().sum())\n",
    "df_train[['after1','after4','label','previous_label']]=df_train[['after1','after4','label','previous_label']].astype(int)\n",
    "# df_train=df_train.dropna(axis=0)"
   ]
  },
  {
   "cell_type": "code",
   "execution_count": null,
   "id": "dd9ec4eb",
   "metadata": {},
   "outputs": [],
   "source": [
    "print(df_train.isna().sum())"
   ]
  },
  {
   "cell_type": "code",
   "execution_count": null,
   "id": "752d291f",
   "metadata": {},
   "outputs": [],
   "source": [
    "# from ctgan import CTGAN\n",
    "# df_train=df_train\n",
    "# df_train=df_train.reset_index(drop=True)\n",
    "# # print(df_train)\n",
    "# gan=CTGAN(verbose=True,batch_size=1146)\n",
    "# print('fit')\n",
    "# gan.fit(df_train,df_train.columns, epochs=4)\n",
    "# sample=gan.sample(4000)\n",
    "# sample"
   ]
  },
  {
   "cell_type": "code",
   "execution_count": null,
   "id": "c14dcc90",
   "metadata": {},
   "outputs": [],
   "source": []
  },
  {
   "cell_type": "code",
   "execution_count": null,
   "id": "4a537e70",
   "metadata": {},
   "outputs": [],
   "source": [
    "# model.save('ctgan_model.pkl')\n",
    "df_train.info(verbose=True)"
   ]
  },
  {
   "cell_type": "code",
   "execution_count": null,
   "id": "eb44a222",
   "metadata": {},
   "outputs": [],
   "source": [
    "import sdv\n",
    "from sdv.metadata import SingleTableMetadata\n",
    "print(df_train)\n",
    "metadata = SingleTableMetadata()\n",
    "metadata.detect_from_dataframe(df_train)\n",
    "print(metadata)\n"
   ]
  },
  {
   "cell_type": "code",
   "execution_count": null,
   "id": "093e8e45",
   "metadata": {},
   "outputs": [],
   "source": [
    "model = sdv.lite.SingleTablePreset(name='FAST_ML', metadata=metadata)\n",
    "model.fit(df_train)\n",
    "model.save('./fast_ml_model1.pkl')"
   ]
  },
  {
   "cell_type": "code",
   "execution_count": null,
   "id": "560e8aee",
   "metadata": {},
   "outputs": [],
   "source": [
    "model.save('./fast_ml_model1.pkl')"
   ]
  },
  {
   "cell_type": "code",
   "execution_count": null,
   "id": "c146d6cd",
   "metadata": {},
   "outputs": [],
   "source": [
    "model = sdv.lite.SingleTablePreset.load('./fast_ml_model1.pkl')"
   ]
  },
  {
   "cell_type": "code",
   "execution_count": null,
   "id": "0ce9182f",
   "metadata": {},
   "outputs": [],
   "source": [
    "df_gen=model.sample(num_rows=50000)"
   ]
  },
  {
   "cell_type": "code",
   "execution_count": null,
   "id": "c944d476",
   "metadata": {},
   "outputs": [],
   "source": [
    "df_gen.to_csv('./SDV_gen_50k.csv',index=False)"
   ]
  },
  {
   "cell_type": "code",
   "execution_count": null,
   "id": "755ee5f9",
   "metadata": {},
   "outputs": [],
   "source": [
    "df_gen.columns"
   ]
  },
  {
   "cell_type": "code",
   "execution_count": null,
   "id": "b94814ab",
   "metadata": {},
   "outputs": [],
   "source": []
  },
  {
   "cell_type": "code",
   "execution_count": null,
   "id": "0c073c23",
   "metadata": {},
   "outputs": [],
   "source": [
    "df2=pd.read_csv('./SDV_gen_50k.csv')\n",
    "sdv_to_1000=pd.DataFrame(columns=df2.columns)\n",
    "for i in df2.label.unique():\n",
    "    if i==0:\n",
    "        continue\n",
    "    if i==7: continue\n",
    "    j=1000\n",
    "    print(j)\n",
    "    df_check=df2[df2['label']==i]\n",
    "    try:\n",
    "        df_add=df_check.iloc[:j,:]\n",
    "    except:\n",
    "        df_add=df_check\n",
    "    sdv_to_1000=pd.concat([sdv_to_1000,df_add])\n",
    "sdv_to_1000.to_csv('./SDV_gen_1k.csv')"
   ]
  }
 ],
 "metadata": {
  "kernelspec": {
   "display_name": "Python 3 (ipykernel)",
   "language": "python",
   "name": "python3"
  },
  "language_info": {
   "codemirror_mode": {
    "name": "ipython",
    "version": 3
   },
   "file_extension": ".py",
   "mimetype": "text/x-python",
   "name": "python",
   "nbconvert_exporter": "python",
   "pygments_lexer": "ipython3",
   "version": "3.10.9"
  }
 },
 "nbformat": 4,
 "nbformat_minor": 5
}
