{
 "cells": [
  {
   "cell_type": "code",
   "execution_count": 4,
   "id": "7012296e",
   "metadata": {},
   "outputs": [],
   "source": [
    "import pandas as pd\n",
    "import numpy as np\n",
    "import seaborn as sns\n",
    "import matplotlib.pyplot as plt\n",
    "import os\n",
    "from sklearn.model_selection import train_test_split\n",
    "from sklearn.preprocessing import StandardScaler\n",
    "import tensorflow as tf\n",
    "from tensorflow import keras\n",
    "from tensorflow.keras import layers\n",
    "\n",
    "import pandas as pd # data processing\n",
    "from tensorflow.keras.models import Sequential\n",
    "from tensorflow.keras.layers import Dense,Conv1D,Dropout,LSTM, Bidirectional\n",
    "import tensorflow as tf\n",
    "from sklearn.preprocessing import MinMaxScaler\n",
    "from sklearn.preprocessing import StandardScaler\n",
    "from sklearn.metrics import confusion_matrix\n",
    "from keras.layers import BatchNormalization, Dropout\n",
    "from keras.layers import Dense, Activation\n",
    "from tensorflow import keras\n",
    "from tensorflow.keras.callbacks import EarlyStopping\n",
    "import torch\n",
    "from torch.nn import Transformer\n",
    "from sklearn.preprocessing import StandardScaler #good\n",
    "from sklearn.preprocessing import MinMaxScaler,MaxAbsScaler\n",
    "from sklearn import metrics #accuracy measure\n",
    "import joblib\n",
    "import warnings\n",
    "import sdv\n",
    "from sdv.metadata import SingleTableMetadata"
   ]
  },
  {
   "cell_type": "code",
   "execution_count": 5,
   "id": "11f24032",
   "metadata": {
    "scrolled": true
   },
   "outputs": [],
   "source": [
    "def second_turn(label,dif):\n",
    "    if label>0:\n",
    "        return 0\n",
    "    if label==0:\n",
    "        return dif\n",
    "def fturn(df):\n",
    "    if list(df['label'])[0]>0: \n",
    "        after0=1\n",
    "    else: after0=1\n",
    "    return after0\n",
    "def fturn_test():\n",
    "    if list(df['label'])[0]>0: \n",
    "        after0=1\n",
    "    else: after0=1\n",
    "    return after0\n",
    "\n",
    "training_set=os.listdir(\"./training_set_df_acc_windowsize3_with_pre_feat3s/\")\n",
    "# training_set=['./gan_win6.csv','./gan_win6.csv']\n"
   ]
  },
  {
   "cell_type": "code",
   "execution_count": 6,
   "id": "105c4033",
   "metadata": {},
   "outputs": [],
   "source": [
    "column_df=pd.read_csv('columns2k.csv')\n",
    "col=column_df.columns"
   ]
  },
  {
   "cell_type": "code",
   "execution_count": null,
   "id": "70dd85f3",
   "metadata": {},
   "outputs": [],
   "source": []
  },
  {
   "cell_type": "code",
   "execution_count": 8,
   "id": "2f89c835",
   "metadata": {},
   "outputs": [
    {
     "name": "stdout",
     "output_type": "stream",
     "text": [
      "(211, 8682)\n"
     ]
    },
    {
     "name": "stderr",
     "output_type": "stream",
     "text": [
      "/Users/khangphan/anaconda3/lib/python3.10/site-packages/sdv/single_table/base.py:79: UserWarning: We strongly recommend saving the metadata using 'save_to_json' for replicability in future SDV versions.\n",
      "  warnings.warn(\n"
     ]
    },
    {
     "name": "stdout",
     "output_type": "stream",
     "text": [
      "(204, 8682)\n"
     ]
    },
    {
     "name": "stderr",
     "output_type": "stream",
     "text": [
      "/Users/khangphan/anaconda3/lib/python3.10/site-packages/sdv/single_table/base.py:79: UserWarning: We strongly recommend saving the metadata using 'save_to_json' for replicability in future SDV versions.\n",
      "  warnings.warn(\n"
     ]
    },
    {
     "name": "stdout",
     "output_type": "stream",
     "text": [
      "(226, 8682)\n"
     ]
    },
    {
     "name": "stderr",
     "output_type": "stream",
     "text": [
      "/Users/khangphan/anaconda3/lib/python3.10/site-packages/sdv/single_table/base.py:79: UserWarning: We strongly recommend saving the metadata using 'save_to_json' for replicability in future SDV versions.\n",
      "  warnings.warn(\n"
     ]
    },
    {
     "name": "stdout",
     "output_type": "stream",
     "text": [
      "(204, 8682)\n"
     ]
    },
    {
     "name": "stderr",
     "output_type": "stream",
     "text": [
      "/Users/khangphan/anaconda3/lib/python3.10/site-packages/sdv/single_table/base.py:79: UserWarning: We strongly recommend saving the metadata using 'save_to_json' for replicability in future SDV versions.\n",
      "  warnings.warn(\n"
     ]
    },
    {
     "name": "stdout",
     "output_type": "stream",
     "text": [
      "(313, 8682)\n"
     ]
    },
    {
     "name": "stderr",
     "output_type": "stream",
     "text": [
      "/Users/khangphan/anaconda3/lib/python3.10/site-packages/sdv/single_table/base.py:79: UserWarning: We strongly recommend saving the metadata using 'save_to_json' for replicability in future SDV versions.\n",
      "  warnings.warn(\n"
     ]
    },
    {
     "name": "stdout",
     "output_type": "stream",
     "text": [
      "(305, 8682)\n"
     ]
    },
    {
     "name": "stderr",
     "output_type": "stream",
     "text": [
      "/Users/khangphan/anaconda3/lib/python3.10/site-packages/sdv/single_table/base.py:79: UserWarning: We strongly recommend saving the metadata using 'save_to_json' for replicability in future SDV versions.\n",
      "  warnings.warn(\n"
     ]
    },
    {
     "name": "stdout",
     "output_type": "stream",
     "text": [
      "(222, 8682)\n"
     ]
    },
    {
     "name": "stderr",
     "output_type": "stream",
     "text": [
      "/Users/khangphan/anaconda3/lib/python3.10/site-packages/sdv/single_table/base.py:79: UserWarning: We strongly recommend saving the metadata using 'save_to_json' for replicability in future SDV versions.\n",
      "  warnings.warn(\n"
     ]
    },
    {
     "name": "stdout",
     "output_type": "stream",
     "text": [
      "(207, 8682)\n"
     ]
    },
    {
     "name": "stderr",
     "output_type": "stream",
     "text": [
      "/Users/khangphan/anaconda3/lib/python3.10/site-packages/sdv/single_table/base.py:79: UserWarning: We strongly recommend saving the metadata using 'save_to_json' for replicability in future SDV versions.\n",
      "  warnings.warn(\n"
     ]
    },
    {
     "name": "stdout",
     "output_type": "stream",
     "text": [
      "(159, 8682)\n"
     ]
    },
    {
     "name": "stderr",
     "output_type": "stream",
     "text": [
      "/Users/khangphan/anaconda3/lib/python3.10/site-packages/sdv/single_table/base.py:79: UserWarning: We strongly recommend saving the metadata using 'save_to_json' for replicability in future SDV versions.\n",
      "  warnings.warn(\n"
     ]
    },
    {
     "name": "stdout",
     "output_type": "stream",
     "text": [
      "(213, 8682)\n"
     ]
    },
    {
     "name": "stderr",
     "output_type": "stream",
     "text": [
      "/Users/khangphan/anaconda3/lib/python3.10/site-packages/sdv/single_table/base.py:79: UserWarning: We strongly recommend saving the metadata using 'save_to_json' for replicability in future SDV versions.\n",
      "  warnings.warn(\n"
     ]
    },
    {
     "name": "stdout",
     "output_type": "stream",
     "text": [
      "(186, 8682)\n"
     ]
    },
    {
     "name": "stderr",
     "output_type": "stream",
     "text": [
      "/Users/khangphan/anaconda3/lib/python3.10/site-packages/sdv/single_table/base.py:79: UserWarning: We strongly recommend saving the metadata using 'save_to_json' for replicability in future SDV versions.\n",
      "  warnings.warn(\n"
     ]
    },
    {
     "name": "stdout",
     "output_type": "stream",
     "text": [
      "(165, 8682)\n"
     ]
    },
    {
     "name": "stderr",
     "output_type": "stream",
     "text": [
      "/Users/khangphan/anaconda3/lib/python3.10/site-packages/sdv/single_table/base.py:79: UserWarning: We strongly recommend saving the metadata using 'save_to_json' for replicability in future SDV versions.\n",
      "  warnings.warn(\n"
     ]
    },
    {
     "name": "stdout",
     "output_type": "stream",
     "text": [
      "(164, 8682)\n"
     ]
    },
    {
     "name": "stderr",
     "output_type": "stream",
     "text": [
      "/Users/khangphan/anaconda3/lib/python3.10/site-packages/sdv/single_table/base.py:79: UserWarning: We strongly recommend saving the metadata using 'save_to_json' for replicability in future SDV versions.\n",
      "  warnings.warn(\n"
     ]
    },
    {
     "name": "stdout",
     "output_type": "stream",
     "text": [
      "(137, 8682)\n"
     ]
    },
    {
     "name": "stderr",
     "output_type": "stream",
     "text": [
      "/Users/khangphan/anaconda3/lib/python3.10/site-packages/sdv/single_table/base.py:79: UserWarning: We strongly recommend saving the metadata using 'save_to_json' for replicability in future SDV versions.\n",
      "  warnings.warn(\n"
     ]
    },
    {
     "name": "stdout",
     "output_type": "stream",
     "text": [
      "(135, 8682)\n"
     ]
    },
    {
     "name": "stderr",
     "output_type": "stream",
     "text": [
      "/Users/khangphan/anaconda3/lib/python3.10/site-packages/sdv/single_table/base.py:79: UserWarning: We strongly recommend saving the metadata using 'save_to_json' for replicability in future SDV versions.\n",
      "  warnings.warn(\n"
     ]
    },
    {
     "name": "stdout",
     "output_type": "stream",
     "text": [
      "(171, 8682)\n"
     ]
    },
    {
     "name": "stderr",
     "output_type": "stream",
     "text": [
      "/Users/khangphan/anaconda3/lib/python3.10/site-packages/sdv/single_table/base.py:79: UserWarning: We strongly recommend saving the metadata using 'save_to_json' for replicability in future SDV versions.\n",
      "  warnings.warn(\n"
     ]
    },
    {
     "name": "stdout",
     "output_type": "stream",
     "text": [
      "(189, 8682)\n"
     ]
    },
    {
     "name": "stderr",
     "output_type": "stream",
     "text": [
      "/Users/khangphan/anaconda3/lib/python3.10/site-packages/sdv/single_table/base.py:79: UserWarning: We strongly recommend saving the metadata using 'save_to_json' for replicability in future SDV versions.\n",
      "  warnings.warn(\n"
     ]
    },
    {
     "name": "stdout",
     "output_type": "stream",
     "text": [
      "(133, 8682)\n"
     ]
    },
    {
     "name": "stderr",
     "output_type": "stream",
     "text": [
      "/Users/khangphan/anaconda3/lib/python3.10/site-packages/sdv/single_table/base.py:79: UserWarning: We strongly recommend saving the metadata using 'save_to_json' for replicability in future SDV versions.\n",
      "  warnings.warn(\n"
     ]
    },
    {
     "name": "stdout",
     "output_type": "stream",
     "text": [
      "(167, 8682)\n"
     ]
    },
    {
     "name": "stderr",
     "output_type": "stream",
     "text": [
      "/Users/khangphan/anaconda3/lib/python3.10/site-packages/sdv/single_table/base.py:79: UserWarning: We strongly recommend saving the metadata using 'save_to_json' for replicability in future SDV versions.\n",
      "  warnings.warn(\n"
     ]
    },
    {
     "name": "stdout",
     "output_type": "stream",
     "text": [
      "(172, 8682)\n"
     ]
    },
    {
     "name": "stderr",
     "output_type": "stream",
     "text": [
      "/Users/khangphan/anaconda3/lib/python3.10/site-packages/sdv/single_table/base.py:79: UserWarning: We strongly recommend saving the metadata using 'save_to_json' for replicability in future SDV versions.\n",
      "  warnings.warn(\n"
     ]
    }
   ],
   "source": [
    "df=None\n",
    "for data in training_set:\n",
    "    if data.endswith('.csv'):\n",
    "        file=f\"./training_set_df_acc_windowsize3_with_pre_feat3s/{data}\"\n",
    "        \n",
    "        df=pd.read_csv(file)\n",
    "        df=df.astype(float)\n",
    "        print(df.shape)\n",
    "        df['previous_label']=df['label']\n",
    "\n",
    "        df['label']=df['label'].astype(\"category\")\n",
    "        df['previous_label']=df['label']\n",
    "        df['previous_label']=df['previous_label'].astype(int)\n",
    "        df['second_turn']=df['previous_label'].diff()\n",
    "        df['second_turn']=df.apply(lambda df:second_turn(df['label'],df['second_turn']),axis=1)\n",
    "        turn=list(df['second_turn'])\n",
    "        turn_2=[]\n",
    "\n",
    "        if (df['label'][0].item()>0): \n",
    "            count=2\n",
    "        else: \n",
    "            count=1\n",
    "        for i in range(len(turn)):\n",
    "\n",
    "            if turn[i]<-3:\n",
    "                count-=1\n",
    "            if count<=0:\n",
    "                turn_2.append(1) \n",
    "            else:\n",
    "                turn_2.append(0) \n",
    "        df['turn']=turn\n",
    "        df['second_turn']=turn_2\n",
    "        after1=[]\n",
    "\n",
    "# print(list(df['label'])[0])\n",
    "\n",
    "        after0=fturn(df)\n",
    "        sturn=True\n",
    "        for i in range(len(df.label)):\n",
    "\n",
    "            if (list(df['label'])[i]==1)|(list(df['label'])[i]==2)|(list(df['label'])[i]==3):\n",
    "                after0-=1\n",
    "            if (list(df['second_turn'])[i]>0) and sturn==True:\n",
    "                after0=fturn(df)\n",
    "                sturn=False\n",
    "            if after0<=0:\n",
    "        #         print(after0)\n",
    "                after1.append(1) \n",
    "            else:\n",
    "                after1.append(0) \n",
    "        df['after1']=after1\n",
    "        after4=[]\n",
    "        after0=fturn(df)\n",
    "        sturn=True\n",
    "        for i in range(len(df['label'])):\n",
    "            if (list(df['label'])[i]==4)|(list(df['label'])[i]==5)|(list(df['label'])[i]==6):\n",
    "                after0-=1\n",
    "            if (list(df['second_turn'])[i]>0) and sturn==True:\n",
    "                after0=fturn(df)\n",
    "                sturn=False\n",
    "            if after0<=0:\n",
    "        #         print(after0)\n",
    "                after4.append(1) \n",
    "            else:\n",
    "                after4.append(0) \n",
    "\n",
    "        df['after4']=after4\n",
    "        df=df.reset_index().rename(columns={df.index.name:'time'})\n",
    "        df=df.drop(['second_turn','turn'],axis=1)\n",
    "        df=df.dropna()\n",
    "        df=df.loc[:,col]\n",
    "        length_data=len(df)\n",
    "        metadata = SingleTableMetadata()\n",
    "        metadata.detect_from_dataframe(df)\n",
    "        model = sdv.lite.SingleTablePreset(name='FAST_ML', metadata=metadata)\n",
    "        model.fit(df)\n",
    "        df_gen=model.sample(num_rows=length_data)\n",
    "        df_gen.to_csv(f'./gandata2k/{data}')"
   ]
  },
  {
   "cell_type": "code",
   "execution_count": null,
   "id": "3fb6fd52",
   "metadata": {},
   "outputs": [],
   "source": []
  },
  {
   "cell_type": "code",
   "execution_count": null,
   "id": "0b70ff4d",
   "metadata": {},
   "outputs": [],
   "source": []
  },
  {
   "cell_type": "code",
   "execution_count": null,
   "id": "221b9ec4",
   "metadata": {},
   "outputs": [],
   "source": []
  },
  {
   "cell_type": "code",
   "execution_count": null,
   "id": "df0f92cf",
   "metadata": {},
   "outputs": [],
   "source": []
  },
  {
   "cell_type": "code",
   "execution_count": null,
   "id": "a4afded4",
   "metadata": {},
   "outputs": [],
   "source": []
  },
  {
   "cell_type": "code",
   "execution_count": null,
   "id": "e6583f4b",
   "metadata": {},
   "outputs": [],
   "source": []
  },
  {
   "cell_type": "code",
   "execution_count": null,
   "id": "d92fcd1f",
   "metadata": {
    "scrolled": true
   },
   "outputs": [],
   "source": [
    "def second_turn(label,dif):\n",
    "    if label>0:\n",
    "        return 0\n",
    "    if label==0:\n",
    "        return dif\n",
    "def fturn(df):\n",
    "    if list(df['label'])[0]>0: \n",
    "        after0=1\n",
    "    else: after0=1\n",
    "    return after0\n",
    "def fturn_test():\n",
    "    if list(df['label'])[0]>0: \n",
    "        after0=1\n",
    "    else: after0=1\n",
    "    return after0\n",
    "\n",
    "training_set=os.listdir(\"./training_set_df_acc_windowsize3_with_pre_feat3s/\")\n",
    "# training_set=['./gan_win6.csv','./gan_win6.csv']\n",
    "df=None\n",
    "for data in training_set:\n",
    "    if data.endswith('.csv'):\n",
    "        file=f\"./training_set_df_acc_windowsize3_with_pre_feat3s/{data}\"\n",
    "        if df is None:\n",
    "            df=pd.read_csv(file)\n",
    "            df=df.astype(float)\n",
    "            print(df.shape)\n",
    "            df['previous_label']=df['label']\n",
    "            \n",
    "            df['label']=df['label'].astype(\"category\")\n",
    "            df['previous_label']=df['label']\n",
    "            df['previous_label']=df['previous_label'].astype(int)\n",
    "            df['second_turn']=df['previous_label'].diff()\n",
    "            df['second_turn']=df.apply(lambda df:second_turn(df['label'],df['second_turn']),axis=1)\n",
    "            turn=list(df['second_turn'])\n",
    "            turn_2=[]\n",
    "            \n",
    "            if (df['label'][0].item()>0): \n",
    "                count=2\n",
    "            else: \n",
    "                count=1\n",
    "            for i in range(len(turn)):\n",
    "\n",
    "                if turn[i]<-3:\n",
    "                    count-=1\n",
    "                if count<=0:\n",
    "                    turn_2.append(1) \n",
    "                else:\n",
    "                    turn_2.append(0) \n",
    "            df['turn']=turn\n",
    "            df['second_turn']=turn_2\n",
    "            after1=[]\n",
    "            \n",
    "# print(list(df['label'])[0])\n",
    "\n",
    "            after0=fturn(df)\n",
    "            sturn=True\n",
    "            for i in range(len(df.label)):\n",
    "\n",
    "                if (list(df['label'])[i]==1)|(list(df['label'])[i]==2)|(list(df['label'])[i]==3):\n",
    "                    after0-=1\n",
    "                if (list(df['second_turn'])[i]>0) and sturn==True:\n",
    "                    after0=fturn(df)\n",
    "                    sturn=False\n",
    "                if after0<=0:\n",
    "            #         print(after0)\n",
    "                    after1.append(1) \n",
    "                else:\n",
    "                    after1.append(0) \n",
    "            df['after1']=after1\n",
    "            after4=[]\n",
    "            after0=fturn(df)\n",
    "            sturn=True\n",
    "            for i in range(len(df['label'])):\n",
    "                if (list(df['label'])[i]==4)|(list(df['label'])[i]==5)|(list(df['label'])[i]==6):\n",
    "                    after0-=1\n",
    "                if (list(df['second_turn'])[i]>0) and sturn==True:\n",
    "                    after0=fturn(df)\n",
    "                    sturn=False\n",
    "                if after0<=0:\n",
    "            #         print(after0)\n",
    "                    after4.append(1) \n",
    "                else:\n",
    "                    after4.append(0) \n",
    "\n",
    "            df['after4']=after4\n",
    "            df=df.reset_index().rename(columns={df.index.name:'time'})\n",
    "        else:\n",
    "            d=pd.read_csv(file)\n",
    "            d['previous_label']=d['label']\n",
    "            d['previous_label']=d['previous_label'].astype(int)\n",
    "            d['label']=d['label'].astype(\"category\")\n",
    "            d['second_turn']=d['previous_label'].diff()\n",
    "            d['second_turn']=d.apply(lambda d:second_turn(d['label'],d['second_turn']),axis=1)\n",
    "            turn=list(d['second_turn'])\n",
    "            turn_2=[]\n",
    "            if (d['label'][0].item()>0): \n",
    "                count=2\n",
    "            else: count=1\n",
    "            for i in range(len(turn)):\n",
    "                if turn[i]<-3:\n",
    "                    count-=1\n",
    "                if count<=0:\n",
    "                    turn_2.append(1) \n",
    "                else:\n",
    "                    turn_2.append(0) \n",
    "            d['second_turn']=turn_2\n",
    "            d['turn']=turn\n",
    "            after1=[]\n",
    "            \n",
    "# print(list(df['label'])[0])\n",
    "\n",
    "            after0=fturn(d)\n",
    "            sturn=True\n",
    "            for i in range(len(d.label)):\n",
    "\n",
    "                if (list(d['label'])[i]==1)|(list(d['label'])[i]==2)|(list(d['label'])[i]==3):\n",
    "                    after0-=1\n",
    "                if (list(d['second_turn'])[i]>0) and sturn==True:\n",
    "                    after0=fturn(d)\n",
    "                    sturn=False\n",
    "                if after0<=0:\n",
    "            #         print(after0)\n",
    "                    after1.append(1) \n",
    "                else:\n",
    "                    after1.append(0) \n",
    "            d['after1']=after1\n",
    "            after4=[]\n",
    "            after0=fturn(d)\n",
    "            sturn=True\n",
    "            for i in range(len(d['label'])):\n",
    "                if (list(d['label'])[i]==4)|(list(d['label'])[i]==5)|(list(d['label'])[i]==6):\n",
    "                    after0-=1\n",
    "                if (list(df['second_turn'])[i]>0) and sturn==True:\n",
    "                    after0=fturn(d)\n",
    "                    sturn=False\n",
    "                if after0<=0:\n",
    "            #         print(after0)\n",
    "                    after4.append(1) \n",
    "                else:\n",
    "                    after4.append(0) \n",
    "\n",
    "            d['after4']=after4\n",
    "            d=d.reset_index().rename(columns={d.index.name:'time'})\n",
    "            df=pd.concat([df,d])\n",
    "\n",
    "df=df.drop(['second_turn','turn'],axis=1)\n",
    "df_train=df\n",
    "df_train=df_train.dropna()\n",
    "print(df_train.shape)\n",
    "\n",
    "print(df_train.isna().sum())\n",
    "df_train[['after1','after4','label','previous_label']]=df_train[['after1','after4','label','previous_label']].astype(int)\n",
    "# df_train=df_train.dropna(axis=0)"
   ]
  },
  {
   "cell_type": "code",
   "execution_count": null,
   "id": "8b4b672f",
   "metadata": {},
   "outputs": [],
   "source": []
  },
  {
   "cell_type": "code",
   "execution_count": null,
   "id": "fabd1cdc",
   "metadata": {},
   "outputs": [],
   "source": []
  },
  {
   "cell_type": "code",
   "execution_count": null,
   "id": "d3f30467",
   "metadata": {},
   "outputs": [],
   "source": []
  },
  {
   "cell_type": "code",
   "execution_count": null,
   "id": "38cf267e",
   "metadata": {},
   "outputs": [],
   "source": []
  },
  {
   "cell_type": "code",
   "execution_count": null,
   "id": "6cadba76",
   "metadata": {},
   "outputs": [],
   "source": []
  },
  {
   "cell_type": "code",
   "execution_count": null,
   "id": "0b116b9d",
   "metadata": {},
   "outputs": [],
   "source": []
  },
  {
   "cell_type": "code",
   "execution_count": null,
   "id": "c587bb9d",
   "metadata": {},
   "outputs": [],
   "source": []
  },
  {
   "cell_type": "code",
   "execution_count": null,
   "id": "4a0233c8",
   "metadata": {},
   "outputs": [],
   "source": [
    "df=None\n",
    "for data in training_set:\n",
    "    if data.endswith('.csv'):\n",
    "        file=f\"./training_set_df_acc_windowsize3_with_pre_feat3s/{data}\"\n",
    "        \n",
    "        df=pd.read_csv(file)\n",
    "        df=df.astype(float)\n",
    "        print(df.shape)\n",
    "        df['previous_label']=df['label']\n",
    "\n",
    "        df['label']=df['label'].astype(\"category\")\n",
    "        df['previous_label']=df['label']\n",
    "        df['previous_label']=df['previous_label'].astype(int)\n",
    "        df['second_turn']=df['previous_label'].diff()\n",
    "        df['second_turn']=df.apply(lambda df:second_turn(df['label'],df['second_turn']),axis=1)\n",
    "        turn=list(df['second_turn'])\n",
    "        turn_2=[]\n",
    "\n",
    "        if (df['label'][0].item()>0): \n",
    "            count=2\n",
    "        else: \n",
    "            count=1\n",
    "        for i in range(len(turn)):\n",
    "\n",
    "            if turn[i]<-3:\n",
    "                count-=1\n",
    "            if count<=0:\n",
    "                turn_2.append(1) \n",
    "            else:\n",
    "                turn_2.append(0) \n",
    "        df['turn']=turn\n",
    "        df['second_turn']=turn_2\n",
    "        after1=[]\n",
    "\n",
    "# print(list(df['label'])[0])\n",
    "\n",
    "        after0=fturn(df)\n",
    "        sturn=True\n",
    "        for i in range(len(df.label)):\n",
    "\n",
    "            if (list(df['label'])[i]==1)|(list(df['label'])[i]==2)|(list(df['label'])[i]==3):\n",
    "                after0-=1\n",
    "            if (list(df['second_turn'])[i]>0) and sturn==True:\n",
    "                after0=fturn(df)\n",
    "                sturn=False\n",
    "            if after0<=0:\n",
    "        #         print(after0)\n",
    "                after1.append(1) \n",
    "            else:\n",
    "                after1.append(0) \n",
    "        df['after1']=after1\n",
    "        after4=[]\n",
    "        after0=fturn(df)\n",
    "        sturn=True\n",
    "        for i in range(len(df['label'])):\n",
    "            if (list(df['label'])[i]==4)|(list(df['label'])[i]==5)|(list(df['label'])[i]==6):\n",
    "                after0-=1\n",
    "            if (list(df['second_turn'])[i]>0) and sturn==True:\n",
    "                after0=fturn(df)\n",
    "                sturn=False\n",
    "            if after0<=0:\n",
    "        #         print(after0)\n",
    "                after4.append(1) \n",
    "            else:\n",
    "                after4.append(0) \n",
    "\n",
    "        df['after4']=after4\n",
    "        df=df.reset_index().rename(columns={df.index.name:'time'})\n",
    "        df=df.drop(['second_turn','turn'],axis=1)\n",
    "        df=df.dropna()\n",
    "        length_data=len(df)\n",
    "        metadata = SingleTableMetadata()\n",
    "        metadata.detect_from_dataframe(df)\n",
    "        model = sdv.lite.SingleTablePreset(name='FAST_ML', metadata=metadata)\n",
    "        model.fit(df)\n",
    "        df_gen=model.sample(num_rows=length_data)\n",
    "        df_gen.to_csv(f'./gandata/{data}')"
   ]
  },
  {
   "cell_type": "code",
   "execution_count": null,
   "id": "f29739d3",
   "metadata": {},
   "outputs": [],
   "source": []
  },
  {
   "cell_type": "code",
   "execution_count": null,
   "id": "dd9ec4eb",
   "metadata": {},
   "outputs": [],
   "source": [
    "print(df_train.isna().sum())"
   ]
  },
  {
   "cell_type": "code",
   "execution_count": null,
   "id": "752d291f",
   "metadata": {},
   "outputs": [],
   "source": [
    "# from ctgan import CTGAN\n",
    "# df_train=df_train\n",
    "# df_train=df_train.reset_index(drop=True)\n",
    "# # print(df_train)\n",
    "# gan=CTGAN(verbose=True,batch_size=1146)\n",
    "# print('fit')\n",
    "# gan.fit(df_train,df_train.columns, epochs=4)\n",
    "# sample=gan.sample(4000)\n",
    "# sample"
   ]
  },
  {
   "cell_type": "code",
   "execution_count": null,
   "id": "c14dcc90",
   "metadata": {},
   "outputs": [],
   "source": []
  },
  {
   "cell_type": "code",
   "execution_count": null,
   "id": "4a537e70",
   "metadata": {},
   "outputs": [],
   "source": [
    "# model.save('ctgan_model.pkl')\n",
    "df_train.info(verbose=True)"
   ]
  },
  {
   "cell_type": "code",
   "execution_count": null,
   "id": "eb44a222",
   "metadata": {},
   "outputs": [],
   "source": [
    "import sdv\n",
    "from sdv.metadata import SingleTableMetadata\n",
    "print(df_train)\n",
    "metadata = SingleTableMetadata()\n",
    "metadata.detect_from_dataframe(df_train)\n",
    "print(metadata)\n"
   ]
  },
  {
   "cell_type": "code",
   "execution_count": null,
   "id": "093e8e45",
   "metadata": {},
   "outputs": [],
   "source": [
    "model = sdv.lite.SingleTablePreset(name='FAST_ML', metadata=metadata)\n",
    "model.fit(df_train)\n",
    "model.save('./fast_ml_model1.pkl')"
   ]
  },
  {
   "cell_type": "code",
   "execution_count": null,
   "id": "560e8aee",
   "metadata": {},
   "outputs": [],
   "source": [
    "model.save('./fast_ml_model1.pkl')"
   ]
  },
  {
   "cell_type": "code",
   "execution_count": null,
   "id": "c146d6cd",
   "metadata": {},
   "outputs": [],
   "source": [
    "model = sdv.lite.SingleTablePreset.load('./fast_ml_model1.pkl')"
   ]
  },
  {
   "cell_type": "code",
   "execution_count": null,
   "id": "0ce9182f",
   "metadata": {},
   "outputs": [],
   "source": [
    "df_gen=model.sample(num_rows=50000)"
   ]
  },
  {
   "cell_type": "code",
   "execution_count": null,
   "id": "c944d476",
   "metadata": {},
   "outputs": [],
   "source": [
    "df_gen.to_csv('./SDV_gen_50k.csv',index=False)"
   ]
  },
  {
   "cell_type": "code",
   "execution_count": null,
   "id": "755ee5f9",
   "metadata": {},
   "outputs": [],
   "source": [
    "df_gen.columns"
   ]
  },
  {
   "cell_type": "code",
   "execution_count": null,
   "id": "b94814ab",
   "metadata": {},
   "outputs": [],
   "source": []
  },
  {
   "cell_type": "code",
   "execution_count": null,
   "id": "0c073c23",
   "metadata": {},
   "outputs": [],
   "source": [
    "df2=pd.read_csv('./SDV_gen_50k.csv')\n",
    "sdv_to_1000=pd.DataFrame(columns=df2.columns)\n",
    "for i in df2.label.unique():\n",
    "    if i==0:\n",
    "        continue\n",
    "    if i==7: continue\n",
    "    j=1000\n",
    "    print(j)\n",
    "    df_check=df2[df2['label']==i]\n",
    "    try:\n",
    "        df_add=df_check.iloc[:j,:]\n",
    "    except:\n",
    "        df_add=df_check\n",
    "    sdv_to_1000=pd.concat([sdv_to_1000,df_add])\n",
    "sdv_to_1000.to_csv('./SDV_gen_1k.csv')"
   ]
  }
 ],
 "metadata": {
  "kernelspec": {
   "display_name": "Python 3 (ipykernel)",
   "language": "python",
   "name": "python3"
  },
  "language_info": {
   "codemirror_mode": {
    "name": "ipython",
    "version": 3
   },
   "file_extension": ".py",
   "mimetype": "text/x-python",
   "name": "python",
   "nbconvert_exporter": "python",
   "pygments_lexer": "ipython3",
   "version": "3.10.9"
  }
 },
 "nbformat": 4,
 "nbformat_minor": 5
}
