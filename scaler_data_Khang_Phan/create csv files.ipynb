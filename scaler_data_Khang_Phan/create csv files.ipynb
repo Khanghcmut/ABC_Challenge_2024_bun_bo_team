{
 "cells": [
  {
   "cell_type": "code",
   "execution_count": 1,
   "id": "00ff7879",
   "metadata": {},
   "outputs": [],
   "source": [
    "import pandas as pd\n",
    "import numpy as np\n",
    "import seaborn as sns\n",
    "import matplotlib.pyplot as plt\n",
    "import os\n",
    "from sklearn.model_selection import train_test_split\n",
    "from sklearn.preprocessing import StandardScaler\n",
    "import tensorflow as tf\n",
    "from tensorflow import keras\n",
    "from tensorflow.keras import layers\n",
    "\n",
    "import pandas as pd # data processing\n",
    "from tensorflow.keras.models import Sequential\n",
    "from tensorflow.keras.layers import Dense,Conv1D,Dropout,LSTM, Bidirectional\n",
    "import tensorflow as tf\n",
    "from sklearn.preprocessing import MinMaxScaler\n",
    "from sklearn.preprocessing import StandardScaler\n",
    "from sklearn.metrics import confusion_matrix\n",
    "from keras.layers import BatchNormalization, Dropout\n",
    "from keras.layers import Dense, Activation\n",
    "from tensorflow import keras\n",
    "from tensorflow.keras.callbacks import EarlyStopping\n",
    "import torch\n",
    "from torch.nn import Transformer\n",
    "from sklearn.preprocessing import MinMaxScaler"
   ]
  },
  {
   "cell_type": "code",
   "execution_count": 2,
   "id": "e1e6234a",
   "metadata": {},
   "outputs": [],
   "source": [
    "FS = 30 # sampling rate\n",
    "TOTAL_CLASSESS = 9\n",
    "DATA_FOLDER = \"./\"\n",
    "WINDOW_SIZE = 2 # seconds\n",
    "OVERLAP_RATE = 0.25 * WINDOW_SIZE # overlap 50% of window size\n",
    "standartscaler=MinMaxScaler()\n",
    "def load_data(keypoint_csv, ann_csv):\n",
    "    kp_df = pd.read_csv(keypoint_csv)\n",
    "    kp_df = kp_df.loc[:, ~kp_df.columns.str.contains('^Unnamed')]\n",
    "\n",
    "    ann_df = pd.read_csv(ann_csv)\n",
    "    ann_df = ann_df.loc[:, ~ann_df.columns.str.contains('^Unnamed')]\n",
    "\n",
    "    return kp_df, ann_df"
   ]
  },
  {
   "cell_type": "code",
   "execution_count": 3,
   "id": "caa91321",
   "metadata": {},
   "outputs": [],
   "source": [
    "def remove_redundant_kp(kp_df):\n",
    "    kp_df = kp_df.loc[:, ~kp_df.columns.str.contains(\n",
    "    'conf|left_knee|right_knee|left_ankle|right_ankle', regex=True)]\n",
    "    return kp_df\n"
   ]
  },
  {
   "cell_type": "code",
   "execution_count": 4,
   "id": "ce7c3bfc",
   "metadata": {},
   "outputs": [],
   "source": [
    "SMOOTH_LEN = 3 # seconds\n",
    "\n",
    "def smooth_kp(kp_col):\n",
    "    zero_idx = np.flatnonzero(kp_col == 0)\n",
    "    split_idx = np.split(zero_idx, np.flatnonzero(np.diff(zero_idx) > 1) + 1)\n",
    "    for each_split_idx in split_idx:\n",
    "        if len(each_split_idx) == 0 or each_split_idx[0] == 0 or each_split_idx[-1] == (len(kp_col) - 1) or len(each_split_idx) > SMOOTH_LEN*FS:\n",
    "            continue\n",
    "        xp = [each_split_idx[0] - 1, each_split_idx[-1] + 1]\n",
    "        fp = kp_col[xp]\n",
    "        interp_kp = np.interp(each_split_idx, xp, fp)\n",
    "        kp_col[each_split_idx] = interp_kp\n",
    "    return kp_col"
   ]
  },
  {
   "cell_type": "code",
   "execution_count": 5,
   "id": "f96bfa1b",
   "metadata": {},
   "outputs": [],
   "source": [
    "def cal_angle(a, b, c):\n",
    "    ba = a - b\n",
    "    bc = c - b\n",
    "\n",
    "    cosine_angle = np.dot(ba, bc) / (np.linalg.norm(ba) * np.linalg.norm(bc))\n",
    "    angle = np.arccos(cosine_angle)\n",
    "    return angle\n",
    "\n",
    "\n",
    "def extract_joint_angles(kp_data, steps=2):\n",
    "    # steps = 2 if kp_data is removed conf columns\n",
    "    # steps = 3 if kp_data has conf columns\n",
    "    left_elbow_shoulder_hip = np.asarray([cal_angle(kp_data[i, 7*steps:(7*steps+2)], kp_data[i, 5*steps:(5*steps+2)], kp_data[i, 11*steps:(11*steps+2)])\n",
    "                                          for i in range(len(kp_data))])\n",
    "    left_elbow_shoulder_hip = np.nan_to_num(left_elbow_shoulder_hip)\n",
    "\n",
    "\n",
    "    right_elbow_shoulder_hip = np.asarray([cal_angle(kp_data[i, 8*steps:(8*steps+2)], kp_data[i, 6*steps:(6*steps+2)], kp_data[i, 12*steps:(12*steps+2)])\n",
    "                                            for i in range(len(kp_data))])\n",
    "    right_elbow_shoulder_hip = np.nan_to_num(right_elbow_shoulder_hip)\n",
    "\n",
    "\n",
    "    left_wrist_elbow_shoulder = np.asarray([cal_angle(kp_data[i, 9*steps:(9*steps+2)], kp_data[i, 7*steps:(7*steps+2)], kp_data[i, 5*steps:(5*steps + 2)])\n",
    "                                            for i in range(len(kp_data))])\n",
    "    left_wrist_elbow_shoulder = np.nan_to_num(left_wrist_elbow_shoulder)\n",
    "\n",
    "\n",
    "    right_wrist_elbow_shoulder = np.asarray([cal_angle(kp_data[i, 10*steps:(10*steps+2)], kp_data[i, 8*steps:(8*steps+2)], kp_data[i, 6*steps:(6*steps+2)])\n",
    "                                              for i in range(len(kp_data))])\n",
    "    right_wrist_elbow_shoulder = np.nan_to_num(right_wrist_elbow_shoulder)\n",
    "\n",
    "\n",
    "    right_elbow_shoulder = np.asarray([cal_angle(kp_data[i, 8*steps:(8*steps+2)], kp_data[i, 6*steps:(6*steps+2)], kp_data[i, 5*steps:(5*steps+2)])\n",
    "                                              for i in range(len(kp_data))])\n",
    "    right_elbow_shoulder = np.nan_to_num(right_elbow_shoulder)\n",
    "\n",
    "\n",
    "    left_elbow_shoulder = np.asarray([cal_angle(kp_data[i, 6*steps:(6*steps+2)], kp_data[i, 5*steps:(5*steps+2)], kp_data[i, 7*steps:(7*steps+2)])\n",
    "                                              for i in range(len(kp_data))])\n",
    "    left_elbow_shoulder = np.nan_to_num(left_elbow_shoulder)\n",
    "\n",
    "\n",
    "    joint_angles = np.array([left_elbow_shoulder_hip,\n",
    "                    right_elbow_shoulder_hip, left_wrist_elbow_shoulder, \n",
    "                             right_wrist_elbow_shoulder, right_elbow_shoulder,\n",
    "                             left_elbow_shoulder]).T\n",
    "\n",
    "    return joint_angles\n",
    "def extract_velocity(kp_data):\n",
    "    velocity = np.diff(kp_data, axis=0)\n",
    "    return velocity\n",
    "def segment(data, max_time, sub_window_size, stride_size):\n",
    "    sub_windows = np.arange(sub_window_size)[None, :] + np.arange(0, max_time, stride_size)[:, None]\n",
    "\n",
    "    row, col = np.where(sub_windows >= max_time)\n",
    "    uniq_row = len(np.unique(row))\n",
    "\n",
    "    if uniq_row > 0 and row[0] > 0:\n",
    "        sub_windows = sub_windows[:-uniq_row, :]\n",
    "\n",
    "    return data[sub_windows]\n",
    "import scipy\n",
    "\n",
    "def extract_feature(data, fs):\n",
    "    mean_ft = np.mean(data, axis=0)\n",
    "    std_ft = np.std(data, axis=0)\n",
    "    max_ft = np.max(data, axis=0)\n",
    "    min_ft = np.min(data, axis=0)\n",
    "    var_ft = np.var(data, axis=0)\n",
    "    med_ft = np.median(data, axis=0)\n",
    "    sum_ft = np.sum(data, axis=0)\n",
    "    std = np.std(data, axis=0)\n",
    "    kurtosis=scipy.stats.kurtosis(data)\n",
    "    skew=scipy.stats.skew(data)\n",
    "    features = np.array([mean_ft, std_ft, max_ft, min_ft, var_ft, med_ft, sum_ft,std,kurtosis,skew]).T.flatten()\n",
    "    features = np.nan_to_num(features)\n",
    "    return features\n",
    "def remove_redundant_kp(kp_df):\n",
    "    kp_df = kp_df.loc[:, ~kp_df.columns.str.contains(\n",
    "    'conf|left_knee|right_knee|left_ankle|right_ankle', regex=True)]\n",
    "    return kp_df"
   ]
  },
  {
   "cell_type": "code",
   "execution_count": 8,
   "id": "88d5e91b",
   "metadata": {},
   "outputs": [],
   "source": [
    "def make_csv(USER_ID):\n",
    "    USER_ID=USER_ID[:5]\n",
    "    keypoint_csv = DATA_FOLDER + \"train/{}_keypoint.csv\".format(USER_ID)\n",
    "    ann_csv = DATA_FOLDER + \"/ann/{}_ann.csv\".format(USER_ID)\n",
    "    kp_df, ann_df = load_data(keypoint_csv, ann_csv)\n",
    "    kp_df = remove_redundant_kp(kp_df)\n",
    "    col=kp_df.columns\n",
    "    kp_df=standartscaler.fit_transform(kp_df)\n",
    "    kp_df=pd.DataFrame(kp_df,columns=col)\n",
    "    feature_seg_feat=[\"left_elbow_shoulder_hip\",\n",
    "                    \"right_elbow_shoulder_hip\", \"left_wrist_elbow_shoulder\", \n",
    "                    \"right_wrist_elbow_shoulder\",\" right_elbow_shoulder\",\n",
    "                    \"left_elbow_shoulder\"]\n",
    "    norm_feat=['nose_x', 'nose_y', 'left_eye_x', 'left_eye_y', 'right_eye_x',\n",
    "       'right_eye_y', 'left_ear_x', 'left_ear_y', 'right_ear_x', 'right_ear_y',\n",
    "       'left_shoulder_x', 'left_shoulder_y', 'right_shoulder_x',\n",
    "       'right_shoulder_y', 'left_elbow_x', 'left_elbow_y', 'right_elbow_x',\n",
    "       'right_elbow_y', 'left_wrist_x', 'left_wrist_y', 'right_wrist_x',\n",
    "       'right_wrist_y', 'left_hip_x', 'left_hip_y', 'right_hip_x',\n",
    "       'right_hip_y', 'right_shoulder nose_ dx', 'right_shoulder nose dy',\n",
    "       'right_shoulder left_eye_ dx', 'right_shoulder left_eye dy',\n",
    "       'right_shoulder right_eye_ dx', 'right_shoulder right_eye dy',\n",
    "       'right_shoulder left_ear_ dx', 'right_shoulder left_ear dy',\n",
    "       'right_shoulder right_ear_ dx', 'right_shoulder right_ear dy',\n",
    "       'right_shoulder left_shoulder_ dx', 'right_shoulder left_shoulder dy',\n",
    "       'right_shoulder left_elbow_ dx', 'right_shoulder left_elbow dy',\n",
    "       'right_shoulder right_elbow_ dx', 'right_shoulder right_elbow dy',\n",
    "       'right_shoulder left_wrist_ dx', 'right_shoulder left_wrist dy',\n",
    "       'right_shoulder right_wrist_ dx', 'right_shoulder right_wrist dy',\n",
    "       'right_shoulder left_hip_ dx', 'right_shoulder left_hip dy',\n",
    "       'right_shoulder right_hip_ dx', 'right_shoulder right_hip dy']\n",
    "    vel_feat=[f\"velo{x}\" for x in norm_feat]\n",
    "    feature=[]\n",
    "    stat_feat=[\"mean_ft\", \"std_ft\", \"max_ft\", \"min_ft\", \"var_ft\", \"med_ft\", \"sum_ft\",\"std\",\"kurtosis\",\"skew\"]\n",
    "    for feat in feature_seg_feat:\n",
    "        for f in stat_feat:\n",
    "            feature.append(\"\".join([feat,\" \",f]))\n",
    "\n",
    "    for feat in norm_feat:\n",
    "        for f in stat_feat:\n",
    "            feature.append(\"\".join([feat,\" \",f]))\n",
    "\n",
    "    for feat in vel_feat:\n",
    "        for f in stat_feat:\n",
    "            feature.append(\"\".join([feat,\" \",f]))\n",
    "\n",
    "    for i in [e for e in kp_df.columns if e not in ('right_shoulder_y','right_shoulder_x')]:\n",
    "        if i[-1]=='y':\n",
    "            feat_name=\"right_shoulder \"+i[:-2]+' dy'\n",
    "            kp_df[feat_name]=kp_df['right_shoulder_y']-kp_df[i]\n",
    "        else:\n",
    "            feat_name=\"right_shoulder \"+i[:-1]+' dx'\n",
    "            kp_df[feat_name]=kp_df['right_shoulder_x']-kp_df[i]\n",
    "    \n",
    "    for i in range(len(kp_df.columns)):\n",
    "        kp_df.iloc[:, i] = smooth_kp(np.array(kp_df.iloc[:, i]))\n",
    "\n",
    "    # Processing training data\n",
    "    all_feature = []\n",
    "    all_label = []\n",
    "\n",
    "    for i in range(len(ann_df)):\n",
    "        seg = kp_df.loc[int(ann_df['start_time'][i]*FS): int(ann_df['stop_time'][i]*FS)]\n",
    "        seg_label = ann_df[\"annotation\"].iloc[i]\n",
    "        if len(seg) > 0 and (len(seg) >= WINDOW_SIZE * FS):\n",
    "            # Calculate joint angles from keypoint data\n",
    "            joint_angles = extract_joint_angles(np.array(seg))\n",
    "\n",
    "            # Segment keypoint data and joint angles by WINDOW_SIZE and OVERLAP_RATE\n",
    "            ws_seg = segment(np.array(seg), max_time=len(seg), sub_window_size=WINDOW_SIZE * FS, stride_size=int((WINDOW_SIZE - OVERLAP_RATE) * FS))\n",
    "            joint_angles_seg = segment(joint_angles, max_time=len(seg), sub_window_size=WINDOW_SIZE * FS,\n",
    "                                            stride_size=int((WINDOW_SIZE - OVERLAP_RATE) * FS))\n",
    "\n",
    "            # Calculate velocity from each segment of keypoint data\n",
    "            velocity_seg = [extract_velocity(ws_seg[i]) for i in range(len(ws_seg))]\n",
    "\n",
    "            # Calculate features from each segment of keypoint data, joint angles and velocity\n",
    "            feature_seg = [extract_feature(ws_seg[i], FS) for i in range(len(ws_seg))]\n",
    "            feature_joint_angles_seg = [extract_feature(joint_angles_seg[i], FS) for i in\n",
    "                                      range(len(joint_angles_seg))]\n",
    "            feature_velocity_seg = [extract_feature(extract_velocity(ws_seg[i]), FS) for i in range(len(ws_seg))]\n",
    "\n",
    "            # Concatenate all features\n",
    "            feature_segs = np.concatenate([feature_seg, feature_joint_angles_seg, feature_velocity_seg], axis=1)\n",
    "\n",
    "            all_feature.extend(feature_segs)\n",
    "            all_label.extend([int(seg_label)]*len(ws_seg))\n",
    "\n",
    "    df=pd.DataFrame(all_feature,columns=feature)\n",
    "    df['label'] = all_label\n",
    "    df.to_csv(f\"./training_set_df/{USER_ID}.csv\",index=False)\n",
    "#     print(df)\n",
    "    return df"
   ]
  },
  {
   "cell_type": "code",
   "execution_count": 7,
   "id": "6d9c6f5a",
   "metadata": {
    "scrolled": true
   },
   "outputs": [
    {
     "ename": "NameError",
     "evalue": "name 'KP_df' is not defined",
     "output_type": "error",
     "traceback": [
      "\u001b[0;31m---------------------------------------------------------------------------\u001b[0m",
      "\u001b[0;31mNameError\u001b[0m                                 Traceback (most recent call last)",
      "Cell \u001b[0;32mIn[7], line 1\u001b[0m\n\u001b[0;32m----> 1\u001b[0m df\u001b[38;5;241m=\u001b[39m\u001b[43mmake_csv\u001b[49m\u001b[43m(\u001b[49m\u001b[38;5;124;43m\"\u001b[39;49m\u001b[38;5;124;43mN01T1\u001b[39;49m\u001b[38;5;124;43m\"\u001b[39;49m\u001b[43m)\u001b[49m\n\u001b[1;32m      2\u001b[0m df\n",
      "Cell \u001b[0;32mIn[6], line 7\u001b[0m, in \u001b[0;36mmake_csv\u001b[0;34m(USER_ID)\u001b[0m\n\u001b[1;32m      5\u001b[0m kp_df, ann_df \u001b[38;5;241m=\u001b[39m load_data(keypoint_csv, ann_csv)\n\u001b[1;32m      6\u001b[0m kp_df \u001b[38;5;241m=\u001b[39m remove_redundant_kp(kp_df)\n\u001b[0;32m----> 7\u001b[0m col\u001b[38;5;241m=\u001b[39m\u001b[43mKP_df\u001b[49m\u001b[38;5;241m.\u001b[39mcolumns\n\u001b[1;32m      8\u001b[0m kp_df\u001b[38;5;241m=\u001b[39mstandartscaler\u001b[38;5;241m.\u001b[39mfit_transform(kp_df)\n\u001b[1;32m      9\u001b[0m kp_df\u001b[38;5;241m=\u001b[39mpd\u001b[38;5;241m.\u001b[39mDataFrame(kp_df,columns\u001b[38;5;241m=\u001b[39mcol)\n",
      "\u001b[0;31mNameError\u001b[0m: name 'KP_df' is not defined"
     ]
    }
   ],
   "source": [
    "df=make_csv(\"N01T1\")\n",
    "df"
   ]
  },
  {
   "cell_type": "code",
   "execution_count": 9,
   "id": "2ea48ad2",
   "metadata": {},
   "outputs": [
    {
     "name": "stdout",
     "output_type": "stream",
     "text": [
      "N04T1_keypoint.csv\n"
     ]
    },
    {
     "name": "stderr",
     "output_type": "stream",
     "text": [
      "/var/folders/qq/ckqvfttx4vs_68cbq08jts2c0000gn/T/ipykernel_50330/4229208218.py:5: RuntimeWarning: invalid value encountered in scalar divide\n",
      "  cosine_angle = np.dot(ba, bc) / (np.linalg.norm(ba) * np.linalg.norm(bc))\n",
      "/var/folders/qq/ckqvfttx4vs_68cbq08jts2c0000gn/T/ipykernel_50330/4229208218.py:73: RuntimeWarning: Precision loss occurred in moment calculation due to catastrophic cancellation. This occurs when the data are nearly identical. Results may be unreliable.\n",
      "  kurtosis=scipy.stats.kurtosis(data)\n",
      "/var/folders/qq/ckqvfttx4vs_68cbq08jts2c0000gn/T/ipykernel_50330/4229208218.py:74: RuntimeWarning: Precision loss occurred in moment calculation due to catastrophic cancellation. This occurs when the data are nearly identical. Results may be unreliable.\n",
      "  skew=scipy.stats.skew(data)\n",
      "/var/folders/qq/ckqvfttx4vs_68cbq08jts2c0000gn/T/ipykernel_50330/4229208218.py:6: RuntimeWarning: invalid value encountered in arccos\n",
      "  angle = np.arccos(cosine_angle)\n"
     ]
    },
    {
     "name": "stdout",
     "output_type": "stream",
     "text": [
      "N11T1_keypoint.csv\n"
     ]
    },
    {
     "name": "stderr",
     "output_type": "stream",
     "text": [
      "/var/folders/qq/ckqvfttx4vs_68cbq08jts2c0000gn/T/ipykernel_50330/4229208218.py:5: RuntimeWarning: invalid value encountered in scalar divide\n",
      "  cosine_angle = np.dot(ba, bc) / (np.linalg.norm(ba) * np.linalg.norm(bc))\n",
      "/var/folders/qq/ckqvfttx4vs_68cbq08jts2c0000gn/T/ipykernel_50330/4229208218.py:73: RuntimeWarning: Precision loss occurred in moment calculation due to catastrophic cancellation. This occurs when the data are nearly identical. Results may be unreliable.\n",
      "  kurtosis=scipy.stats.kurtosis(data)\n",
      "/var/folders/qq/ckqvfttx4vs_68cbq08jts2c0000gn/T/ipykernel_50330/4229208218.py:74: RuntimeWarning: Precision loss occurred in moment calculation due to catastrophic cancellation. This occurs when the data are nearly identical. Results may be unreliable.\n",
      "  skew=scipy.stats.skew(data)\n"
     ]
    },
    {
     "name": "stdout",
     "output_type": "stream",
     "text": [
      "S07T2_keypoint.csv\n"
     ]
    },
    {
     "name": "stderr",
     "output_type": "stream",
     "text": [
      "/var/folders/qq/ckqvfttx4vs_68cbq08jts2c0000gn/T/ipykernel_50330/4229208218.py:73: RuntimeWarning: Precision loss occurred in moment calculation due to catastrophic cancellation. This occurs when the data are nearly identical. Results may be unreliable.\n",
      "  kurtosis=scipy.stats.kurtosis(data)\n",
      "/var/folders/qq/ckqvfttx4vs_68cbq08jts2c0000gn/T/ipykernel_50330/4229208218.py:74: RuntimeWarning: Precision loss occurred in moment calculation due to catastrophic cancellation. This occurs when the data are nearly identical. Results may be unreliable.\n",
      "  skew=scipy.stats.skew(data)\n",
      "/var/folders/qq/ckqvfttx4vs_68cbq08jts2c0000gn/T/ipykernel_50330/4229208218.py:5: RuntimeWarning: invalid value encountered in scalar divide\n",
      "  cosine_angle = np.dot(ba, bc) / (np.linalg.norm(ba) * np.linalg.norm(bc))\n",
      "/var/folders/qq/ckqvfttx4vs_68cbq08jts2c0000gn/T/ipykernel_50330/4229208218.py:6: RuntimeWarning: invalid value encountered in arccos\n",
      "  angle = np.arccos(cosine_angle)\n"
     ]
    },
    {
     "name": "stdout",
     "output_type": "stream",
     "text": [
      "S08T2_keypoint.csv\n"
     ]
    },
    {
     "name": "stderr",
     "output_type": "stream",
     "text": [
      "/var/folders/qq/ckqvfttx4vs_68cbq08jts2c0000gn/T/ipykernel_50330/4229208218.py:5: RuntimeWarning: invalid value encountered in scalar divide\n",
      "  cosine_angle = np.dot(ba, bc) / (np.linalg.norm(ba) * np.linalg.norm(bc))\n",
      "/var/folders/qq/ckqvfttx4vs_68cbq08jts2c0000gn/T/ipykernel_50330/4229208218.py:73: RuntimeWarning: Precision loss occurred in moment calculation due to catastrophic cancellation. This occurs when the data are nearly identical. Results may be unreliable.\n",
      "  kurtosis=scipy.stats.kurtosis(data)\n",
      "/var/folders/qq/ckqvfttx4vs_68cbq08jts2c0000gn/T/ipykernel_50330/4229208218.py:74: RuntimeWarning: Precision loss occurred in moment calculation due to catastrophic cancellation. This occurs when the data are nearly identical. Results may be unreliable.\n",
      "  skew=scipy.stats.skew(data)\n"
     ]
    },
    {
     "name": "stdout",
     "output_type": "stream",
     "text": [
      "S01T2_keypoint.csv\n"
     ]
    },
    {
     "name": "stderr",
     "output_type": "stream",
     "text": [
      "/var/folders/qq/ckqvfttx4vs_68cbq08jts2c0000gn/T/ipykernel_50330/4229208218.py:5: RuntimeWarning: invalid value encountered in scalar divide\n",
      "  cosine_angle = np.dot(ba, bc) / (np.linalg.norm(ba) * np.linalg.norm(bc))\n",
      "/var/folders/qq/ckqvfttx4vs_68cbq08jts2c0000gn/T/ipykernel_50330/4229208218.py:73: RuntimeWarning: Precision loss occurred in moment calculation due to catastrophic cancellation. This occurs when the data are nearly identical. Results may be unreliable.\n",
      "  kurtosis=scipy.stats.kurtosis(data)\n",
      "/var/folders/qq/ckqvfttx4vs_68cbq08jts2c0000gn/T/ipykernel_50330/4229208218.py:74: RuntimeWarning: Precision loss occurred in moment calculation due to catastrophic cancellation. This occurs when the data are nearly identical. Results may be unreliable.\n",
      "  skew=scipy.stats.skew(data)\n",
      "/var/folders/qq/ckqvfttx4vs_68cbq08jts2c0000gn/T/ipykernel_50330/4229208218.py:6: RuntimeWarning: invalid value encountered in arccos\n",
      "  angle = np.arccos(cosine_angle)\n"
     ]
    },
    {
     "name": "stdout",
     "output_type": "stream",
     "text": [
      "N02T1_keypoint.csv\n"
     ]
    },
    {
     "name": "stderr",
     "output_type": "stream",
     "text": [
      "/var/folders/qq/ckqvfttx4vs_68cbq08jts2c0000gn/T/ipykernel_50330/4229208218.py:73: RuntimeWarning: Precision loss occurred in moment calculation due to catastrophic cancellation. This occurs when the data are nearly identical. Results may be unreliable.\n",
      "  kurtosis=scipy.stats.kurtosis(data)\n",
      "/var/folders/qq/ckqvfttx4vs_68cbq08jts2c0000gn/T/ipykernel_50330/4229208218.py:74: RuntimeWarning: Precision loss occurred in moment calculation due to catastrophic cancellation. This occurs when the data are nearly identical. Results may be unreliable.\n",
      "  skew=scipy.stats.skew(data)\n",
      "/var/folders/qq/ckqvfttx4vs_68cbq08jts2c0000gn/T/ipykernel_50330/4229208218.py:5: RuntimeWarning: invalid value encountered in scalar divide\n",
      "  cosine_angle = np.dot(ba, bc) / (np.linalg.norm(ba) * np.linalg.norm(bc))\n"
     ]
    },
    {
     "name": "stdout",
     "output_type": "stream",
     "text": [
      "S09T2_keypoint.csv\n"
     ]
    },
    {
     "name": "stderr",
     "output_type": "stream",
     "text": [
      "/var/folders/qq/ckqvfttx4vs_68cbq08jts2c0000gn/T/ipykernel_50330/4229208218.py:6: RuntimeWarning: invalid value encountered in arccos\n",
      "  angle = np.arccos(cosine_angle)\n",
      "/var/folders/qq/ckqvfttx4vs_68cbq08jts2c0000gn/T/ipykernel_50330/4229208218.py:5: RuntimeWarning: invalid value encountered in scalar divide\n",
      "  cosine_angle = np.dot(ba, bc) / (np.linalg.norm(ba) * np.linalg.norm(bc))\n",
      "/var/folders/qq/ckqvfttx4vs_68cbq08jts2c0000gn/T/ipykernel_50330/4229208218.py:73: RuntimeWarning: Precision loss occurred in moment calculation due to catastrophic cancellation. This occurs when the data are nearly identical. Results may be unreliable.\n",
      "  kurtosis=scipy.stats.kurtosis(data)\n",
      "/var/folders/qq/ckqvfttx4vs_68cbq08jts2c0000gn/T/ipykernel_50330/4229208218.py:74: RuntimeWarning: Precision loss occurred in moment calculation due to catastrophic cancellation. This occurs when the data are nearly identical. Results may be unreliable.\n",
      "  skew=scipy.stats.skew(data)\n"
     ]
    },
    {
     "name": "stdout",
     "output_type": "stream",
     "text": [
      "S11T2_keypoint.csv\n"
     ]
    },
    {
     "name": "stderr",
     "output_type": "stream",
     "text": [
      "/var/folders/qq/ckqvfttx4vs_68cbq08jts2c0000gn/T/ipykernel_50330/4229208218.py:6: RuntimeWarning: invalid value encountered in arccos\n",
      "  angle = np.arccos(cosine_angle)\n",
      "/var/folders/qq/ckqvfttx4vs_68cbq08jts2c0000gn/T/ipykernel_50330/4229208218.py:73: RuntimeWarning: Precision loss occurred in moment calculation due to catastrophic cancellation. This occurs when the data are nearly identical. Results may be unreliable.\n",
      "  kurtosis=scipy.stats.kurtosis(data)\n",
      "/var/folders/qq/ckqvfttx4vs_68cbq08jts2c0000gn/T/ipykernel_50330/4229208218.py:74: RuntimeWarning: Precision loss occurred in moment calculation due to catastrophic cancellation. This occurs when the data are nearly identical. Results may be unreliable.\n",
      "  skew=scipy.stats.skew(data)\n",
      "/var/folders/qq/ckqvfttx4vs_68cbq08jts2c0000gn/T/ipykernel_50330/4229208218.py:5: RuntimeWarning: invalid value encountered in scalar divide\n",
      "  cosine_angle = np.dot(ba, bc) / (np.linalg.norm(ba) * np.linalg.norm(bc))\n"
     ]
    },
    {
     "name": "stdout",
     "output_type": "stream",
     "text": [
      "N12T1_keypoint.csv\n"
     ]
    },
    {
     "name": "stderr",
     "output_type": "stream",
     "text": [
      "/var/folders/qq/ckqvfttx4vs_68cbq08jts2c0000gn/T/ipykernel_50330/4229208218.py:73: RuntimeWarning: Precision loss occurred in moment calculation due to catastrophic cancellation. This occurs when the data are nearly identical. Results may be unreliable.\n",
      "  kurtosis=scipy.stats.kurtosis(data)\n",
      "/var/folders/qq/ckqvfttx4vs_68cbq08jts2c0000gn/T/ipykernel_50330/4229208218.py:74: RuntimeWarning: Precision loss occurred in moment calculation due to catastrophic cancellation. This occurs when the data are nearly identical. Results may be unreliable.\n",
      "  skew=scipy.stats.skew(data)\n",
      "/var/folders/qq/ckqvfttx4vs_68cbq08jts2c0000gn/T/ipykernel_50330/4229208218.py:6: RuntimeWarning: invalid value encountered in arccos\n",
      "  angle = np.arccos(cosine_angle)\n",
      "/var/folders/qq/ckqvfttx4vs_68cbq08jts2c0000gn/T/ipykernel_50330/4229208218.py:5: RuntimeWarning: invalid value encountered in scalar divide\n",
      "  cosine_angle = np.dot(ba, bc) / (np.linalg.norm(ba) * np.linalg.norm(bc))\n"
     ]
    },
    {
     "name": "stdout",
     "output_type": "stream",
     "text": [
      "N07T1_keypoint.csv\n"
     ]
    },
    {
     "name": "stderr",
     "output_type": "stream",
     "text": [
      "/var/folders/qq/ckqvfttx4vs_68cbq08jts2c0000gn/T/ipykernel_50330/4229208218.py:5: RuntimeWarning: invalid value encountered in scalar divide\n",
      "  cosine_angle = np.dot(ba, bc) / (np.linalg.norm(ba) * np.linalg.norm(bc))\n",
      "/var/folders/qq/ckqvfttx4vs_68cbq08jts2c0000gn/T/ipykernel_50330/4229208218.py:73: RuntimeWarning: Precision loss occurred in moment calculation due to catastrophic cancellation. This occurs when the data are nearly identical. Results may be unreliable.\n",
      "  kurtosis=scipy.stats.kurtosis(data)\n",
      "/var/folders/qq/ckqvfttx4vs_68cbq08jts2c0000gn/T/ipykernel_50330/4229208218.py:74: RuntimeWarning: Precision loss occurred in moment calculation due to catastrophic cancellation. This occurs when the data are nearly identical. Results may be unreliable.\n",
      "  skew=scipy.stats.skew(data)\n"
     ]
    },
    {
     "name": "stdout",
     "output_type": "stream",
     "text": [
      "S03T2_keypoint.csv\n"
     ]
    },
    {
     "name": "stderr",
     "output_type": "stream",
     "text": [
      "/var/folders/qq/ckqvfttx4vs_68cbq08jts2c0000gn/T/ipykernel_50330/4229208218.py:6: RuntimeWarning: invalid value encountered in arccos\n",
      "  angle = np.arccos(cosine_angle)\n",
      "/var/folders/qq/ckqvfttx4vs_68cbq08jts2c0000gn/T/ipykernel_50330/4229208218.py:5: RuntimeWarning: invalid value encountered in scalar divide\n",
      "  cosine_angle = np.dot(ba, bc) / (np.linalg.norm(ba) * np.linalg.norm(bc))\n",
      "/var/folders/qq/ckqvfttx4vs_68cbq08jts2c0000gn/T/ipykernel_50330/4229208218.py:73: RuntimeWarning: Precision loss occurred in moment calculation due to catastrophic cancellation. This occurs when the data are nearly identical. Results may be unreliable.\n",
      "  kurtosis=scipy.stats.kurtosis(data)\n",
      "/var/folders/qq/ckqvfttx4vs_68cbq08jts2c0000gn/T/ipykernel_50330/4229208218.py:74: RuntimeWarning: Precision loss occurred in moment calculation due to catastrophic cancellation. This occurs when the data are nearly identical. Results may be unreliable.\n",
      "  skew=scipy.stats.skew(data)\n"
     ]
    },
    {
     "name": "stdout",
     "output_type": "stream",
     "text": [
      "N01T1_keypoint.csv\n"
     ]
    },
    {
     "name": "stderr",
     "output_type": "stream",
     "text": [
      "/var/folders/qq/ckqvfttx4vs_68cbq08jts2c0000gn/T/ipykernel_50330/4229208218.py:5: RuntimeWarning: invalid value encountered in scalar divide\n",
      "  cosine_angle = np.dot(ba, bc) / (np.linalg.norm(ba) * np.linalg.norm(bc))\n",
      "/var/folders/qq/ckqvfttx4vs_68cbq08jts2c0000gn/T/ipykernel_50330/4229208218.py:73: RuntimeWarning: Precision loss occurred in moment calculation due to catastrophic cancellation. This occurs when the data are nearly identical. Results may be unreliable.\n",
      "  kurtosis=scipy.stats.kurtosis(data)\n",
      "/var/folders/qq/ckqvfttx4vs_68cbq08jts2c0000gn/T/ipykernel_50330/4229208218.py:74: RuntimeWarning: Precision loss occurred in moment calculation due to catastrophic cancellation. This occurs when the data are nearly identical. Results may be unreliable.\n",
      "  skew=scipy.stats.skew(data)\n",
      "/var/folders/qq/ckqvfttx4vs_68cbq08jts2c0000gn/T/ipykernel_50330/4229208218.py:6: RuntimeWarning: invalid value encountered in arccos\n",
      "  angle = np.arccos(cosine_angle)\n"
     ]
    },
    {
     "name": "stdout",
     "output_type": "stream",
     "text": [
      "S02T2_keypoint.csv\n"
     ]
    },
    {
     "name": "stderr",
     "output_type": "stream",
     "text": [
      "/var/folders/qq/ckqvfttx4vs_68cbq08jts2c0000gn/T/ipykernel_50330/4229208218.py:5: RuntimeWarning: invalid value encountered in scalar divide\n",
      "  cosine_angle = np.dot(ba, bc) / (np.linalg.norm(ba) * np.linalg.norm(bc))\n",
      "/var/folders/qq/ckqvfttx4vs_68cbq08jts2c0000gn/T/ipykernel_50330/4229208218.py:6: RuntimeWarning: invalid value encountered in arccos\n",
      "  angle = np.arccos(cosine_angle)\n",
      "/var/folders/qq/ckqvfttx4vs_68cbq08jts2c0000gn/T/ipykernel_50330/4229208218.py:73: RuntimeWarning: Precision loss occurred in moment calculation due to catastrophic cancellation. This occurs when the data are nearly identical. Results may be unreliable.\n",
      "  kurtosis=scipy.stats.kurtosis(data)\n",
      "/var/folders/qq/ckqvfttx4vs_68cbq08jts2c0000gn/T/ipykernel_50330/4229208218.py:74: RuntimeWarning: Precision loss occurred in moment calculation due to catastrophic cancellation. This occurs when the data are nearly identical. Results may be unreliable.\n",
      "  skew=scipy.stats.skew(data)\n"
     ]
    },
    {
     "name": "stdout",
     "output_type": "stream",
     "text": [
      "N06T1_keypoint.csv\n"
     ]
    },
    {
     "name": "stderr",
     "output_type": "stream",
     "text": [
      "/var/folders/qq/ckqvfttx4vs_68cbq08jts2c0000gn/T/ipykernel_50330/4229208218.py:73: RuntimeWarning: Precision loss occurred in moment calculation due to catastrophic cancellation. This occurs when the data are nearly identical. Results may be unreliable.\n",
      "  kurtosis=scipy.stats.kurtosis(data)\n",
      "/var/folders/qq/ckqvfttx4vs_68cbq08jts2c0000gn/T/ipykernel_50330/4229208218.py:74: RuntimeWarning: Precision loss occurred in moment calculation due to catastrophic cancellation. This occurs when the data are nearly identical. Results may be unreliable.\n",
      "  skew=scipy.stats.skew(data)\n",
      "/var/folders/qq/ckqvfttx4vs_68cbq08jts2c0000gn/T/ipykernel_50330/4229208218.py:6: RuntimeWarning: invalid value encountered in arccos\n",
      "  angle = np.arccos(cosine_angle)\n",
      "/var/folders/qq/ckqvfttx4vs_68cbq08jts2c0000gn/T/ipykernel_50330/4229208218.py:5: RuntimeWarning: invalid value encountered in scalar divide\n",
      "  cosine_angle = np.dot(ba, bc) / (np.linalg.norm(ba) * np.linalg.norm(bc))\n"
     ]
    },
    {
     "name": "stdout",
     "output_type": "stream",
     "text": [
      "S10T2_keypoint.csv\n"
     ]
    },
    {
     "name": "stderr",
     "output_type": "stream",
     "text": [
      "/var/folders/qq/ckqvfttx4vs_68cbq08jts2c0000gn/T/ipykernel_50330/4229208218.py:73: RuntimeWarning: Precision loss occurred in moment calculation due to catastrophic cancellation. This occurs when the data are nearly identical. Results may be unreliable.\n",
      "  kurtosis=scipy.stats.kurtosis(data)\n",
      "/var/folders/qq/ckqvfttx4vs_68cbq08jts2c0000gn/T/ipykernel_50330/4229208218.py:74: RuntimeWarning: Precision loss occurred in moment calculation due to catastrophic cancellation. This occurs when the data are nearly identical. Results may be unreliable.\n",
      "  skew=scipy.stats.skew(data)\n",
      "/var/folders/qq/ckqvfttx4vs_68cbq08jts2c0000gn/T/ipykernel_50330/4229208218.py:5: RuntimeWarning: invalid value encountered in scalar divide\n",
      "  cosine_angle = np.dot(ba, bc) / (np.linalg.norm(ba) * np.linalg.norm(bc))\n",
      "/var/folders/qq/ckqvfttx4vs_68cbq08jts2c0000gn/T/ipykernel_50330/4229208218.py:6: RuntimeWarning: invalid value encountered in arccos\n",
      "  angle = np.arccos(cosine_angle)\n"
     ]
    },
    {
     "name": "stdout",
     "output_type": "stream",
     "text": [
      "S05T2_keypoint.csv\n"
     ]
    },
    {
     "name": "stderr",
     "output_type": "stream",
     "text": [
      "/var/folders/qq/ckqvfttx4vs_68cbq08jts2c0000gn/T/ipykernel_50330/4229208218.py:5: RuntimeWarning: invalid value encountered in scalar divide\n",
      "  cosine_angle = np.dot(ba, bc) / (np.linalg.norm(ba) * np.linalg.norm(bc))\n",
      "/var/folders/qq/ckqvfttx4vs_68cbq08jts2c0000gn/T/ipykernel_50330/4229208218.py:73: RuntimeWarning: Precision loss occurred in moment calculation due to catastrophic cancellation. This occurs when the data are nearly identical. Results may be unreliable.\n",
      "  kurtosis=scipy.stats.kurtosis(data)\n",
      "/var/folders/qq/ckqvfttx4vs_68cbq08jts2c0000gn/T/ipykernel_50330/4229208218.py:74: RuntimeWarning: Precision loss occurred in moment calculation due to catastrophic cancellation. This occurs when the data are nearly identical. Results may be unreliable.\n",
      "  skew=scipy.stats.skew(data)\n",
      "/var/folders/qq/ckqvfttx4vs_68cbq08jts2c0000gn/T/ipykernel_50330/4229208218.py:6: RuntimeWarning: invalid value encountered in arccos\n",
      "  angle = np.arccos(cosine_angle)\n"
     ]
    },
    {
     "name": "stdout",
     "output_type": "stream",
     "text": [
      "N12T2_keypoint.csv\n"
     ]
    },
    {
     "name": "stderr",
     "output_type": "stream",
     "text": [
      "/var/folders/qq/ckqvfttx4vs_68cbq08jts2c0000gn/T/ipykernel_50330/4229208218.py:5: RuntimeWarning: invalid value encountered in scalar divide\n",
      "  cosine_angle = np.dot(ba, bc) / (np.linalg.norm(ba) * np.linalg.norm(bc))\n",
      "/var/folders/qq/ckqvfttx4vs_68cbq08jts2c0000gn/T/ipykernel_50330/4229208218.py:73: RuntimeWarning: Precision loss occurred in moment calculation due to catastrophic cancellation. This occurs when the data are nearly identical. Results may be unreliable.\n",
      "  kurtosis=scipy.stats.kurtosis(data)\n",
      "/var/folders/qq/ckqvfttx4vs_68cbq08jts2c0000gn/T/ipykernel_50330/4229208218.py:74: RuntimeWarning: Precision loss occurred in moment calculation due to catastrophic cancellation. This occurs when the data are nearly identical. Results may be unreliable.\n",
      "  skew=scipy.stats.skew(data)\n",
      "/var/folders/qq/ckqvfttx4vs_68cbq08jts2c0000gn/T/ipykernel_50330/4229208218.py:6: RuntimeWarning: invalid value encountered in arccos\n",
      "  angle = np.arccos(cosine_angle)\n"
     ]
    },
    {
     "name": "stdout",
     "output_type": "stream",
     "text": [
      "N07T2_keypoint.csv\n"
     ]
    },
    {
     "name": "stderr",
     "output_type": "stream",
     "text": [
      "/var/folders/qq/ckqvfttx4vs_68cbq08jts2c0000gn/T/ipykernel_50330/4229208218.py:6: RuntimeWarning: invalid value encountered in arccos\n",
      "  angle = np.arccos(cosine_angle)\n",
      "/var/folders/qq/ckqvfttx4vs_68cbq08jts2c0000gn/T/ipykernel_50330/4229208218.py:73: RuntimeWarning: Precision loss occurred in moment calculation due to catastrophic cancellation. This occurs when the data are nearly identical. Results may be unreliable.\n",
      "  kurtosis=scipy.stats.kurtosis(data)\n",
      "/var/folders/qq/ckqvfttx4vs_68cbq08jts2c0000gn/T/ipykernel_50330/4229208218.py:74: RuntimeWarning: Precision loss occurred in moment calculation due to catastrophic cancellation. This occurs when the data are nearly identical. Results may be unreliable.\n",
      "  skew=scipy.stats.skew(data)\n",
      "/var/folders/qq/ckqvfttx4vs_68cbq08jts2c0000gn/T/ipykernel_50330/4229208218.py:5: RuntimeWarning: invalid value encountered in scalar divide\n",
      "  cosine_angle = np.dot(ba, bc) / (np.linalg.norm(ba) * np.linalg.norm(bc))\n"
     ]
    },
    {
     "name": "stdout",
     "output_type": "stream",
     "text": [
      "S11T1_keypoint.csv\n"
     ]
    },
    {
     "name": "stderr",
     "output_type": "stream",
     "text": [
      "/var/folders/qq/ckqvfttx4vs_68cbq08jts2c0000gn/T/ipykernel_50330/4229208218.py:73: RuntimeWarning: Precision loss occurred in moment calculation due to catastrophic cancellation. This occurs when the data are nearly identical. Results may be unreliable.\n",
      "  kurtosis=scipy.stats.kurtosis(data)\n",
      "/var/folders/qq/ckqvfttx4vs_68cbq08jts2c0000gn/T/ipykernel_50330/4229208218.py:74: RuntimeWarning: Precision loss occurred in moment calculation due to catastrophic cancellation. This occurs when the data are nearly identical. Results may be unreliable.\n",
      "  skew=scipy.stats.skew(data)\n",
      "/var/folders/qq/ckqvfttx4vs_68cbq08jts2c0000gn/T/ipykernel_50330/4229208218.py:5: RuntimeWarning: invalid value encountered in scalar divide\n",
      "  cosine_angle = np.dot(ba, bc) / (np.linalg.norm(ba) * np.linalg.norm(bc))\n"
     ]
    },
    {
     "name": "stdout",
     "output_type": "stream",
     "text": [
      "S03T1_keypoint.csv\n"
     ]
    },
    {
     "name": "stderr",
     "output_type": "stream",
     "text": [
      "/var/folders/qq/ckqvfttx4vs_68cbq08jts2c0000gn/T/ipykernel_50330/4229208218.py:5: RuntimeWarning: invalid value encountered in scalar divide\n",
      "  cosine_angle = np.dot(ba, bc) / (np.linalg.norm(ba) * np.linalg.norm(bc))\n",
      "/var/folders/qq/ckqvfttx4vs_68cbq08jts2c0000gn/T/ipykernel_50330/4229208218.py:73: RuntimeWarning: Precision loss occurred in moment calculation due to catastrophic cancellation. This occurs when the data are nearly identical. Results may be unreliable.\n",
      "  kurtosis=scipy.stats.kurtosis(data)\n",
      "/var/folders/qq/ckqvfttx4vs_68cbq08jts2c0000gn/T/ipykernel_50330/4229208218.py:74: RuntimeWarning: Precision loss occurred in moment calculation due to catastrophic cancellation. This occurs when the data are nearly identical. Results may be unreliable.\n",
      "  skew=scipy.stats.skew(data)\n",
      "/var/folders/qq/ckqvfttx4vs_68cbq08jts2c0000gn/T/ipykernel_50330/4229208218.py:6: RuntimeWarning: invalid value encountered in arccos\n",
      "  angle = np.arccos(cosine_angle)\n"
     ]
    },
    {
     "name": "stdout",
     "output_type": "stream",
     "text": [
      "S02T1_keypoint.csv\n"
     ]
    },
    {
     "name": "stderr",
     "output_type": "stream",
     "text": [
      "/var/folders/qq/ckqvfttx4vs_68cbq08jts2c0000gn/T/ipykernel_50330/4229208218.py:5: RuntimeWarning: invalid value encountered in scalar divide\n",
      "  cosine_angle = np.dot(ba, bc) / (np.linalg.norm(ba) * np.linalg.norm(bc))\n",
      "/var/folders/qq/ckqvfttx4vs_68cbq08jts2c0000gn/T/ipykernel_50330/4229208218.py:73: RuntimeWarning: Precision loss occurred in moment calculation due to catastrophic cancellation. This occurs when the data are nearly identical. Results may be unreliable.\n",
      "  kurtosis=scipy.stats.kurtosis(data)\n",
      "/var/folders/qq/ckqvfttx4vs_68cbq08jts2c0000gn/T/ipykernel_50330/4229208218.py:74: RuntimeWarning: Precision loss occurred in moment calculation due to catastrophic cancellation. This occurs when the data are nearly identical. Results may be unreliable.\n",
      "  skew=scipy.stats.skew(data)\n",
      "/var/folders/qq/ckqvfttx4vs_68cbq08jts2c0000gn/T/ipykernel_50330/4229208218.py:6: RuntimeWarning: invalid value encountered in arccos\n",
      "  angle = np.arccos(cosine_angle)\n"
     ]
    },
    {
     "name": "stdout",
     "output_type": "stream",
     "text": [
      "N01T2_keypoint.csv\n"
     ]
    },
    {
     "name": "stderr",
     "output_type": "stream",
     "text": [
      "/var/folders/qq/ckqvfttx4vs_68cbq08jts2c0000gn/T/ipykernel_50330/4229208218.py:5: RuntimeWarning: invalid value encountered in scalar divide\n",
      "  cosine_angle = np.dot(ba, bc) / (np.linalg.norm(ba) * np.linalg.norm(bc))\n",
      "/var/folders/qq/ckqvfttx4vs_68cbq08jts2c0000gn/T/ipykernel_50330/4229208218.py:73: RuntimeWarning: Precision loss occurred in moment calculation due to catastrophic cancellation. This occurs when the data are nearly identical. Results may be unreliable.\n",
      "  kurtosis=scipy.stats.kurtosis(data)\n",
      "/var/folders/qq/ckqvfttx4vs_68cbq08jts2c0000gn/T/ipykernel_50330/4229208218.py:74: RuntimeWarning: Precision loss occurred in moment calculation due to catastrophic cancellation. This occurs when the data are nearly identical. Results may be unreliable.\n",
      "  skew=scipy.stats.skew(data)\n",
      "/var/folders/qq/ckqvfttx4vs_68cbq08jts2c0000gn/T/ipykernel_50330/4229208218.py:6: RuntimeWarning: invalid value encountered in arccos\n",
      "  angle = np.arccos(cosine_angle)\n"
     ]
    },
    {
     "name": "stdout",
     "output_type": "stream",
     "text": [
      "S10T1_keypoint.csv\n"
     ]
    },
    {
     "name": "stderr",
     "output_type": "stream",
     "text": [
      "/var/folders/qq/ckqvfttx4vs_68cbq08jts2c0000gn/T/ipykernel_50330/4229208218.py:73: RuntimeWarning: Precision loss occurred in moment calculation due to catastrophic cancellation. This occurs when the data are nearly identical. Results may be unreliable.\n",
      "  kurtosis=scipy.stats.kurtosis(data)\n",
      "/var/folders/qq/ckqvfttx4vs_68cbq08jts2c0000gn/T/ipykernel_50330/4229208218.py:74: RuntimeWarning: Precision loss occurred in moment calculation due to catastrophic cancellation. This occurs when the data are nearly identical. Results may be unreliable.\n",
      "  skew=scipy.stats.skew(data)\n",
      "/var/folders/qq/ckqvfttx4vs_68cbq08jts2c0000gn/T/ipykernel_50330/4229208218.py:6: RuntimeWarning: invalid value encountered in arccos\n",
      "  angle = np.arccos(cosine_angle)\n",
      "/var/folders/qq/ckqvfttx4vs_68cbq08jts2c0000gn/T/ipykernel_50330/4229208218.py:5: RuntimeWarning: invalid value encountered in scalar divide\n",
      "  cosine_angle = np.dot(ba, bc) / (np.linalg.norm(ba) * np.linalg.norm(bc))\n"
     ]
    },
    {
     "name": "stdout",
     "output_type": "stream",
     "text": [
      "S05T1_keypoint.csv\n"
     ]
    },
    {
     "name": "stderr",
     "output_type": "stream",
     "text": [
      "/var/folders/qq/ckqvfttx4vs_68cbq08jts2c0000gn/T/ipykernel_50330/4229208218.py:73: RuntimeWarning: Precision loss occurred in moment calculation due to catastrophic cancellation. This occurs when the data are nearly identical. Results may be unreliable.\n",
      "  kurtosis=scipy.stats.kurtosis(data)\n",
      "/var/folders/qq/ckqvfttx4vs_68cbq08jts2c0000gn/T/ipykernel_50330/4229208218.py:74: RuntimeWarning: Precision loss occurred in moment calculation due to catastrophic cancellation. This occurs when the data are nearly identical. Results may be unreliable.\n",
      "  skew=scipy.stats.skew(data)\n",
      "/var/folders/qq/ckqvfttx4vs_68cbq08jts2c0000gn/T/ipykernel_50330/4229208218.py:6: RuntimeWarning: invalid value encountered in arccos\n",
      "  angle = np.arccos(cosine_angle)\n"
     ]
    },
    {
     "name": "stdout",
     "output_type": "stream",
     "text": [
      "N06T2_keypoint.csv\n"
     ]
    },
    {
     "name": "stderr",
     "output_type": "stream",
     "text": [
      "/var/folders/qq/ckqvfttx4vs_68cbq08jts2c0000gn/T/ipykernel_50330/4229208218.py:6: RuntimeWarning: invalid value encountered in arccos\n",
      "  angle = np.arccos(cosine_angle)\n",
      "/var/folders/qq/ckqvfttx4vs_68cbq08jts2c0000gn/T/ipykernel_50330/4229208218.py:73: RuntimeWarning: Precision loss occurred in moment calculation due to catastrophic cancellation. This occurs when the data are nearly identical. Results may be unreliable.\n",
      "  kurtosis=scipy.stats.kurtosis(data)\n",
      "/var/folders/qq/ckqvfttx4vs_68cbq08jts2c0000gn/T/ipykernel_50330/4229208218.py:74: RuntimeWarning: Precision loss occurred in moment calculation due to catastrophic cancellation. This occurs when the data are nearly identical. Results may be unreliable.\n",
      "  skew=scipy.stats.skew(data)\n",
      "/var/folders/qq/ckqvfttx4vs_68cbq08jts2c0000gn/T/ipykernel_50330/4229208218.py:5: RuntimeWarning: invalid value encountered in scalar divide\n",
      "  cosine_angle = np.dot(ba, bc) / (np.linalg.norm(ba) * np.linalg.norm(bc))\n"
     ]
    },
    {
     "name": "stdout",
     "output_type": "stream",
     "text": [
      "S07T1_keypoint.csv\n"
     ]
    },
    {
     "name": "stderr",
     "output_type": "stream",
     "text": [
      "/var/folders/qq/ckqvfttx4vs_68cbq08jts2c0000gn/T/ipykernel_50330/4229208218.py:5: RuntimeWarning: invalid value encountered in scalar divide\n",
      "  cosine_angle = np.dot(ba, bc) / (np.linalg.norm(ba) * np.linalg.norm(bc))\n",
      "/var/folders/qq/ckqvfttx4vs_68cbq08jts2c0000gn/T/ipykernel_50330/4229208218.py:73: RuntimeWarning: Precision loss occurred in moment calculation due to catastrophic cancellation. This occurs when the data are nearly identical. Results may be unreliable.\n",
      "  kurtosis=scipy.stats.kurtosis(data)\n",
      "/var/folders/qq/ckqvfttx4vs_68cbq08jts2c0000gn/T/ipykernel_50330/4229208218.py:74: RuntimeWarning: Precision loss occurred in moment calculation due to catastrophic cancellation. This occurs when the data are nearly identical. Results may be unreliable.\n",
      "  skew=scipy.stats.skew(data)\n",
      "/var/folders/qq/ckqvfttx4vs_68cbq08jts2c0000gn/T/ipykernel_50330/4229208218.py:6: RuntimeWarning: invalid value encountered in arccos\n",
      "  angle = np.arccos(cosine_angle)\n"
     ]
    },
    {
     "name": "stdout",
     "output_type": "stream",
     "text": [
      "N04T2_keypoint.csv\n"
     ]
    },
    {
     "name": "stderr",
     "output_type": "stream",
     "text": [
      "/var/folders/qq/ckqvfttx4vs_68cbq08jts2c0000gn/T/ipykernel_50330/4229208218.py:5: RuntimeWarning: invalid value encountered in scalar divide\n",
      "  cosine_angle = np.dot(ba, bc) / (np.linalg.norm(ba) * np.linalg.norm(bc))\n",
      "/var/folders/qq/ckqvfttx4vs_68cbq08jts2c0000gn/T/ipykernel_50330/4229208218.py:6: RuntimeWarning: invalid value encountered in arccos\n",
      "  angle = np.arccos(cosine_angle)\n",
      "/var/folders/qq/ckqvfttx4vs_68cbq08jts2c0000gn/T/ipykernel_50330/4229208218.py:73: RuntimeWarning: Precision loss occurred in moment calculation due to catastrophic cancellation. This occurs when the data are nearly identical. Results may be unreliable.\n",
      "  kurtosis=scipy.stats.kurtosis(data)\n",
      "/var/folders/qq/ckqvfttx4vs_68cbq08jts2c0000gn/T/ipykernel_50330/4229208218.py:74: RuntimeWarning: Precision loss occurred in moment calculation due to catastrophic cancellation. This occurs when the data are nearly identical. Results may be unreliable.\n",
      "  skew=scipy.stats.skew(data)\n"
     ]
    },
    {
     "name": "stdout",
     "output_type": "stream",
     "text": [
      "N11T2_keypoint.csv\n"
     ]
    },
    {
     "name": "stderr",
     "output_type": "stream",
     "text": [
      "/var/folders/qq/ckqvfttx4vs_68cbq08jts2c0000gn/T/ipykernel_50330/4229208218.py:5: RuntimeWarning: invalid value encountered in scalar divide\n",
      "  cosine_angle = np.dot(ba, bc) / (np.linalg.norm(ba) * np.linalg.norm(bc))\n",
      "/var/folders/qq/ckqvfttx4vs_68cbq08jts2c0000gn/T/ipykernel_50330/4229208218.py:6: RuntimeWarning: invalid value encountered in arccos\n",
      "  angle = np.arccos(cosine_angle)\n",
      "/var/folders/qq/ckqvfttx4vs_68cbq08jts2c0000gn/T/ipykernel_50330/4229208218.py:73: RuntimeWarning: Precision loss occurred in moment calculation due to catastrophic cancellation. This occurs when the data are nearly identical. Results may be unreliable.\n",
      "  kurtosis=scipy.stats.kurtosis(data)\n",
      "/var/folders/qq/ckqvfttx4vs_68cbq08jts2c0000gn/T/ipykernel_50330/4229208218.py:74: RuntimeWarning: Precision loss occurred in moment calculation due to catastrophic cancellation. This occurs when the data are nearly identical. Results may be unreliable.\n",
      "  skew=scipy.stats.skew(data)\n"
     ]
    },
    {
     "name": "stdout",
     "output_type": "stream",
     "text": [
      "S08T1_keypoint.csv\n"
     ]
    },
    {
     "name": "stderr",
     "output_type": "stream",
     "text": [
      "/var/folders/qq/ckqvfttx4vs_68cbq08jts2c0000gn/T/ipykernel_50330/4229208218.py:5: RuntimeWarning: invalid value encountered in scalar divide\n",
      "  cosine_angle = np.dot(ba, bc) / (np.linalg.norm(ba) * np.linalg.norm(bc))\n",
      "/var/folders/qq/ckqvfttx4vs_68cbq08jts2c0000gn/T/ipykernel_50330/4229208218.py:6: RuntimeWarning: invalid value encountered in arccos\n",
      "  angle = np.arccos(cosine_angle)\n",
      "/var/folders/qq/ckqvfttx4vs_68cbq08jts2c0000gn/T/ipykernel_50330/4229208218.py:73: RuntimeWarning: Precision loss occurred in moment calculation due to catastrophic cancellation. This occurs when the data are nearly identical. Results may be unreliable.\n",
      "  kurtosis=scipy.stats.kurtosis(data)\n",
      "/var/folders/qq/ckqvfttx4vs_68cbq08jts2c0000gn/T/ipykernel_50330/4229208218.py:74: RuntimeWarning: Precision loss occurred in moment calculation due to catastrophic cancellation. This occurs when the data are nearly identical. Results may be unreliable.\n",
      "  skew=scipy.stats.skew(data)\n"
     ]
    },
    {
     "name": "stdout",
     "output_type": "stream",
     "text": [
      "N02T2_keypoint.csv\n"
     ]
    },
    {
     "name": "stderr",
     "output_type": "stream",
     "text": [
      "/var/folders/qq/ckqvfttx4vs_68cbq08jts2c0000gn/T/ipykernel_50330/4229208218.py:5: RuntimeWarning: invalid value encountered in scalar divide\n",
      "  cosine_angle = np.dot(ba, bc) / (np.linalg.norm(ba) * np.linalg.norm(bc))\n",
      "/var/folders/qq/ckqvfttx4vs_68cbq08jts2c0000gn/T/ipykernel_50330/4229208218.py:73: RuntimeWarning: Precision loss occurred in moment calculation due to catastrophic cancellation. This occurs when the data are nearly identical. Results may be unreliable.\n",
      "  kurtosis=scipy.stats.kurtosis(data)\n",
      "/var/folders/qq/ckqvfttx4vs_68cbq08jts2c0000gn/T/ipykernel_50330/4229208218.py:74: RuntimeWarning: Precision loss occurred in moment calculation due to catastrophic cancellation. This occurs when the data are nearly identical. Results may be unreliable.\n",
      "  skew=scipy.stats.skew(data)\n"
     ]
    },
    {
     "name": "stdout",
     "output_type": "stream",
     "text": [
      "S09T1_keypoint.csv\n"
     ]
    },
    {
     "name": "stderr",
     "output_type": "stream",
     "text": [
      "/var/folders/qq/ckqvfttx4vs_68cbq08jts2c0000gn/T/ipykernel_50330/4229208218.py:5: RuntimeWarning: invalid value encountered in scalar divide\n",
      "  cosine_angle = np.dot(ba, bc) / (np.linalg.norm(ba) * np.linalg.norm(bc))\n",
      "/var/folders/qq/ckqvfttx4vs_68cbq08jts2c0000gn/T/ipykernel_50330/4229208218.py:73: RuntimeWarning: Precision loss occurred in moment calculation due to catastrophic cancellation. This occurs when the data are nearly identical. Results may be unreliable.\n",
      "  kurtosis=scipy.stats.kurtosis(data)\n",
      "/var/folders/qq/ckqvfttx4vs_68cbq08jts2c0000gn/T/ipykernel_50330/4229208218.py:74: RuntimeWarning: Precision loss occurred in moment calculation due to catastrophic cancellation. This occurs when the data are nearly identical. Results may be unreliable.\n",
      "  skew=scipy.stats.skew(data)\n",
      "/var/folders/qq/ckqvfttx4vs_68cbq08jts2c0000gn/T/ipykernel_50330/4229208218.py:6: RuntimeWarning: invalid value encountered in arccos\n",
      "  angle = np.arccos(cosine_angle)\n"
     ]
    },
    {
     "name": "stdout",
     "output_type": "stream",
     "text": [
      "S01T1_keypoint.csv\n"
     ]
    },
    {
     "name": "stderr",
     "output_type": "stream",
     "text": [
      "/var/folders/qq/ckqvfttx4vs_68cbq08jts2c0000gn/T/ipykernel_50330/4229208218.py:5: RuntimeWarning: invalid value encountered in scalar divide\n",
      "  cosine_angle = np.dot(ba, bc) / (np.linalg.norm(ba) * np.linalg.norm(bc))\n",
      "/var/folders/qq/ckqvfttx4vs_68cbq08jts2c0000gn/T/ipykernel_50330/4229208218.py:73: RuntimeWarning: Precision loss occurred in moment calculation due to catastrophic cancellation. This occurs when the data are nearly identical. Results may be unreliable.\n",
      "  kurtosis=scipy.stats.kurtosis(data)\n",
      "/var/folders/qq/ckqvfttx4vs_68cbq08jts2c0000gn/T/ipykernel_50330/4229208218.py:74: RuntimeWarning: Precision loss occurred in moment calculation due to catastrophic cancellation. This occurs when the data are nearly identical. Results may be unreliable.\n",
      "  skew=scipy.stats.skew(data)\n",
      "/var/folders/qq/ckqvfttx4vs_68cbq08jts2c0000gn/T/ipykernel_50330/4229208218.py:6: RuntimeWarning: invalid value encountered in arccos\n",
      "  angle = np.arccos(cosine_angle)\n"
     ]
    }
   ],
   "source": [
    "IDS=os.listdir(\"./train\")\n",
    "for ID in IDS:\n",
    "    print(ID)\n",
    "    make_csv(ID)"
   ]
  },
  {
   "cell_type": "code",
   "execution_count": null,
   "id": "73a00f12",
   "metadata": {},
   "outputs": [],
   "source": []
  },
  {
   "cell_type": "code",
   "execution_count": null,
   "id": "e7de3fcc",
   "metadata": {},
   "outputs": [],
   "source": []
  },
  {
   "cell_type": "code",
   "execution_count": null,
   "id": "dc69fe5f",
   "metadata": {},
   "outputs": [],
   "source": []
  },
  {
   "cell_type": "code",
   "execution_count": null,
   "id": "270b2587",
   "metadata": {},
   "outputs": [],
   "source": []
  },
  {
   "cell_type": "code",
   "execution_count": null,
   "id": "d293457f",
   "metadata": {},
   "outputs": [],
   "source": []
  },
  {
   "cell_type": "code",
   "execution_count": null,
   "id": "03411f40",
   "metadata": {},
   "outputs": [],
   "source": []
  },
  {
   "cell_type": "code",
   "execution_count": null,
   "id": "dc2402c8",
   "metadata": {},
   "outputs": [],
   "source": []
  },
  {
   "cell_type": "code",
   "execution_count": null,
   "id": "d48198f5",
   "metadata": {},
   "outputs": [],
   "source": []
  },
  {
   "cell_type": "code",
   "execution_count": null,
   "id": "e546292f",
   "metadata": {},
   "outputs": [],
   "source": []
  },
  {
   "cell_type": "code",
   "execution_count": null,
   "id": "edbc4c90",
   "metadata": {},
   "outputs": [],
   "source": []
  },
  {
   "cell_type": "code",
   "execution_count": null,
   "id": "5cde9e9c",
   "metadata": {},
   "outputs": [],
   "source": []
  },
  {
   "cell_type": "code",
   "execution_count": null,
   "id": "974d4cfe",
   "metadata": {},
   "outputs": [],
   "source": []
  },
  {
   "cell_type": "code",
   "execution_count": null,
   "id": "b910c28c",
   "metadata": {},
   "outputs": [],
   "source": []
  },
  {
   "cell_type": "code",
   "execution_count": null,
   "id": "dfc98ffa",
   "metadata": {},
   "outputs": [],
   "source": []
  },
  {
   "cell_type": "code",
   "execution_count": null,
   "id": "93281b80",
   "metadata": {},
   "outputs": [],
   "source": []
  },
  {
   "cell_type": "code",
   "execution_count": null,
   "id": "f0cac729",
   "metadata": {},
   "outputs": [],
   "source": []
  },
  {
   "cell_type": "code",
   "execution_count": null,
   "id": "eab242fa",
   "metadata": {},
   "outputs": [],
   "source": []
  },
  {
   "cell_type": "code",
   "execution_count": null,
   "id": "8fe7399d",
   "metadata": {},
   "outputs": [],
   "source": []
  },
  {
   "cell_type": "code",
   "execution_count": null,
   "id": "3a821652",
   "metadata": {},
   "outputs": [],
   "source": []
  },
  {
   "cell_type": "code",
   "execution_count": null,
   "id": "9a44a7a5",
   "metadata": {},
   "outputs": [],
   "source": []
  },
  {
   "cell_type": "code",
   "execution_count": null,
   "id": "c9187749",
   "metadata": {},
   "outputs": [],
   "source": []
  },
  {
   "cell_type": "code",
   "execution_count": null,
   "id": "d0c0cea2",
   "metadata": {},
   "outputs": [],
   "source": []
  },
  {
   "cell_type": "code",
   "execution_count": null,
   "id": "10f7faf6",
   "metadata": {},
   "outputs": [],
   "source": []
  },
  {
   "cell_type": "code",
   "execution_count": null,
   "id": "634b77f9",
   "metadata": {},
   "outputs": [],
   "source": []
  },
  {
   "cell_type": "code",
   "execution_count": null,
   "id": "0431ca06",
   "metadata": {},
   "outputs": [],
   "source": []
  },
  {
   "cell_type": "code",
   "execution_count": null,
   "id": "e32e6bfc",
   "metadata": {},
   "outputs": [],
   "source": []
  },
  {
   "cell_type": "code",
   "execution_count": null,
   "id": "903b6c6a",
   "metadata": {},
   "outputs": [],
   "source": []
  },
  {
   "cell_type": "code",
   "execution_count": null,
   "id": "773be035",
   "metadata": {},
   "outputs": [],
   "source": []
  },
  {
   "cell_type": "code",
   "execution_count": null,
   "id": "1dd91515",
   "metadata": {},
   "outputs": [],
   "source": []
  },
  {
   "cell_type": "code",
   "execution_count": null,
   "id": "0c234269",
   "metadata": {},
   "outputs": [],
   "source": []
  },
  {
   "cell_type": "code",
   "execution_count": null,
   "id": "1b019b65",
   "metadata": {},
   "outputs": [],
   "source": []
  },
  {
   "cell_type": "code",
   "execution_count": null,
   "id": "953ec532",
   "metadata": {},
   "outputs": [],
   "source": []
  },
  {
   "cell_type": "code",
   "execution_count": null,
   "id": "4eea2106",
   "metadata": {},
   "outputs": [],
   "source": []
  },
  {
   "cell_type": "code",
   "execution_count": null,
   "id": "29fd110f",
   "metadata": {},
   "outputs": [],
   "source": []
  },
  {
   "cell_type": "code",
   "execution_count": null,
   "id": "e3ebdedf",
   "metadata": {},
   "outputs": [],
   "source": []
  },
  {
   "cell_type": "code",
   "execution_count": null,
   "id": "d2539e26",
   "metadata": {},
   "outputs": [],
   "source": []
  }
 ],
 "metadata": {
  "kernelspec": {
   "display_name": "Python 3 (ipykernel)",
   "language": "python",
   "name": "python3"
  },
  "language_info": {
   "codemirror_mode": {
    "name": "ipython",
    "version": 3
   },
   "file_extension": ".py",
   "mimetype": "text/x-python",
   "name": "python",
   "nbconvert_exporter": "python",
   "pygments_lexer": "ipython3",
   "version": "3.10.9"
  }
 },
 "nbformat": 4,
 "nbformat_minor": 5
}
