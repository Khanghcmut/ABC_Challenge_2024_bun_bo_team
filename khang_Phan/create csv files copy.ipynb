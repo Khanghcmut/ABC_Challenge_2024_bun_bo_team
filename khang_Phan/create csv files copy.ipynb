{
 "cells": [
  {
   "cell_type": "code",
   "execution_count": 1,
   "id": "b32ed366",
   "metadata": {},
   "outputs": [],
   "source": [
    "import pandas as pd\n",
    "import numpy as np\n",
    "import seaborn as sns\n",
    "import matplotlib.pyplot as plt\n",
    "import os\n",
    "from sklearn.model_selection import train_test_split\n",
    "from sklearn.preprocessing import StandardScaler\n",
    "import tensorflow as tf\n",
    "from tensorflow import keras\n",
    "from tensorflow.keras import layers\n",
    "\n",
    "import pandas as pd # data processing\n",
    "from tensorflow.keras.models import Sequential\n",
    "from tensorflow.keras.layers import Dense,Conv1D,Dropout,LSTM, Bidirectional\n",
    "import tensorflow as tf\n",
    "from sklearn.preprocessing import MinMaxScaler\n",
    "from sklearn.preprocessing import StandardScaler\n",
    "from sklearn.metrics import confusion_matrix\n",
    "from keras.layers import BatchNormalization, Dropout\n",
    "from keras.layers import Dense, Activation\n",
    "from tensorflow import keras\n",
    "from tensorflow.keras.callbacks import EarlyStopping\n",
    "import torch\n",
    "from torch.nn import Transformer\n",
    "from sklearn.preprocessing import MinMaxScaler,RobustScaler"
   ]
  },
  {
   "cell_type": "code",
   "execution_count": 2,
   "id": "48e6028a",
   "metadata": {},
   "outputs": [],
   "source": [
    "FS = 30 # sampling rate\n",
    "TOTAL_CLASSESS = 9\n",
    "DATA_FOLDER = \"./\"\n",
    "WINDOW_SIZE = 3 # seconds\n",
    "OVERLAP_RATE = 0.5 * WINDOW_SIZE # overlap 50% of window size\n",
    "standartscaler=RobustScaler()#org MinMaxScaler()\n",
    "def load_data(keypoint_csv, ann_csv):\n",
    "    kp_df = pd.read_csv(keypoint_csv)\n",
    "    kp_df = kp_df.loc[:, ~kp_df.columns.str.contains('^Unnamed')]\n",
    "\n",
    "    ann_df = pd.read_csv(ann_csv)\n",
    "    ann_df = ann_df.loc[:, ~ann_df.columns.str.contains('^Unnamed')]\n",
    "\n",
    "    return kp_df, ann_df"
   ]
  },
  {
   "cell_type": "code",
   "execution_count": 3,
   "id": "24def509",
   "metadata": {},
   "outputs": [],
   "source": [
    "def remove_redundant_kp(kp_df):\n",
    "    kp_df = kp_df.loc[:, ~kp_df.columns.str.contains(\n",
    "    'conf|left_knee|right_knee|left_ankle|right_ankle', regex=True)]\n",
    "    return kp_df\n"
   ]
  },
  {
   "cell_type": "code",
   "execution_count": 4,
   "id": "2ccade52",
   "metadata": {},
   "outputs": [],
   "source": [
    "SMOOTH_LEN = 4 # seconds\n",
    "\n",
    "def smooth_kp(kp_col):\n",
    "    zero_idx = np.flatnonzero(kp_col == 0)\n",
    "    split_idx = np.split(zero_idx, np.flatnonzero(np.diff(zero_idx) > 1) + 1)\n",
    "    for each_split_idx in split_idx:\n",
    "        if len(each_split_idx) == 0 or each_split_idx[0] == 0 or each_split_idx[-1] == (len(kp_col) - 1) or len(each_split_idx) > SMOOTH_LEN*FS:\n",
    "            continue\n",
    "        xp = [each_split_idx[0] - 1, each_split_idx[-1] + 1]\n",
    "        fp = kp_col[xp]\n",
    "        interp_kp = np.interp(each_split_idx, xp, fp)\n",
    "        kp_col[each_split_idx] = interp_kp\n",
    "    return kp_col"
   ]
  },
  {
   "cell_type": "code",
   "execution_count": 5,
   "id": "61003e35",
   "metadata": {},
   "outputs": [],
   "source": [
    "def cal_angle(a, b, c):\n",
    "    ba = a - b\n",
    "    bc = c - b\n",
    "\n",
    "    cosine_angle = np.dot(ba, bc) / (np.linalg.norm(ba) * np.linalg.norm(bc))\n",
    "    angle = np.arccos(cosine_angle)\n",
    "    return angle\n",
    "\n",
    "\n",
    "def extract_joint_angles(kp_data, steps=2):\n",
    "    # steps = 2 if kp_data is removed conf columns\n",
    "    # steps = 3 if kp_data has conf columns\n",
    "    left_elbow_shoulder_hip = np.asarray([cal_angle(kp_data[i, 7*steps:(7*steps+2)], kp_data[i, 5*steps:(5*steps+2)], kp_data[i, 11*steps:(11*steps+2)])\n",
    "                                          for i in range(len(kp_data))])\n",
    "    left_elbow_shoulder_hip = np.nan_to_num(left_elbow_shoulder_hip)\n",
    "\n",
    "\n",
    "    right_elbow_shoulder_hip = np.asarray([cal_angle(kp_data[i, 8*steps:(8*steps+2)], kp_data[i, 6*steps:(6*steps+2)], kp_data[i, 12*steps:(12*steps+2)])\n",
    "                                            for i in range(len(kp_data))])\n",
    "    right_elbow_shoulder_hip = np.nan_to_num(right_elbow_shoulder_hip)\n",
    "\n",
    "\n",
    "    left_wrist_elbow_shoulder = np.asarray([cal_angle(kp_data[i, 9*steps:(9*steps+2)], kp_data[i, 7*steps:(7*steps+2)], kp_data[i, 5*steps:(5*steps + 2)])\n",
    "                                            for i in range(len(kp_data))])\n",
    "    left_wrist_elbow_shoulder = np.nan_to_num(left_wrist_elbow_shoulder)\n",
    "\n",
    "\n",
    "    right_wrist_elbow_shoulder = np.asarray([cal_angle(kp_data[i, 10*steps:(10*steps+2)], kp_data[i, 8*steps:(8*steps+2)], kp_data[i, 6*steps:(6*steps+2)])\n",
    "                                              for i in range(len(kp_data))])\n",
    "    right_wrist_elbow_shoulder = np.nan_to_num(right_wrist_elbow_shoulder)\n",
    "\n",
    "\n",
    "    right_elbow_shoulder = np.asarray([cal_angle(kp_data[i, 8*steps:(8*steps+2)], kp_data[i, 6*steps:(6*steps+2)], kp_data[i, 5*steps:(5*steps+2)])\n",
    "                                              for i in range(len(kp_data))])\n",
    "    right_elbow_shoulder = np.nan_to_num(right_elbow_shoulder)\n",
    "\n",
    "\n",
    "    left_elbow_shoulder = np.asarray([cal_angle(kp_data[i, 6*steps:(6*steps+2)], kp_data[i, 5*steps:(5*steps+2)], kp_data[i, 7*steps:(7*steps+2)])\n",
    "                                              for i in range(len(kp_data))])\n",
    "    left_elbow_shoulder = np.nan_to_num(left_elbow_shoulder)\n",
    "\n",
    "\n",
    "    joint_angles = np.array([left_elbow_shoulder_hip,\n",
    "                    right_elbow_shoulder_hip, left_wrist_elbow_shoulder, \n",
    "                             right_wrist_elbow_shoulder, right_elbow_shoulder,\n",
    "                             left_elbow_shoulder]).T\n",
    "\n",
    "    return joint_angles\n",
    "def extract_velocity(kp_data):\n",
    "    velocity = np.diff(kp_data, axis=0)\n",
    "    return velocity\n",
    "def moving(v):\n",
    "    if v>0:\n",
    "        return 1\n",
    "    return 0\n",
    "def is_moving(kp_data):\n",
    "    velocity = np.diff(kp_data, axis=0)\n",
    "    velocity=pd.DataFrame(velocity)\n",
    "    for col in velocity.columns:\n",
    "        velocity[col]=velocity[col].apply(lambda x: moving(x))\n",
    "    velocity=np.array(velocity)\n",
    "    return velocity\n",
    "def extract_acceleration(kp_data):\n",
    "    velocity = np.diff(kp_data, axis=0)\n",
    "    acceleration = np.diff(velocity, axis=0)\n",
    "    return acceleration\n",
    "def segment(data, max_time, sub_window_size, stride_size):\n",
    "    sub_windows = np.arange(sub_window_size)[None, :] + np.arange(0, max_time, stride_size)[:, None]\n",
    "\n",
    "    row, col = np.where(sub_windows >= max_time)\n",
    "    uniq_row = len(np.unique(row))\n",
    "\n",
    "    if uniq_row > 0 and row[0] > 0:\n",
    "        sub_windows = sub_windows[:-uniq_row, :]\n",
    "\n",
    "    return data[sub_windows]\n",
    "import scipy\n",
    "\n",
    "def extract_feature(data, fs):\n",
    "    mean_ft = np.mean(data, axis=0)\n",
    "    std_ft = np.std(data, axis=0)\n",
    "    max_ft = np.max(data, axis=0)\n",
    "    min_ft = np.min(data, axis=0)\n",
    "    var_ft = np.var(data, axis=0)\n",
    "    med_ft = np.median(data, axis=0)\n",
    "    sum_ft = np.sum(data, axis=0)\n",
    "    std = np.std(data, axis=0)\n",
    "    kurtosis=scipy.stats.kurtosis(data)\n",
    "    skew=scipy.stats.skew(data)\n",
    "    quantile25=np.quantile(data,0.25,axis=0)\n",
    "    quantile75=np.quantile(data,0.75,axis=0)\n",
    "    rms = np.sqrt(np.mean(data**2,axis=0))\n",
    "    mean_absolute=np.mean(np.absolute(data),axis=0)\n",
    "    features = np.array([mean_ft, std_ft, max_ft, min_ft,\n",
    "                         var_ft, med_ft,sum_ft,std,kurtosis,skew,quantile25,quantile75\n",
    "                         ,rms,mean_absolute]).T.flatten()\n",
    "    features = np.nan_to_num(features)\n",
    "    return features\n",
    "def remove_redundant_kp(kp_df):\n",
    "    kp_df = kp_df.loc[:, ~kp_df.columns.str.contains(\n",
    "    'conf|left_knee|right_knee|left_ankle|right_ankle', regex=True)]\n",
    "    return kp_df"
   ]
  },
  {
   "cell_type": "code",
   "execution_count": 6,
   "id": "1475622c",
   "metadata": {},
   "outputs": [],
   "source": [
    "def make_csv(USER_ID):\n",
    "    USER_ID=USER_ID[:5]\n",
    "    keypoint_csv = DATA_FOLDER + \"train/{}_keypoint.csv\".format(USER_ID)\n",
    "    ann_csv = DATA_FOLDER + \"/ann/{}_ann.csv\".format(USER_ID)\n",
    "    kp_df, ann_df = load_data(keypoint_csv, ann_csv)\n",
    "    kp_df = remove_redundant_kp(kp_df)\n",
    "    col=kp_df.columns\n",
    "#     kp_df=standartscaler.fit_transform(kp_df)\n",
    "    kp_df=pd.DataFrame(kp_df,columns=col)\n",
    "    feature_seg_feat=[\"left_elbow_shoulder_hip\",\n",
    "                    \"right_elbow_shoulder_hip\", \"left_wrist_elbow_shoulder\", \n",
    "                    \"right_wrist_elbow_shoulder\",\" right_elbow_shoulder\",\n",
    "                    \"left_elbow_shoulder\"]\n",
    "    \n",
    "    feat_names=['right_shoulder_y','right_shoulder_x']\n",
    "    feature=[]\n",
    "    stat_feat=[\"mean_ft\", \"std_ft\", \"max_ft\", \"min_ft\", \"var_ft\", \"med_ft\", \"sum_ft\",\n",
    "               \"std\",\"kurtosis\",\"skew\",\"quantile 25\",'quantile 75',\"RMS\",\"MAV\"]\n",
    "\n",
    "#position of body\n",
    "    for i in [e for e in kp_df.columns if e not in ('right_shoulder_y','right_shoulder_x')]:\n",
    "        if i[-1]=='y':\n",
    "            feat_name=i[:-2]+\"right_shoulder \"+' dy'\n",
    "            kp_df[feat_name]=kp_df['right_shoulder_y']-kp_df[i]\n",
    "            feat_names.append(feat_name)\n",
    "        else:\n",
    "            feat_name=i[:-1]+\"right_shoulder \"+' dx'\n",
    "            kp_df[feat_name]=kp_df['right_shoulder_x']-kp_df[i]\n",
    "            feat_names.append(feat_name)\n",
    "    df_length_of_body=kp_df[feat_names]\n",
    "    df_length_of_body=standartscaler.fit_transform(df_length_of_body)\n",
    "    df_length_of_body=pd.DataFrame(df_length_of_body,columns=feat_names)\n",
    "    print(len(kp_df['right_shoulder_y']))\n",
    "    print(df_length_of_body.shape)\n",
    "    \n",
    "                                                   \n",
    "    for i in [e for e in df_length_of_body.columns if e not in ('right_shoulder_y',\n",
    "                                                                'right_shoulder_x')]:\n",
    "        if i[-1]=='y':\n",
    "            feat_name=i[:-18]\n",
    "            df_length_of_body[feat_name]=df_length_of_body['right_shoulder_y']+df_length_of_body[i]\n",
    "            \n",
    "        else:\n",
    "            feat_name=i[:-18]\n",
    "            df_length_of_body[feat_name]=df_length_of_body['right_shoulder_x']+df_length_of_body[i]\n",
    "    kp_df=df_length_of_body        \n",
    "    kp_df[\"center_x\"]=kp_df.loc[:,kp_df.columns.str.contains(\"_x\")].apply(np.mean)\n",
    "    kp_df[\"center_y\"]=kp_df.loc[:,kp_df.columns.str.contains(\"_y\")].apply(np.mean)\n",
    "    \n",
    "    norm_feat=kp_df.columns\n",
    "    vel_feat=[f\"velo{x}\" for x in norm_feat]\n",
    "    acc_feat=[f\"acc{x}\" for x in norm_feat]\n",
    "    moving_feat=[f\"moving{x}\" for x in norm_feat]\n",
    "    for feat in feature_seg_feat:\n",
    "        for f in stat_feat:\n",
    "            feature.append(\"\".join([feat,\" \",f]))\n",
    "\n",
    "    for feat in norm_feat:\n",
    "        for f in stat_feat:\n",
    "            feature.append(\"\".join([feat,\" \",f]))\n",
    "\n",
    "    for feat in vel_feat:\n",
    "        for f in stat_feat:\n",
    "            feature.append(\"\".join([feat,\" \",f]))\n",
    "    for feat in acc_feat:\n",
    "        for f in stat_feat:\n",
    "            feature.append(\"\".join([feat,\" \",f]))\n",
    "    for feat in moving_feat:\n",
    "        for f in stat_feat:\n",
    "            feature.append(\"\".join([feat,\" \",f]))\n",
    "    for i in range(len(kp_df.columns)):\n",
    "        kp_df.iloc[:, i] = smooth_kp(np.array(kp_df.iloc[:, i]))\n",
    "\n",
    "    # Processing training data\n",
    "    all_feature = []\n",
    "    all_label = []\n",
    "\n",
    "    for i in range(len(ann_df)):\n",
    "        seg = kp_df.loc[int(ann_df['start_time'][i]*FS): int(ann_df['stop_time'][i]*FS)]\n",
    "        seg_label = ann_df[\"annotation\"].iloc[i]\n",
    "        if len(seg) > 0 and (len(seg) >= WINDOW_SIZE * FS):\n",
    "            # Calculate joint angles from keypoint data\n",
    "            joint_angles = extract_joint_angles(np.array(seg))\n",
    "\n",
    "            # Segment keypoint data and joint angles by WINDOW_SIZE and OVERLAP_RATE\n",
    "            ws_seg = segment(np.array(seg), max_time=len(seg), sub_window_size=WINDOW_SIZE * FS, stride_size=int((WINDOW_SIZE - OVERLAP_RATE) * FS))\n",
    "            joint_angles_seg = segment(joint_angles, max_time=len(seg), sub_window_size=WINDOW_SIZE * FS,\n",
    "                                            stride_size=int((WINDOW_SIZE - OVERLAP_RATE) * FS))\n",
    "\n",
    "            # Calculate velocity from each segment of keypoint data\n",
    "            velocity_seg = [extract_velocity(ws_seg[i]) for i in range(len(ws_seg))]\n",
    "\n",
    "            # Calculate acceleration from each segment of keypoint data\n",
    "            acceleration_seg = [extract_acceleration(ws_seg[i]) for i in range(len(ws_seg))]\n",
    "            \n",
    "            # Calculate movement from each segment of keypoint data\n",
    "            moving_seg = [is_moving(ws_seg[i]) for i in range(len(ws_seg))]\n",
    "            # Calculate features from each segment of keypoint data, joint angles and velocity\n",
    "            feature_seg = [extract_feature(ws_seg[i], FS) for i in range(len(ws_seg))]\n",
    "            feature_joint_angles_seg = [extract_feature(joint_angles_seg[i], FS) for i in\n",
    "                                      range(len(joint_angles_seg))]\n",
    "            feature_velocity_seg = [extract_feature(extract_velocity(ws_seg[i]), FS) for i in range(len(ws_seg))]\n",
    "            feature_acceleration_seg = [extract_feature(extract_acceleration(ws_seg[i]), FS) for i in range(len(ws_seg))]\n",
    "            feature_moving_seg = [extract_feature(is_moving(ws_seg[i]), FS) for i in range(len(ws_seg))]\n",
    "            # Concatenate all features\n",
    "            feature_segs = np.concatenate([feature_seg, feature_joint_angles_seg, feature_velocity_seg,feature_acceleration_seg,feature_moving_seg], axis=1)\n",
    "\n",
    "            all_feature.extend(feature_segs)\n",
    "            all_label.extend([int(seg_label)]*len(ws_seg))\n",
    "\n",
    "    df=pd.DataFrame(all_feature,columns=feature)\n",
    "    b=list(all_label[1:])\n",
    "    b.insert(0,0)\n",
    "    df['previous_label']=b\n",
    "    \n",
    "    df['label'] = all_label\n",
    "    testset=[x[:3] for x in os.listdir('./test_set_df_acc')]\n",
    "    if USER_ID[:3] not in testset:\n",
    "        name=f\"./new/training_set_df_acc_win3/{USER_ID}.csv\"\n",
    "    else:\n",
    "        name=f\"./new/test_set_df_acc_win3/{USER_ID}.csv\"\n",
    "    df.to_csv(name,index=False)\n",
    "#     print(df)\n",
    "    return df"
   ]
  },
  {
   "cell_type": "code",
   "execution_count": 7,
   "id": "4b547d20",
   "metadata": {
    "scrolled": true
   },
   "outputs": [
    {
     "name": "stdout",
     "output_type": "stream",
     "text": [
      "9510\n",
      "(9510, 26)\n"
     ]
    },
    {
     "name": "stderr",
     "output_type": "stream",
     "text": [
      "/Users/khangphan/anaconda3/lib/python3.10/site-packages/numpy/lib/shape_base.py:379: RuntimeWarning: Precision loss occurred in moment calculation due to catastrophic cancellation. This occurs when the data are nearly identical. Results may be unreliable.\n",
      "  res = asanyarray(func1d(inarr_view[ind0], *args, **kwargs))\n",
      "/Users/khangphan/anaconda3/lib/python3.10/site-packages/numpy/lib/shape_base.py:402: RuntimeWarning: Precision loss occurred in moment calculation due to catastrophic cancellation. This occurs when the data are nearly identical. Results may be unreliable.\n",
      "  buff[ind] = asanyarray(func1d(inarr_view[ind], *args, **kwargs))\n",
      "/var/folders/qq/ckqvfttx4vs_68cbq08jts2c0000gn/T/ipykernel_13918/1178493513.py:88: RuntimeWarning: Precision loss occurred in moment calculation due to catastrophic cancellation. This occurs when the data are nearly identical. Results may be unreliable.\n",
      "  kurtosis=scipy.stats.kurtosis(data)\n",
      "/var/folders/qq/ckqvfttx4vs_68cbq08jts2c0000gn/T/ipykernel_13918/1178493513.py:89: RuntimeWarning: Precision loss occurred in moment calculation due to catastrophic cancellation. This occurs when the data are nearly identical. Results may be unreliable.\n",
      "  skew=scipy.stats.skew(data)\n"
     ]
    },
    {
     "data": {
      "text/html": [
       "<div>\n",
       "<style scoped>\n",
       "    .dataframe tbody tr th:only-of-type {\n",
       "        vertical-align: middle;\n",
       "    }\n",
       "\n",
       "    .dataframe tbody tr th {\n",
       "        vertical-align: top;\n",
       "    }\n",
       "\n",
       "    .dataframe thead th {\n",
       "        text-align: right;\n",
       "    }\n",
       "</style>\n",
       "<table border=\"1\" class=\"dataframe\">\n",
       "  <thead>\n",
       "    <tr style=\"text-align: right;\">\n",
       "      <th></th>\n",
       "      <th>left_elbow_shoulder_hip mean_ft</th>\n",
       "      <th>left_elbow_shoulder_hip std_ft</th>\n",
       "      <th>left_elbow_shoulder_hip max_ft</th>\n",
       "      <th>left_elbow_shoulder_hip min_ft</th>\n",
       "      <th>left_elbow_shoulder_hip var_ft</th>\n",
       "      <th>left_elbow_shoulder_hip med_ft</th>\n",
       "      <th>left_elbow_shoulder_hip sum_ft</th>\n",
       "      <th>left_elbow_shoulder_hip std</th>\n",
       "      <th>left_elbow_shoulder_hip kurtosis</th>\n",
       "      <th>left_elbow_shoulder_hip skew</th>\n",
       "      <th>...</th>\n",
       "      <th>movingcenter_y sum_ft</th>\n",
       "      <th>movingcenter_y std</th>\n",
       "      <th>movingcenter_y kurtosis</th>\n",
       "      <th>movingcenter_y skew</th>\n",
       "      <th>movingcenter_y quantile 25</th>\n",
       "      <th>movingcenter_y quantile 75</th>\n",
       "      <th>movingcenter_y RMS</th>\n",
       "      <th>movingcenter_y MAV</th>\n",
       "      <th>previous_label</th>\n",
       "      <th>label</th>\n",
       "    </tr>\n",
       "  </thead>\n",
       "  <tbody>\n",
       "    <tr>\n",
       "      <th>0</th>\n",
       "      <td>-0.857988</td>\n",
       "      <td>5.551115e-16</td>\n",
       "      <td>-0.857988</td>\n",
       "      <td>-0.857988</td>\n",
       "      <td>3.081488e-31</td>\n",
       "      <td>-0.857988</td>\n",
       "      <td>-77.218935</td>\n",
       "      <td>5.551115e-16</td>\n",
       "      <td>0.000000</td>\n",
       "      <td>0.000000</td>\n",
       "      <td>...</td>\n",
       "      <td>0.0</td>\n",
       "      <td>0.0</td>\n",
       "      <td>0.0</td>\n",
       "      <td>0.0</td>\n",
       "      <td>0.0</td>\n",
       "      <td>0.0</td>\n",
       "      <td>0.0</td>\n",
       "      <td>0.0</td>\n",
       "      <td>0</td>\n",
       "      <td>8</td>\n",
       "    </tr>\n",
       "    <tr>\n",
       "      <th>1</th>\n",
       "      <td>-0.857988</td>\n",
       "      <td>5.551115e-16</td>\n",
       "      <td>-0.857988</td>\n",
       "      <td>-0.857988</td>\n",
       "      <td>3.081488e-31</td>\n",
       "      <td>-0.857988</td>\n",
       "      <td>-77.218935</td>\n",
       "      <td>5.551115e-16</td>\n",
       "      <td>0.000000</td>\n",
       "      <td>0.000000</td>\n",
       "      <td>...</td>\n",
       "      <td>0.0</td>\n",
       "      <td>0.0</td>\n",
       "      <td>0.0</td>\n",
       "      <td>0.0</td>\n",
       "      <td>0.0</td>\n",
       "      <td>0.0</td>\n",
       "      <td>0.0</td>\n",
       "      <td>0.0</td>\n",
       "      <td>8</td>\n",
       "      <td>8</td>\n",
       "    </tr>\n",
       "    <tr>\n",
       "      <th>2</th>\n",
       "      <td>-0.857988</td>\n",
       "      <td>5.551115e-16</td>\n",
       "      <td>-0.857988</td>\n",
       "      <td>-0.857988</td>\n",
       "      <td>3.081488e-31</td>\n",
       "      <td>-0.857988</td>\n",
       "      <td>-77.218935</td>\n",
       "      <td>5.551115e-16</td>\n",
       "      <td>0.000000</td>\n",
       "      <td>0.000000</td>\n",
       "      <td>...</td>\n",
       "      <td>0.0</td>\n",
       "      <td>0.0</td>\n",
       "      <td>0.0</td>\n",
       "      <td>0.0</td>\n",
       "      <td>0.0</td>\n",
       "      <td>0.0</td>\n",
       "      <td>0.0</td>\n",
       "      <td>0.0</td>\n",
       "      <td>8</td>\n",
       "      <td>8</td>\n",
       "    </tr>\n",
       "    <tr>\n",
       "      <th>3</th>\n",
       "      <td>-0.857988</td>\n",
       "      <td>5.551115e-16</td>\n",
       "      <td>-0.857988</td>\n",
       "      <td>-0.857988</td>\n",
       "      <td>3.081488e-31</td>\n",
       "      <td>-0.857988</td>\n",
       "      <td>-77.218935</td>\n",
       "      <td>5.551115e-16</td>\n",
       "      <td>0.000000</td>\n",
       "      <td>0.000000</td>\n",
       "      <td>...</td>\n",
       "      <td>0.0</td>\n",
       "      <td>0.0</td>\n",
       "      <td>0.0</td>\n",
       "      <td>0.0</td>\n",
       "      <td>0.0</td>\n",
       "      <td>0.0</td>\n",
       "      <td>0.0</td>\n",
       "      <td>0.0</td>\n",
       "      <td>8</td>\n",
       "      <td>8</td>\n",
       "    </tr>\n",
       "    <tr>\n",
       "      <th>4</th>\n",
       "      <td>-0.857988</td>\n",
       "      <td>5.551115e-16</td>\n",
       "      <td>-0.857988</td>\n",
       "      <td>-0.857988</td>\n",
       "      <td>3.081488e-31</td>\n",
       "      <td>-0.857988</td>\n",
       "      <td>-77.218935</td>\n",
       "      <td>5.551115e-16</td>\n",
       "      <td>0.000000</td>\n",
       "      <td>0.000000</td>\n",
       "      <td>...</td>\n",
       "      <td>0.0</td>\n",
       "      <td>0.0</td>\n",
       "      <td>0.0</td>\n",
       "      <td>0.0</td>\n",
       "      <td>0.0</td>\n",
       "      <td>0.0</td>\n",
       "      <td>0.0</td>\n",
       "      <td>0.0</td>\n",
       "      <td>8</td>\n",
       "      <td>8</td>\n",
       "    </tr>\n",
       "    <tr>\n",
       "      <th>...</th>\n",
       "      <td>...</td>\n",
       "      <td>...</td>\n",
       "      <td>...</td>\n",
       "      <td>...</td>\n",
       "      <td>...</td>\n",
       "      <td>...</td>\n",
       "      <td>...</td>\n",
       "      <td>...</td>\n",
       "      <td>...</td>\n",
       "      <td>...</td>\n",
       "      <td>...</td>\n",
       "      <td>...</td>\n",
       "      <td>...</td>\n",
       "      <td>...</td>\n",
       "      <td>...</td>\n",
       "      <td>...</td>\n",
       "      <td>...</td>\n",
       "      <td>...</td>\n",
       "      <td>...</td>\n",
       "      <td>...</td>\n",
       "      <td>...</td>\n",
       "    </tr>\n",
       "    <tr>\n",
       "      <th>181</th>\n",
       "      <td>-0.849655</td>\n",
       "      <td>7.861651e-02</td>\n",
       "      <td>-0.107988</td>\n",
       "      <td>-0.857988</td>\n",
       "      <td>6.180556e-03</td>\n",
       "      <td>-0.857988</td>\n",
       "      <td>-76.468935</td>\n",
       "      <td>7.861651e-02</td>\n",
       "      <td>85.011236</td>\n",
       "      <td>9.327981</td>\n",
       "      <td>...</td>\n",
       "      <td>0.0</td>\n",
       "      <td>0.0</td>\n",
       "      <td>0.0</td>\n",
       "      <td>0.0</td>\n",
       "      <td>0.0</td>\n",
       "      <td>0.0</td>\n",
       "      <td>0.0</td>\n",
       "      <td>0.0</td>\n",
       "      <td>7</td>\n",
       "      <td>7</td>\n",
       "    </tr>\n",
       "    <tr>\n",
       "      <th>182</th>\n",
       "      <td>-0.787541</td>\n",
       "      <td>2.258925e-01</td>\n",
       "      <td>-0.023669</td>\n",
       "      <td>-0.857988</td>\n",
       "      <td>5.102741e-02</td>\n",
       "      <td>-0.857988</td>\n",
       "      <td>-70.878698</td>\n",
       "      <td>2.258925e-01</td>\n",
       "      <td>6.476304</td>\n",
       "      <td>2.905259</td>\n",
       "      <td>...</td>\n",
       "      <td>0.0</td>\n",
       "      <td>0.0</td>\n",
       "      <td>0.0</td>\n",
       "      <td>0.0</td>\n",
       "      <td>0.0</td>\n",
       "      <td>0.0</td>\n",
       "      <td>0.0</td>\n",
       "      <td>0.0</td>\n",
       "      <td>7</td>\n",
       "      <td>7</td>\n",
       "    </tr>\n",
       "    <tr>\n",
       "      <th>183</th>\n",
       "      <td>-0.704421</td>\n",
       "      <td>2.926886e-01</td>\n",
       "      <td>0.078402</td>\n",
       "      <td>-0.857988</td>\n",
       "      <td>8.566664e-02</td>\n",
       "      <td>-0.857988</td>\n",
       "      <td>-63.397929</td>\n",
       "      <td>2.926886e-01</td>\n",
       "      <td>0.367448</td>\n",
       "      <td>1.469121</td>\n",
       "      <td>...</td>\n",
       "      <td>0.0</td>\n",
       "      <td>0.0</td>\n",
       "      <td>0.0</td>\n",
       "      <td>0.0</td>\n",
       "      <td>0.0</td>\n",
       "      <td>0.0</td>\n",
       "      <td>0.0</td>\n",
       "      <td>0.0</td>\n",
       "      <td>7</td>\n",
       "      <td>7</td>\n",
       "    </tr>\n",
       "    <tr>\n",
       "      <th>184</th>\n",
       "      <td>-0.382544</td>\n",
       "      <td>3.601591e-01</td>\n",
       "      <td>0.078402</td>\n",
       "      <td>-0.857988</td>\n",
       "      <td>1.297146e-01</td>\n",
       "      <td>-0.185651</td>\n",
       "      <td>-34.428994</td>\n",
       "      <td>3.601591e-01</td>\n",
       "      <td>-1.627800</td>\n",
       "      <td>-0.491138</td>\n",
       "      <td>...</td>\n",
       "      <td>0.0</td>\n",
       "      <td>0.0</td>\n",
       "      <td>0.0</td>\n",
       "      <td>0.0</td>\n",
       "      <td>0.0</td>\n",
       "      <td>0.0</td>\n",
       "      <td>0.0</td>\n",
       "      <td>0.0</td>\n",
       "      <td>7</td>\n",
       "      <td>7</td>\n",
       "    </tr>\n",
       "    <tr>\n",
       "      <th>185</th>\n",
       "      <td>-0.688938</td>\n",
       "      <td>3.383421e-01</td>\n",
       "      <td>0.019231</td>\n",
       "      <td>-0.857988</td>\n",
       "      <td>1.144754e-01</td>\n",
       "      <td>-0.857988</td>\n",
       "      <td>-62.004438</td>\n",
       "      <td>3.383421e-01</td>\n",
       "      <td>0.272951</td>\n",
       "      <td>1.505094</td>\n",
       "      <td>...</td>\n",
       "      <td>0.0</td>\n",
       "      <td>0.0</td>\n",
       "      <td>0.0</td>\n",
       "      <td>0.0</td>\n",
       "      <td>0.0</td>\n",
       "      <td>0.0</td>\n",
       "      <td>0.0</td>\n",
       "      <td>0.0</td>\n",
       "      <td>8</td>\n",
       "      <td>8</td>\n",
       "    </tr>\n",
       "  </tbody>\n",
       "</table>\n",
       "<p>186 rows × 2998 columns</p>\n",
       "</div>"
      ],
      "text/plain": [
       "     left_elbow_shoulder_hip mean_ft  left_elbow_shoulder_hip std_ft  \\\n",
       "0                          -0.857988                    5.551115e-16   \n",
       "1                          -0.857988                    5.551115e-16   \n",
       "2                          -0.857988                    5.551115e-16   \n",
       "3                          -0.857988                    5.551115e-16   \n",
       "4                          -0.857988                    5.551115e-16   \n",
       "..                               ...                             ...   \n",
       "181                        -0.849655                    7.861651e-02   \n",
       "182                        -0.787541                    2.258925e-01   \n",
       "183                        -0.704421                    2.926886e-01   \n",
       "184                        -0.382544                    3.601591e-01   \n",
       "185                        -0.688938                    3.383421e-01   \n",
       "\n",
       "     left_elbow_shoulder_hip max_ft  left_elbow_shoulder_hip min_ft  \\\n",
       "0                         -0.857988                       -0.857988   \n",
       "1                         -0.857988                       -0.857988   \n",
       "2                         -0.857988                       -0.857988   \n",
       "3                         -0.857988                       -0.857988   \n",
       "4                         -0.857988                       -0.857988   \n",
       "..                              ...                             ...   \n",
       "181                       -0.107988                       -0.857988   \n",
       "182                       -0.023669                       -0.857988   \n",
       "183                        0.078402                       -0.857988   \n",
       "184                        0.078402                       -0.857988   \n",
       "185                        0.019231                       -0.857988   \n",
       "\n",
       "     left_elbow_shoulder_hip var_ft  left_elbow_shoulder_hip med_ft  \\\n",
       "0                      3.081488e-31                       -0.857988   \n",
       "1                      3.081488e-31                       -0.857988   \n",
       "2                      3.081488e-31                       -0.857988   \n",
       "3                      3.081488e-31                       -0.857988   \n",
       "4                      3.081488e-31                       -0.857988   \n",
       "..                              ...                             ...   \n",
       "181                    6.180556e-03                       -0.857988   \n",
       "182                    5.102741e-02                       -0.857988   \n",
       "183                    8.566664e-02                       -0.857988   \n",
       "184                    1.297146e-01                       -0.185651   \n",
       "185                    1.144754e-01                       -0.857988   \n",
       "\n",
       "     left_elbow_shoulder_hip sum_ft  left_elbow_shoulder_hip std  \\\n",
       "0                        -77.218935                 5.551115e-16   \n",
       "1                        -77.218935                 5.551115e-16   \n",
       "2                        -77.218935                 5.551115e-16   \n",
       "3                        -77.218935                 5.551115e-16   \n",
       "4                        -77.218935                 5.551115e-16   \n",
       "..                              ...                          ...   \n",
       "181                      -76.468935                 7.861651e-02   \n",
       "182                      -70.878698                 2.258925e-01   \n",
       "183                      -63.397929                 2.926886e-01   \n",
       "184                      -34.428994                 3.601591e-01   \n",
       "185                      -62.004438                 3.383421e-01   \n",
       "\n",
       "     left_elbow_shoulder_hip kurtosis  left_elbow_shoulder_hip skew  ...  \\\n",
       "0                            0.000000                      0.000000  ...   \n",
       "1                            0.000000                      0.000000  ...   \n",
       "2                            0.000000                      0.000000  ...   \n",
       "3                            0.000000                      0.000000  ...   \n",
       "4                            0.000000                      0.000000  ...   \n",
       "..                                ...                           ...  ...   \n",
       "181                         85.011236                      9.327981  ...   \n",
       "182                          6.476304                      2.905259  ...   \n",
       "183                          0.367448                      1.469121  ...   \n",
       "184                         -1.627800                     -0.491138  ...   \n",
       "185                          0.272951                      1.505094  ...   \n",
       "\n",
       "     movingcenter_y sum_ft  movingcenter_y std  movingcenter_y kurtosis  \\\n",
       "0                      0.0                 0.0                      0.0   \n",
       "1                      0.0                 0.0                      0.0   \n",
       "2                      0.0                 0.0                      0.0   \n",
       "3                      0.0                 0.0                      0.0   \n",
       "4                      0.0                 0.0                      0.0   \n",
       "..                     ...                 ...                      ...   \n",
       "181                    0.0                 0.0                      0.0   \n",
       "182                    0.0                 0.0                      0.0   \n",
       "183                    0.0                 0.0                      0.0   \n",
       "184                    0.0                 0.0                      0.0   \n",
       "185                    0.0                 0.0                      0.0   \n",
       "\n",
       "     movingcenter_y skew  movingcenter_y quantile 25  \\\n",
       "0                    0.0                         0.0   \n",
       "1                    0.0                         0.0   \n",
       "2                    0.0                         0.0   \n",
       "3                    0.0                         0.0   \n",
       "4                    0.0                         0.0   \n",
       "..                   ...                         ...   \n",
       "181                  0.0                         0.0   \n",
       "182                  0.0                         0.0   \n",
       "183                  0.0                         0.0   \n",
       "184                  0.0                         0.0   \n",
       "185                  0.0                         0.0   \n",
       "\n",
       "     movingcenter_y quantile 75  movingcenter_y RMS  movingcenter_y MAV  \\\n",
       "0                           0.0                 0.0                 0.0   \n",
       "1                           0.0                 0.0                 0.0   \n",
       "2                           0.0                 0.0                 0.0   \n",
       "3                           0.0                 0.0                 0.0   \n",
       "4                           0.0                 0.0                 0.0   \n",
       "..                          ...                 ...                 ...   \n",
       "181                         0.0                 0.0                 0.0   \n",
       "182                         0.0                 0.0                 0.0   \n",
       "183                         0.0                 0.0                 0.0   \n",
       "184                         0.0                 0.0                 0.0   \n",
       "185                         0.0                 0.0                 0.0   \n",
       "\n",
       "     previous_label  label  \n",
       "0                 0      8  \n",
       "1                 8      8  \n",
       "2                 8      8  \n",
       "3                 8      8  \n",
       "4                 8      8  \n",
       "..              ...    ...  \n",
       "181               7      7  \n",
       "182               7      7  \n",
       "183               7      7  \n",
       "184               7      7  \n",
       "185               8      8  \n",
       "\n",
       "[186 rows x 2998 columns]"
      ]
     },
     "execution_count": 7,
     "metadata": {},
     "output_type": "execute_result"
    }
   ],
   "source": [
    "make_csv('S08T1.csv')"
   ]
  },
  {
   "cell_type": "code",
   "execution_count": 8,
   "id": "bf5ef555",
   "metadata": {
    "scrolled": true
   },
   "outputs": [
    {
     "name": "stdout",
     "output_type": "stream",
     "text": [
      "N04T1_keypoint.csv\n",
      "10800\n",
      "(10800, 26)\n"
     ]
    },
    {
     "name": "stderr",
     "output_type": "stream",
     "text": [
      "/var/folders/qq/ckqvfttx4vs_68cbq08jts2c0000gn/T/ipykernel_13918/1178493513.py:5: RuntimeWarning: invalid value encountered in scalar divide\n",
      "  cosine_angle = np.dot(ba, bc) / (np.linalg.norm(ba) * np.linalg.norm(bc))\n",
      "/var/folders/qq/ckqvfttx4vs_68cbq08jts2c0000gn/T/ipykernel_13918/1178493513.py:88: RuntimeWarning: Precision loss occurred in moment calculation due to catastrophic cancellation. This occurs when the data are nearly identical. Results may be unreliable.\n",
      "  kurtosis=scipy.stats.kurtosis(data)\n",
      "/var/folders/qq/ckqvfttx4vs_68cbq08jts2c0000gn/T/ipykernel_13918/1178493513.py:89: RuntimeWarning: Precision loss occurred in moment calculation due to catastrophic cancellation. This occurs when the data are nearly identical. Results may be unreliable.\n",
      "  skew=scipy.stats.skew(data)\n",
      "/Users/khangphan/anaconda3/lib/python3.10/site-packages/numpy/lib/shape_base.py:402: RuntimeWarning: Precision loss occurred in moment calculation due to catastrophic cancellation. This occurs when the data are nearly identical. Results may be unreliable.\n",
      "  buff[ind] = asanyarray(func1d(inarr_view[ind], *args, **kwargs))\n",
      "/var/folders/qq/ckqvfttx4vs_68cbq08jts2c0000gn/T/ipykernel_13918/1178493513.py:6: RuntimeWarning: invalid value encountered in arccos\n",
      "  angle = np.arccos(cosine_angle)\n"
     ]
    },
    {
     "name": "stdout",
     "output_type": "stream",
     "text": [
      "N11T1_keypoint.csv\n",
      "6285\n",
      "(6285, 26)\n"
     ]
    },
    {
     "name": "stderr",
     "output_type": "stream",
     "text": [
      "/var/folders/qq/ckqvfttx4vs_68cbq08jts2c0000gn/T/ipykernel_13918/1178493513.py:5: RuntimeWarning: invalid value encountered in scalar divide\n",
      "  cosine_angle = np.dot(ba, bc) / (np.linalg.norm(ba) * np.linalg.norm(bc))\n",
      "/Users/khangphan/anaconda3/lib/python3.10/site-packages/numpy/lib/shape_base.py:402: RuntimeWarning: Precision loss occurred in moment calculation due to catastrophic cancellation. This occurs when the data are nearly identical. Results may be unreliable.\n",
      "  buff[ind] = asanyarray(func1d(inarr_view[ind], *args, **kwargs))\n",
      "/var/folders/qq/ckqvfttx4vs_68cbq08jts2c0000gn/T/ipykernel_13918/1178493513.py:6: RuntimeWarning: invalid value encountered in arccos\n",
      "  angle = np.arccos(cosine_angle)\n",
      "/var/folders/qq/ckqvfttx4vs_68cbq08jts2c0000gn/T/ipykernel_13918/1178493513.py:88: RuntimeWarning: Precision loss occurred in moment calculation due to catastrophic cancellation. This occurs when the data are nearly identical. Results may be unreliable.\n",
      "  kurtosis=scipy.stats.kurtosis(data)\n",
      "/var/folders/qq/ckqvfttx4vs_68cbq08jts2c0000gn/T/ipykernel_13918/1178493513.py:89: RuntimeWarning: Precision loss occurred in moment calculation due to catastrophic cancellation. This occurs when the data are nearly identical. Results may be unreliable.\n",
      "  skew=scipy.stats.skew(data)\n"
     ]
    },
    {
     "name": "stdout",
     "output_type": "stream",
     "text": [
      "S07T2_keypoint.csv\n",
      "8685\n",
      "(8685, 26)\n"
     ]
    },
    {
     "name": "stderr",
     "output_type": "stream",
     "text": [
      "/Users/khangphan/anaconda3/lib/python3.10/site-packages/numpy/lib/shape_base.py:379: RuntimeWarning: Precision loss occurred in moment calculation due to catastrophic cancellation. This occurs when the data are nearly identical. Results may be unreliable.\n",
      "  res = asanyarray(func1d(inarr_view[ind0], *args, **kwargs))\n",
      "/Users/khangphan/anaconda3/lib/python3.10/site-packages/numpy/lib/shape_base.py:402: RuntimeWarning: Precision loss occurred in moment calculation due to catastrophic cancellation. This occurs when the data are nearly identical. Results may be unreliable.\n",
      "  buff[ind] = asanyarray(func1d(inarr_view[ind], *args, **kwargs))\n",
      "/var/folders/qq/ckqvfttx4vs_68cbq08jts2c0000gn/T/ipykernel_13918/1178493513.py:88: RuntimeWarning: Precision loss occurred in moment calculation due to catastrophic cancellation. This occurs when the data are nearly identical. Results may be unreliable.\n",
      "  kurtosis=scipy.stats.kurtosis(data)\n",
      "/var/folders/qq/ckqvfttx4vs_68cbq08jts2c0000gn/T/ipykernel_13918/1178493513.py:89: RuntimeWarning: Precision loss occurred in moment calculation due to catastrophic cancellation. This occurs when the data are nearly identical. Results may be unreliable.\n",
      "  skew=scipy.stats.skew(data)\n"
     ]
    },
    {
     "name": "stdout",
     "output_type": "stream",
     "text": [
      "S08T2_keypoint.csv\n",
      "9855\n",
      "(9855, 26)\n"
     ]
    },
    {
     "name": "stderr",
     "output_type": "stream",
     "text": [
      "/Users/khangphan/anaconda3/lib/python3.10/site-packages/numpy/lib/shape_base.py:379: RuntimeWarning: Precision loss occurred in moment calculation due to catastrophic cancellation. This occurs when the data are nearly identical. Results may be unreliable.\n",
      "  res = asanyarray(func1d(inarr_view[ind0], *args, **kwargs))\n",
      "/Users/khangphan/anaconda3/lib/python3.10/site-packages/numpy/lib/shape_base.py:402: RuntimeWarning: Precision loss occurred in moment calculation due to catastrophic cancellation. This occurs when the data are nearly identical. Results may be unreliable.\n",
      "  buff[ind] = asanyarray(func1d(inarr_view[ind], *args, **kwargs))\n",
      "/var/folders/qq/ckqvfttx4vs_68cbq08jts2c0000gn/T/ipykernel_13918/1178493513.py:88: RuntimeWarning: Precision loss occurred in moment calculation due to catastrophic cancellation. This occurs when the data are nearly identical. Results may be unreliable.\n",
      "  kurtosis=scipy.stats.kurtosis(data)\n",
      "/var/folders/qq/ckqvfttx4vs_68cbq08jts2c0000gn/T/ipykernel_13918/1178493513.py:89: RuntimeWarning: Precision loss occurred in moment calculation due to catastrophic cancellation. This occurs when the data are nearly identical. Results may be unreliable.\n",
      "  skew=scipy.stats.skew(data)\n"
     ]
    },
    {
     "name": "stdout",
     "output_type": "stream",
     "text": [
      "S01T2_keypoint.csv\n",
      "9315\n",
      "(9315, 26)\n"
     ]
    },
    {
     "name": "stderr",
     "output_type": "stream",
     "text": [
      "/var/folders/qq/ckqvfttx4vs_68cbq08jts2c0000gn/T/ipykernel_13918/1178493513.py:5: RuntimeWarning: invalid value encountered in scalar divide\n",
      "  cosine_angle = np.dot(ba, bc) / (np.linalg.norm(ba) * np.linalg.norm(bc))\n",
      "/Users/khangphan/anaconda3/lib/python3.10/site-packages/numpy/lib/shape_base.py:402: RuntimeWarning: Precision loss occurred in moment calculation due to catastrophic cancellation. This occurs when the data are nearly identical. Results may be unreliable.\n",
      "  buff[ind] = asanyarray(func1d(inarr_view[ind], *args, **kwargs))\n",
      "/var/folders/qq/ckqvfttx4vs_68cbq08jts2c0000gn/T/ipykernel_13918/1178493513.py:88: RuntimeWarning: Precision loss occurred in moment calculation due to catastrophic cancellation. This occurs when the data are nearly identical. Results may be unreliable.\n",
      "  kurtosis=scipy.stats.kurtosis(data)\n",
      "/var/folders/qq/ckqvfttx4vs_68cbq08jts2c0000gn/T/ipykernel_13918/1178493513.py:89: RuntimeWarning: Precision loss occurred in moment calculation due to catastrophic cancellation. This occurs when the data are nearly identical. Results may be unreliable.\n",
      "  skew=scipy.stats.skew(data)\n"
     ]
    },
    {
     "name": "stdout",
     "output_type": "stream",
     "text": [
      "N02T1_keypoint.csv\n",
      "8280\n",
      "(8280, 26)\n"
     ]
    },
    {
     "name": "stderr",
     "output_type": "stream",
     "text": [
      "/Users/khangphan/anaconda3/lib/python3.10/site-packages/numpy/lib/shape_base.py:379: RuntimeWarning: Precision loss occurred in moment calculation due to catastrophic cancellation. This occurs when the data are nearly identical. Results may be unreliable.\n",
      "  res = asanyarray(func1d(inarr_view[ind0], *args, **kwargs))\n",
      "/Users/khangphan/anaconda3/lib/python3.10/site-packages/numpy/lib/shape_base.py:402: RuntimeWarning: Precision loss occurred in moment calculation due to catastrophic cancellation. This occurs when the data are nearly identical. Results may be unreliable.\n",
      "  buff[ind] = asanyarray(func1d(inarr_view[ind], *args, **kwargs))\n"
     ]
    },
    {
     "name": "stdout",
     "output_type": "stream",
     "text": [
      "S09T2_keypoint.csv\n",
      "10710\n",
      "(10710, 26)\n"
     ]
    },
    {
     "name": "stderr",
     "output_type": "stream",
     "text": [
      "/var/folders/qq/ckqvfttx4vs_68cbq08jts2c0000gn/T/ipykernel_13918/1178493513.py:5: RuntimeWarning: invalid value encountered in scalar divide\n",
      "  cosine_angle = np.dot(ba, bc) / (np.linalg.norm(ba) * np.linalg.norm(bc))\n",
      "/var/folders/qq/ckqvfttx4vs_68cbq08jts2c0000gn/T/ipykernel_13918/1178493513.py:6: RuntimeWarning: invalid value encountered in arccos\n",
      "  angle = np.arccos(cosine_angle)\n",
      "/var/folders/qq/ckqvfttx4vs_68cbq08jts2c0000gn/T/ipykernel_13918/1178493513.py:88: RuntimeWarning: Precision loss occurred in moment calculation due to catastrophic cancellation. This occurs when the data are nearly identical. Results may be unreliable.\n",
      "  kurtosis=scipy.stats.kurtosis(data)\n",
      "/var/folders/qq/ckqvfttx4vs_68cbq08jts2c0000gn/T/ipykernel_13918/1178493513.py:89: RuntimeWarning: Precision loss occurred in moment calculation due to catastrophic cancellation. This occurs when the data are nearly identical. Results may be unreliable.\n",
      "  skew=scipy.stats.skew(data)\n",
      "/Users/khangphan/anaconda3/lib/python3.10/site-packages/numpy/lib/shape_base.py:402: RuntimeWarning: Precision loss occurred in moment calculation due to catastrophic cancellation. This occurs when the data are nearly identical. Results may be unreliable.\n",
      "  buff[ind] = asanyarray(func1d(inarr_view[ind], *args, **kwargs))\n"
     ]
    },
    {
     "name": "stdout",
     "output_type": "stream",
     "text": [
      "S11T2_keypoint.csv\n",
      "10710\n",
      "(10710, 26)\n"
     ]
    },
    {
     "name": "stderr",
     "output_type": "stream",
     "text": [
      "/Users/khangphan/anaconda3/lib/python3.10/site-packages/numpy/lib/shape_base.py:379: RuntimeWarning: Precision loss occurred in moment calculation due to catastrophic cancellation. This occurs when the data are nearly identical. Results may be unreliable.\n",
      "  res = asanyarray(func1d(inarr_view[ind0], *args, **kwargs))\n",
      "/Users/khangphan/anaconda3/lib/python3.10/site-packages/numpy/lib/shape_base.py:402: RuntimeWarning: Precision loss occurred in moment calculation due to catastrophic cancellation. This occurs when the data are nearly identical. Results may be unreliable.\n",
      "  buff[ind] = asanyarray(func1d(inarr_view[ind], *args, **kwargs))\n",
      "/var/folders/qq/ckqvfttx4vs_68cbq08jts2c0000gn/T/ipykernel_13918/1178493513.py:88: RuntimeWarning: Precision loss occurred in moment calculation due to catastrophic cancellation. This occurs when the data are nearly identical. Results may be unreliable.\n",
      "  kurtosis=scipy.stats.kurtosis(data)\n",
      "/var/folders/qq/ckqvfttx4vs_68cbq08jts2c0000gn/T/ipykernel_13918/1178493513.py:89: RuntimeWarning: Precision loss occurred in moment calculation due to catastrophic cancellation. This occurs when the data are nearly identical. Results may be unreliable.\n",
      "  skew=scipy.stats.skew(data)\n"
     ]
    },
    {
     "name": "stdout",
     "output_type": "stream",
     "text": [
      "N12T1_keypoint.csv\n",
      "15240\n",
      "(15240, 26)\n"
     ]
    },
    {
     "name": "stderr",
     "output_type": "stream",
     "text": [
      "/var/folders/qq/ckqvfttx4vs_68cbq08jts2c0000gn/T/ipykernel_13918/1178493513.py:5: RuntimeWarning: invalid value encountered in scalar divide\n",
      "  cosine_angle = np.dot(ba, bc) / (np.linalg.norm(ba) * np.linalg.norm(bc))\n",
      "/Users/khangphan/anaconda3/lib/python3.10/site-packages/numpy/lib/shape_base.py:379: RuntimeWarning: Precision loss occurred in moment calculation due to catastrophic cancellation. This occurs when the data are nearly identical. Results may be unreliable.\n",
      "  res = asanyarray(func1d(inarr_view[ind0], *args, **kwargs))\n",
      "/Users/khangphan/anaconda3/lib/python3.10/site-packages/numpy/lib/shape_base.py:402: RuntimeWarning: Precision loss occurred in moment calculation due to catastrophic cancellation. This occurs when the data are nearly identical. Results may be unreliable.\n",
      "  buff[ind] = asanyarray(func1d(inarr_view[ind], *args, **kwargs))\n",
      "/var/folders/qq/ckqvfttx4vs_68cbq08jts2c0000gn/T/ipykernel_13918/1178493513.py:88: RuntimeWarning: Precision loss occurred in moment calculation due to catastrophic cancellation. This occurs when the data are nearly identical. Results may be unreliable.\n",
      "  kurtosis=scipy.stats.kurtosis(data)\n",
      "/var/folders/qq/ckqvfttx4vs_68cbq08jts2c0000gn/T/ipykernel_13918/1178493513.py:89: RuntimeWarning: Precision loss occurred in moment calculation due to catastrophic cancellation. This occurs when the data are nearly identical. Results may be unreliable.\n",
      "  skew=scipy.stats.skew(data)\n"
     ]
    },
    {
     "name": "stdout",
     "output_type": "stream",
     "text": [
      "N07T1_keypoint.csv\n",
      "7275\n",
      "(7275, 26)\n"
     ]
    },
    {
     "name": "stderr",
     "output_type": "stream",
     "text": [
      "/Users/khangphan/anaconda3/lib/python3.10/site-packages/numpy/lib/shape_base.py:402: RuntimeWarning: Precision loss occurred in moment calculation due to catastrophic cancellation. This occurs when the data are nearly identical. Results may be unreliable.\n",
      "  buff[ind] = asanyarray(func1d(inarr_view[ind], *args, **kwargs))\n",
      "/var/folders/qq/ckqvfttx4vs_68cbq08jts2c0000gn/T/ipykernel_13918/1178493513.py:5: RuntimeWarning: invalid value encountered in scalar divide\n",
      "  cosine_angle = np.dot(ba, bc) / (np.linalg.norm(ba) * np.linalg.norm(bc))\n",
      "/var/folders/qq/ckqvfttx4vs_68cbq08jts2c0000gn/T/ipykernel_13918/1178493513.py:88: RuntimeWarning: Precision loss occurred in moment calculation due to catastrophic cancellation. This occurs when the data are nearly identical. Results may be unreliable.\n",
      "  kurtosis=scipy.stats.kurtosis(data)\n",
      "/var/folders/qq/ckqvfttx4vs_68cbq08jts2c0000gn/T/ipykernel_13918/1178493513.py:89: RuntimeWarning: Precision loss occurred in moment calculation due to catastrophic cancellation. This occurs when the data are nearly identical. Results may be unreliable.\n",
      "  skew=scipy.stats.skew(data)\n"
     ]
    },
    {
     "name": "stdout",
     "output_type": "stream",
     "text": [
      "S03T2_keypoint.csv\n",
      "13905\n",
      "(13905, 26)\n"
     ]
    },
    {
     "name": "stderr",
     "output_type": "stream",
     "text": [
      "/var/folders/qq/ckqvfttx4vs_68cbq08jts2c0000gn/T/ipykernel_13918/1178493513.py:5: RuntimeWarning: invalid value encountered in scalar divide\n",
      "  cosine_angle = np.dot(ba, bc) / (np.linalg.norm(ba) * np.linalg.norm(bc))\n",
      "/Users/khangphan/anaconda3/lib/python3.10/site-packages/numpy/lib/shape_base.py:402: RuntimeWarning: Precision loss occurred in moment calculation due to catastrophic cancellation. This occurs when the data are nearly identical. Results may be unreliable.\n",
      "  buff[ind] = asanyarray(func1d(inarr_view[ind], *args, **kwargs))\n",
      "/var/folders/qq/ckqvfttx4vs_68cbq08jts2c0000gn/T/ipykernel_13918/1178493513.py:6: RuntimeWarning: invalid value encountered in arccos\n",
      "  angle = np.arccos(cosine_angle)\n",
      "/var/folders/qq/ckqvfttx4vs_68cbq08jts2c0000gn/T/ipykernel_13918/1178493513.py:88: RuntimeWarning: Precision loss occurred in moment calculation due to catastrophic cancellation. This occurs when the data are nearly identical. Results may be unreliable.\n",
      "  kurtosis=scipy.stats.kurtosis(data)\n",
      "/var/folders/qq/ckqvfttx4vs_68cbq08jts2c0000gn/T/ipykernel_13918/1178493513.py:89: RuntimeWarning: Precision loss occurred in moment calculation due to catastrophic cancellation. This occurs when the data are nearly identical. Results may be unreliable.\n",
      "  skew=scipy.stats.skew(data)\n"
     ]
    },
    {
     "name": "stdout",
     "output_type": "stream",
     "text": [
      "N01T1_keypoint.csv\n",
      "6990\n",
      "(6990, 26)\n"
     ]
    },
    {
     "name": "stderr",
     "output_type": "stream",
     "text": [
      "/var/folders/qq/ckqvfttx4vs_68cbq08jts2c0000gn/T/ipykernel_13918/1178493513.py:5: RuntimeWarning: invalid value encountered in scalar divide\n",
      "  cosine_angle = np.dot(ba, bc) / (np.linalg.norm(ba) * np.linalg.norm(bc))\n",
      "/var/folders/qq/ckqvfttx4vs_68cbq08jts2c0000gn/T/ipykernel_13918/1178493513.py:6: RuntimeWarning: invalid value encountered in arccos\n",
      "  angle = np.arccos(cosine_angle)\n",
      "/Users/khangphan/anaconda3/lib/python3.10/site-packages/numpy/lib/shape_base.py:402: RuntimeWarning: Precision loss occurred in moment calculation due to catastrophic cancellation. This occurs when the data are nearly identical. Results may be unreliable.\n",
      "  buff[ind] = asanyarray(func1d(inarr_view[ind], *args, **kwargs))\n",
      "/var/folders/qq/ckqvfttx4vs_68cbq08jts2c0000gn/T/ipykernel_13918/1178493513.py:88: RuntimeWarning: Precision loss occurred in moment calculation due to catastrophic cancellation. This occurs when the data are nearly identical. Results may be unreliable.\n",
      "  kurtosis=scipy.stats.kurtosis(data)\n",
      "/var/folders/qq/ckqvfttx4vs_68cbq08jts2c0000gn/T/ipykernel_13918/1178493513.py:89: RuntimeWarning: Precision loss occurred in moment calculation due to catastrophic cancellation. This occurs when the data are nearly identical. Results may be unreliable.\n",
      "  skew=scipy.stats.skew(data)\n"
     ]
    },
    {
     "name": "stdout",
     "output_type": "stream",
     "text": [
      "S02T2_keypoint.csv\n",
      "8100\n",
      "(8100, 26)\n"
     ]
    },
    {
     "name": "stderr",
     "output_type": "stream",
     "text": [
      "/Users/khangphan/anaconda3/lib/python3.10/site-packages/numpy/lib/shape_base.py:379: RuntimeWarning: Precision loss occurred in moment calculation due to catastrophic cancellation. This occurs when the data are nearly identical. Results may be unreliable.\n",
      "  res = asanyarray(func1d(inarr_view[ind0], *args, **kwargs))\n",
      "/Users/khangphan/anaconda3/lib/python3.10/site-packages/numpy/lib/shape_base.py:402: RuntimeWarning: Precision loss occurred in moment calculation due to catastrophic cancellation. This occurs when the data are nearly identical. Results may be unreliable.\n",
      "  buff[ind] = asanyarray(func1d(inarr_view[ind], *args, **kwargs))\n",
      "/var/folders/qq/ckqvfttx4vs_68cbq08jts2c0000gn/T/ipykernel_13918/1178493513.py:88: RuntimeWarning: Precision loss occurred in moment calculation due to catastrophic cancellation. This occurs when the data are nearly identical. Results may be unreliable.\n",
      "  kurtosis=scipy.stats.kurtosis(data)\n",
      "/var/folders/qq/ckqvfttx4vs_68cbq08jts2c0000gn/T/ipykernel_13918/1178493513.py:89: RuntimeWarning: Precision loss occurred in moment calculation due to catastrophic cancellation. This occurs when the data are nearly identical. Results may be unreliable.\n",
      "  skew=scipy.stats.skew(data)\n"
     ]
    },
    {
     "name": "stdout",
     "output_type": "stream",
     "text": [
      "N06T1_keypoint.csv\n",
      "8805\n",
      "(8805, 26)\n"
     ]
    },
    {
     "name": "stderr",
     "output_type": "stream",
     "text": [
      "/Users/khangphan/anaconda3/lib/python3.10/site-packages/numpy/lib/shape_base.py:379: RuntimeWarning: Precision loss occurred in moment calculation due to catastrophic cancellation. This occurs when the data are nearly identical. Results may be unreliable.\n",
      "  res = asanyarray(func1d(inarr_view[ind0], *args, **kwargs))\n",
      "/Users/khangphan/anaconda3/lib/python3.10/site-packages/numpy/lib/shape_base.py:402: RuntimeWarning: Precision loss occurred in moment calculation due to catastrophic cancellation. This occurs when the data are nearly identical. Results may be unreliable.\n",
      "  buff[ind] = asanyarray(func1d(inarr_view[ind], *args, **kwargs))\n",
      "/var/folders/qq/ckqvfttx4vs_68cbq08jts2c0000gn/T/ipykernel_13918/1178493513.py:88: RuntimeWarning: Precision loss occurred in moment calculation due to catastrophic cancellation. This occurs when the data are nearly identical. Results may be unreliable.\n",
      "  kurtosis=scipy.stats.kurtosis(data)\n",
      "/var/folders/qq/ckqvfttx4vs_68cbq08jts2c0000gn/T/ipykernel_13918/1178493513.py:89: RuntimeWarning: Precision loss occurred in moment calculation due to catastrophic cancellation. This occurs when the data are nearly identical. Results may be unreliable.\n",
      "  skew=scipy.stats.skew(data)\n"
     ]
    },
    {
     "name": "stdout",
     "output_type": "stream",
     "text": [
      "S10T2_keypoint.csv\n",
      "10155\n",
      "(10155, 26)\n"
     ]
    },
    {
     "name": "stderr",
     "output_type": "stream",
     "text": [
      "/Users/khangphan/anaconda3/lib/python3.10/site-packages/numpy/lib/shape_base.py:379: RuntimeWarning: Precision loss occurred in moment calculation due to catastrophic cancellation. This occurs when the data are nearly identical. Results may be unreliable.\n",
      "  res = asanyarray(func1d(inarr_view[ind0], *args, **kwargs))\n",
      "/Users/khangphan/anaconda3/lib/python3.10/site-packages/numpy/lib/shape_base.py:402: RuntimeWarning: Precision loss occurred in moment calculation due to catastrophic cancellation. This occurs when the data are nearly identical. Results may be unreliable.\n",
      "  buff[ind] = asanyarray(func1d(inarr_view[ind], *args, **kwargs))\n",
      "/var/folders/qq/ckqvfttx4vs_68cbq08jts2c0000gn/T/ipykernel_13918/1178493513.py:88: RuntimeWarning: Precision loss occurred in moment calculation due to catastrophic cancellation. This occurs when the data are nearly identical. Results may be unreliable.\n",
      "  kurtosis=scipy.stats.kurtosis(data)\n",
      "/var/folders/qq/ckqvfttx4vs_68cbq08jts2c0000gn/T/ipykernel_13918/1178493513.py:89: RuntimeWarning: Precision loss occurred in moment calculation due to catastrophic cancellation. This occurs when the data are nearly identical. Results may be unreliable.\n",
      "  skew=scipy.stats.skew(data)\n"
     ]
    },
    {
     "name": "stdout",
     "output_type": "stream",
     "text": [
      "S05T2_keypoint.csv\n",
      "8880\n",
      "(8880, 26)\n"
     ]
    },
    {
     "name": "stderr",
     "output_type": "stream",
     "text": [
      "/Users/khangphan/anaconda3/lib/python3.10/site-packages/numpy/lib/shape_base.py:379: RuntimeWarning: Precision loss occurred in moment calculation due to catastrophic cancellation. This occurs when the data are nearly identical. Results may be unreliable.\n",
      "  res = asanyarray(func1d(inarr_view[ind0], *args, **kwargs))\n",
      "/Users/khangphan/anaconda3/lib/python3.10/site-packages/numpy/lib/shape_base.py:402: RuntimeWarning: Precision loss occurred in moment calculation due to catastrophic cancellation. This occurs when the data are nearly identical. Results may be unreliable.\n",
      "  buff[ind] = asanyarray(func1d(inarr_view[ind], *args, **kwargs))\n"
     ]
    },
    {
     "name": "stdout",
     "output_type": "stream",
     "text": [
      "N12T2_keypoint.csv\n",
      "14880\n",
      "(14880, 26)\n"
     ]
    },
    {
     "name": "stderr",
     "output_type": "stream",
     "text": [
      "/var/folders/qq/ckqvfttx4vs_68cbq08jts2c0000gn/T/ipykernel_13918/1178493513.py:6: RuntimeWarning: invalid value encountered in arccos\n",
      "  angle = np.arccos(cosine_angle)\n",
      "/var/folders/qq/ckqvfttx4vs_68cbq08jts2c0000gn/T/ipykernel_13918/1178493513.py:5: RuntimeWarning: invalid value encountered in scalar divide\n",
      "  cosine_angle = np.dot(ba, bc) / (np.linalg.norm(ba) * np.linalg.norm(bc))\n",
      "/Users/khangphan/anaconda3/lib/python3.10/site-packages/numpy/lib/shape_base.py:402: RuntimeWarning: Precision loss occurred in moment calculation due to catastrophic cancellation. This occurs when the data are nearly identical. Results may be unreliable.\n",
      "  buff[ind] = asanyarray(func1d(inarr_view[ind], *args, **kwargs))\n",
      "/var/folders/qq/ckqvfttx4vs_68cbq08jts2c0000gn/T/ipykernel_13918/1178493513.py:88: RuntimeWarning: Precision loss occurred in moment calculation due to catastrophic cancellation. This occurs when the data are nearly identical. Results may be unreliable.\n",
      "  kurtosis=scipy.stats.kurtosis(data)\n",
      "/var/folders/qq/ckqvfttx4vs_68cbq08jts2c0000gn/T/ipykernel_13918/1178493513.py:89: RuntimeWarning: Precision loss occurred in moment calculation due to catastrophic cancellation. This occurs when the data are nearly identical. Results may be unreliable.\n",
      "  skew=scipy.stats.skew(data)\n"
     ]
    },
    {
     "name": "stdout",
     "output_type": "stream",
     "text": [
      "N07T2_keypoint.csv\n",
      "8550\n",
      "(8550, 26)\n"
     ]
    },
    {
     "name": "stderr",
     "output_type": "stream",
     "text": [
      "/var/folders/qq/ckqvfttx4vs_68cbq08jts2c0000gn/T/ipykernel_13918/1178493513.py:6: RuntimeWarning: invalid value encountered in arccos\n",
      "  angle = np.arccos(cosine_angle)\n",
      "/Users/khangphan/anaconda3/lib/python3.10/site-packages/numpy/lib/shape_base.py:402: RuntimeWarning: Precision loss occurred in moment calculation due to catastrophic cancellation. This occurs when the data are nearly identical. Results may be unreliable.\n",
      "  buff[ind] = asanyarray(func1d(inarr_view[ind], *args, **kwargs))\n",
      "/var/folders/qq/ckqvfttx4vs_68cbq08jts2c0000gn/T/ipykernel_13918/1178493513.py:5: RuntimeWarning: invalid value encountered in scalar divide\n",
      "  cosine_angle = np.dot(ba, bc) / (np.linalg.norm(ba) * np.linalg.norm(bc))\n",
      "/var/folders/qq/ckqvfttx4vs_68cbq08jts2c0000gn/T/ipykernel_13918/1178493513.py:88: RuntimeWarning: Precision loss occurred in moment calculation due to catastrophic cancellation. This occurs when the data are nearly identical. Results may be unreliable.\n",
      "  kurtosis=scipy.stats.kurtosis(data)\n",
      "/var/folders/qq/ckqvfttx4vs_68cbq08jts2c0000gn/T/ipykernel_13918/1178493513.py:89: RuntimeWarning: Precision loss occurred in moment calculation due to catastrophic cancellation. This occurs when the data are nearly identical. Results may be unreliable.\n",
      "  skew=scipy.stats.skew(data)\n"
     ]
    },
    {
     "name": "stdout",
     "output_type": "stream",
     "text": [
      "S11T1_keypoint.csv\n",
      "11160\n",
      "(11160, 26)\n"
     ]
    },
    {
     "name": "stderr",
     "output_type": "stream",
     "text": [
      "/Users/khangphan/anaconda3/lib/python3.10/site-packages/numpy/lib/shape_base.py:379: RuntimeWarning: Precision loss occurred in moment calculation due to catastrophic cancellation. This occurs when the data are nearly identical. Results may be unreliable.\n",
      "  res = asanyarray(func1d(inarr_view[ind0], *args, **kwargs))\n",
      "/Users/khangphan/anaconda3/lib/python3.10/site-packages/numpy/lib/shape_base.py:402: RuntimeWarning: Precision loss occurred in moment calculation due to catastrophic cancellation. This occurs when the data are nearly identical. Results may be unreliable.\n",
      "  buff[ind] = asanyarray(func1d(inarr_view[ind], *args, **kwargs))\n",
      "/var/folders/qq/ckqvfttx4vs_68cbq08jts2c0000gn/T/ipykernel_13918/1178493513.py:88: RuntimeWarning: Precision loss occurred in moment calculation due to catastrophic cancellation. This occurs when the data are nearly identical. Results may be unreliable.\n",
      "  kurtosis=scipy.stats.kurtosis(data)\n",
      "/var/folders/qq/ckqvfttx4vs_68cbq08jts2c0000gn/T/ipykernel_13918/1178493513.py:89: RuntimeWarning: Precision loss occurred in moment calculation due to catastrophic cancellation. This occurs when the data are nearly identical. Results may be unreliable.\n",
      "  skew=scipy.stats.skew(data)\n"
     ]
    },
    {
     "name": "stdout",
     "output_type": "stream",
     "text": [
      "S03T1_keypoint.csv\n",
      "14850\n",
      "(14850, 26)\n"
     ]
    },
    {
     "name": "stderr",
     "output_type": "stream",
     "text": [
      "/var/folders/qq/ckqvfttx4vs_68cbq08jts2c0000gn/T/ipykernel_13918/1178493513.py:5: RuntimeWarning: invalid value encountered in scalar divide\n",
      "  cosine_angle = np.dot(ba, bc) / (np.linalg.norm(ba) * np.linalg.norm(bc))\n",
      "/Users/khangphan/anaconda3/lib/python3.10/site-packages/numpy/lib/shape_base.py:402: RuntimeWarning: Precision loss occurred in moment calculation due to catastrophic cancellation. This occurs when the data are nearly identical. Results may be unreliable.\n",
      "  buff[ind] = asanyarray(func1d(inarr_view[ind], *args, **kwargs))\n",
      "/var/folders/qq/ckqvfttx4vs_68cbq08jts2c0000gn/T/ipykernel_13918/1178493513.py:88: RuntimeWarning: Precision loss occurred in moment calculation due to catastrophic cancellation. This occurs when the data are nearly identical. Results may be unreliable.\n",
      "  kurtosis=scipy.stats.kurtosis(data)\n",
      "/var/folders/qq/ckqvfttx4vs_68cbq08jts2c0000gn/T/ipykernel_13918/1178493513.py:89: RuntimeWarning: Precision loss occurred in moment calculation due to catastrophic cancellation. This occurs when the data are nearly identical. Results may be unreliable.\n",
      "  skew=scipy.stats.skew(data)\n"
     ]
    },
    {
     "name": "stdout",
     "output_type": "stream",
     "text": [
      "S02T1_keypoint.csv\n",
      "9675\n",
      "(9675, 26)\n"
     ]
    },
    {
     "name": "stderr",
     "output_type": "stream",
     "text": [
      "/Users/khangphan/anaconda3/lib/python3.10/site-packages/numpy/lib/shape_base.py:379: RuntimeWarning: Precision loss occurred in moment calculation due to catastrophic cancellation. This occurs when the data are nearly identical. Results may be unreliable.\n",
      "  res = asanyarray(func1d(inarr_view[ind0], *args, **kwargs))\n",
      "/Users/khangphan/anaconda3/lib/python3.10/site-packages/numpy/lib/shape_base.py:402: RuntimeWarning: Precision loss occurred in moment calculation due to catastrophic cancellation. This occurs when the data are nearly identical. Results may be unreliable.\n",
      "  buff[ind] = asanyarray(func1d(inarr_view[ind], *args, **kwargs))\n",
      "/var/folders/qq/ckqvfttx4vs_68cbq08jts2c0000gn/T/ipykernel_13918/1178493513.py:88: RuntimeWarning: Precision loss occurred in moment calculation due to catastrophic cancellation. This occurs when the data are nearly identical. Results may be unreliable.\n",
      "  kurtosis=scipy.stats.kurtosis(data)\n",
      "/var/folders/qq/ckqvfttx4vs_68cbq08jts2c0000gn/T/ipykernel_13918/1178493513.py:89: RuntimeWarning: Precision loss occurred in moment calculation due to catastrophic cancellation. This occurs when the data are nearly identical. Results may be unreliable.\n",
      "  skew=scipy.stats.skew(data)\n"
     ]
    },
    {
     "name": "stdout",
     "output_type": "stream",
     "text": [
      "N01T2_keypoint.csv\n",
      "7185\n",
      "(7185, 26)\n"
     ]
    },
    {
     "name": "stderr",
     "output_type": "stream",
     "text": [
      "/var/folders/qq/ckqvfttx4vs_68cbq08jts2c0000gn/T/ipykernel_13918/1178493513.py:5: RuntimeWarning: invalid value encountered in scalar divide\n",
      "  cosine_angle = np.dot(ba, bc) / (np.linalg.norm(ba) * np.linalg.norm(bc))\n",
      "/Users/khangphan/anaconda3/lib/python3.10/site-packages/numpy/lib/shape_base.py:402: RuntimeWarning: Precision loss occurred in moment calculation due to catastrophic cancellation. This occurs when the data are nearly identical. Results may be unreliable.\n",
      "  buff[ind] = asanyarray(func1d(inarr_view[ind], *args, **kwargs))\n",
      "/var/folders/qq/ckqvfttx4vs_68cbq08jts2c0000gn/T/ipykernel_13918/1178493513.py:88: RuntimeWarning: Precision loss occurred in moment calculation due to catastrophic cancellation. This occurs when the data are nearly identical. Results may be unreliable.\n",
      "  kurtosis=scipy.stats.kurtosis(data)\n",
      "/var/folders/qq/ckqvfttx4vs_68cbq08jts2c0000gn/T/ipykernel_13918/1178493513.py:89: RuntimeWarning: Precision loss occurred in moment calculation due to catastrophic cancellation. This occurs when the data are nearly identical. Results may be unreliable.\n",
      "  skew=scipy.stats.skew(data)\n",
      "/var/folders/qq/ckqvfttx4vs_68cbq08jts2c0000gn/T/ipykernel_13918/1178493513.py:6: RuntimeWarning: invalid value encountered in arccos\n",
      "  angle = np.arccos(cosine_angle)\n",
      "/Users/khangphan/anaconda3/lib/python3.10/site-packages/numpy/lib/shape_base.py:379: RuntimeWarning: Precision loss occurred in moment calculation due to catastrophic cancellation. This occurs when the data are nearly identical. Results may be unreliable.\n",
      "  res = asanyarray(func1d(inarr_view[ind0], *args, **kwargs))\n"
     ]
    },
    {
     "name": "stdout",
     "output_type": "stream",
     "text": [
      "S10T1_keypoint.csv\n",
      "10350\n",
      "(10350, 26)\n"
     ]
    },
    {
     "name": "stderr",
     "output_type": "stream",
     "text": [
      "/Users/khangphan/anaconda3/lib/python3.10/site-packages/numpy/lib/shape_base.py:379: RuntimeWarning: Precision loss occurred in moment calculation due to catastrophic cancellation. This occurs when the data are nearly identical. Results may be unreliable.\n",
      "  res = asanyarray(func1d(inarr_view[ind0], *args, **kwargs))\n",
      "/Users/khangphan/anaconda3/lib/python3.10/site-packages/numpy/lib/shape_base.py:402: RuntimeWarning: Precision loss occurred in moment calculation due to catastrophic cancellation. This occurs when the data are nearly identical. Results may be unreliable.\n",
      "  buff[ind] = asanyarray(func1d(inarr_view[ind], *args, **kwargs))\n",
      "/var/folders/qq/ckqvfttx4vs_68cbq08jts2c0000gn/T/ipykernel_13918/1178493513.py:88: RuntimeWarning: Precision loss occurred in moment calculation due to catastrophic cancellation. This occurs when the data are nearly identical. Results may be unreliable.\n",
      "  kurtosis=scipy.stats.kurtosis(data)\n",
      "/var/folders/qq/ckqvfttx4vs_68cbq08jts2c0000gn/T/ipykernel_13918/1178493513.py:89: RuntimeWarning: Precision loss occurred in moment calculation due to catastrophic cancellation. This occurs when the data are nearly identical. Results may be unreliable.\n",
      "  skew=scipy.stats.skew(data)\n"
     ]
    },
    {
     "name": "stdout",
     "output_type": "stream",
     "text": [
      "S05T1_keypoint.csv\n",
      "9630\n",
      "(9630, 26)\n"
     ]
    },
    {
     "name": "stderr",
     "output_type": "stream",
     "text": [
      "/Users/khangphan/anaconda3/lib/python3.10/site-packages/numpy/lib/shape_base.py:379: RuntimeWarning: Precision loss occurred in moment calculation due to catastrophic cancellation. This occurs when the data are nearly identical. Results may be unreliable.\n",
      "  res = asanyarray(func1d(inarr_view[ind0], *args, **kwargs))\n",
      "/Users/khangphan/anaconda3/lib/python3.10/site-packages/numpy/lib/shape_base.py:402: RuntimeWarning: Precision loss occurred in moment calculation due to catastrophic cancellation. This occurs when the data are nearly identical. Results may be unreliable.\n",
      "  buff[ind] = asanyarray(func1d(inarr_view[ind], *args, **kwargs))\n"
     ]
    },
    {
     "name": "stdout",
     "output_type": "stream",
     "text": [
      "N06T2_keypoint.csv\n",
      "9090\n",
      "(9090, 26)\n"
     ]
    },
    {
     "name": "stderr",
     "output_type": "stream",
     "text": [
      "/var/folders/qq/ckqvfttx4vs_68cbq08jts2c0000gn/T/ipykernel_13918/1178493513.py:6: RuntimeWarning: invalid value encountered in arccos\n",
      "  angle = np.arccos(cosine_angle)\n",
      "/var/folders/qq/ckqvfttx4vs_68cbq08jts2c0000gn/T/ipykernel_13918/1178493513.py:5: RuntimeWarning: invalid value encountered in scalar divide\n",
      "  cosine_angle = np.dot(ba, bc) / (np.linalg.norm(ba) * np.linalg.norm(bc))\n",
      "/Users/khangphan/anaconda3/lib/python3.10/site-packages/numpy/lib/shape_base.py:402: RuntimeWarning: Precision loss occurred in moment calculation due to catastrophic cancellation. This occurs when the data are nearly identical. Results may be unreliable.\n",
      "  buff[ind] = asanyarray(func1d(inarr_view[ind], *args, **kwargs))\n",
      "/var/folders/qq/ckqvfttx4vs_68cbq08jts2c0000gn/T/ipykernel_13918/1178493513.py:88: RuntimeWarning: Precision loss occurred in moment calculation due to catastrophic cancellation. This occurs when the data are nearly identical. Results may be unreliable.\n",
      "  kurtosis=scipy.stats.kurtosis(data)\n",
      "/var/folders/qq/ckqvfttx4vs_68cbq08jts2c0000gn/T/ipykernel_13918/1178493513.py:89: RuntimeWarning: Precision loss occurred in moment calculation due to catastrophic cancellation. This occurs when the data are nearly identical. Results may be unreliable.\n",
      "  skew=scipy.stats.skew(data)\n"
     ]
    },
    {
     "name": "stdout",
     "output_type": "stream",
     "text": [
      "S07T1_keypoint.csv\n",
      "8505\n",
      "(8505, 26)\n"
     ]
    },
    {
     "name": "stderr",
     "output_type": "stream",
     "text": [
      "/Users/khangphan/anaconda3/lib/python3.10/site-packages/numpy/lib/shape_base.py:379: RuntimeWarning: Precision loss occurred in moment calculation due to catastrophic cancellation. This occurs when the data are nearly identical. Results may be unreliable.\n",
      "  res = asanyarray(func1d(inarr_view[ind0], *args, **kwargs))\n",
      "/Users/khangphan/anaconda3/lib/python3.10/site-packages/numpy/lib/shape_base.py:402: RuntimeWarning: Precision loss occurred in moment calculation due to catastrophic cancellation. This occurs when the data are nearly identical. Results may be unreliable.\n",
      "  buff[ind] = asanyarray(func1d(inarr_view[ind], *args, **kwargs))\n",
      "/var/folders/qq/ckqvfttx4vs_68cbq08jts2c0000gn/T/ipykernel_13918/1178493513.py:88: RuntimeWarning: Precision loss occurred in moment calculation due to catastrophic cancellation. This occurs when the data are nearly identical. Results may be unreliable.\n",
      "  kurtosis=scipy.stats.kurtosis(data)\n",
      "/var/folders/qq/ckqvfttx4vs_68cbq08jts2c0000gn/T/ipykernel_13918/1178493513.py:89: RuntimeWarning: Precision loss occurred in moment calculation due to catastrophic cancellation. This occurs when the data are nearly identical. Results may be unreliable.\n",
      "  skew=scipy.stats.skew(data)\n"
     ]
    },
    {
     "name": "stdout",
     "output_type": "stream",
     "text": [
      "N04T2_keypoint.csv\n",
      "8400\n",
      "(8400, 26)\n"
     ]
    },
    {
     "name": "stderr",
     "output_type": "stream",
     "text": [
      "/var/folders/qq/ckqvfttx4vs_68cbq08jts2c0000gn/T/ipykernel_13918/1178493513.py:6: RuntimeWarning: invalid value encountered in arccos\n",
      "  angle = np.arccos(cosine_angle)\n",
      "/var/folders/qq/ckqvfttx4vs_68cbq08jts2c0000gn/T/ipykernel_13918/1178493513.py:5: RuntimeWarning: invalid value encountered in scalar divide\n",
      "  cosine_angle = np.dot(ba, bc) / (np.linalg.norm(ba) * np.linalg.norm(bc))\n",
      "/var/folders/qq/ckqvfttx4vs_68cbq08jts2c0000gn/T/ipykernel_13918/1178493513.py:88: RuntimeWarning: Precision loss occurred in moment calculation due to catastrophic cancellation. This occurs when the data are nearly identical. Results may be unreliable.\n",
      "  kurtosis=scipy.stats.kurtosis(data)\n",
      "/var/folders/qq/ckqvfttx4vs_68cbq08jts2c0000gn/T/ipykernel_13918/1178493513.py:89: RuntimeWarning: Precision loss occurred in moment calculation due to catastrophic cancellation. This occurs when the data are nearly identical. Results may be unreliable.\n",
      "  skew=scipy.stats.skew(data)\n",
      "/Users/khangphan/anaconda3/lib/python3.10/site-packages/numpy/lib/shape_base.py:402: RuntimeWarning: Precision loss occurred in moment calculation due to catastrophic cancellation. This occurs when the data are nearly identical. Results may be unreliable.\n",
      "  buff[ind] = asanyarray(func1d(inarr_view[ind], *args, **kwargs))\n"
     ]
    },
    {
     "name": "stdout",
     "output_type": "stream",
     "text": [
      "N11T2_keypoint.csv\n",
      "6195\n",
      "(6195, 26)\n"
     ]
    },
    {
     "name": "stderr",
     "output_type": "stream",
     "text": [
      "/var/folders/qq/ckqvfttx4vs_68cbq08jts2c0000gn/T/ipykernel_13918/1178493513.py:5: RuntimeWarning: invalid value encountered in scalar divide\n",
      "  cosine_angle = np.dot(ba, bc) / (np.linalg.norm(ba) * np.linalg.norm(bc))\n",
      "/var/folders/qq/ckqvfttx4vs_68cbq08jts2c0000gn/T/ipykernel_13918/1178493513.py:6: RuntimeWarning: invalid value encountered in arccos\n",
      "  angle = np.arccos(cosine_angle)\n",
      "/Users/khangphan/anaconda3/lib/python3.10/site-packages/numpy/lib/shape_base.py:402: RuntimeWarning: Precision loss occurred in moment calculation due to catastrophic cancellation. This occurs when the data are nearly identical. Results may be unreliable.\n",
      "  buff[ind] = asanyarray(func1d(inarr_view[ind], *args, **kwargs))\n",
      "/var/folders/qq/ckqvfttx4vs_68cbq08jts2c0000gn/T/ipykernel_13918/1178493513.py:88: RuntimeWarning: Precision loss occurred in moment calculation due to catastrophic cancellation. This occurs when the data are nearly identical. Results may be unreliable.\n",
      "  kurtosis=scipy.stats.kurtosis(data)\n",
      "/var/folders/qq/ckqvfttx4vs_68cbq08jts2c0000gn/T/ipykernel_13918/1178493513.py:89: RuntimeWarning: Precision loss occurred in moment calculation due to catastrophic cancellation. This occurs when the data are nearly identical. Results may be unreliable.\n",
      "  skew=scipy.stats.skew(data)\n"
     ]
    },
    {
     "name": "stdout",
     "output_type": "stream",
     "text": [
      "S08T1_keypoint.csv\n",
      "9510\n",
      "(9510, 26)\n"
     ]
    },
    {
     "name": "stderr",
     "output_type": "stream",
     "text": [
      "/Users/khangphan/anaconda3/lib/python3.10/site-packages/numpy/lib/shape_base.py:379: RuntimeWarning: Precision loss occurred in moment calculation due to catastrophic cancellation. This occurs when the data are nearly identical. Results may be unreliable.\n",
      "  res = asanyarray(func1d(inarr_view[ind0], *args, **kwargs))\n",
      "/Users/khangphan/anaconda3/lib/python3.10/site-packages/numpy/lib/shape_base.py:402: RuntimeWarning: Precision loss occurred in moment calculation due to catastrophic cancellation. This occurs when the data are nearly identical. Results may be unreliable.\n",
      "  buff[ind] = asanyarray(func1d(inarr_view[ind], *args, **kwargs))\n",
      "/var/folders/qq/ckqvfttx4vs_68cbq08jts2c0000gn/T/ipykernel_13918/1178493513.py:88: RuntimeWarning: Precision loss occurred in moment calculation due to catastrophic cancellation. This occurs when the data are nearly identical. Results may be unreliable.\n",
      "  kurtosis=scipy.stats.kurtosis(data)\n",
      "/var/folders/qq/ckqvfttx4vs_68cbq08jts2c0000gn/T/ipykernel_13918/1178493513.py:89: RuntimeWarning: Precision loss occurred in moment calculation due to catastrophic cancellation. This occurs when the data are nearly identical. Results may be unreliable.\n",
      "  skew=scipy.stats.skew(data)\n"
     ]
    },
    {
     "name": "stdout",
     "output_type": "stream",
     "text": [
      "N02T2_keypoint.csv\n",
      "7860\n",
      "(7860, 26)\n"
     ]
    },
    {
     "name": "stderr",
     "output_type": "stream",
     "text": [
      "/Users/khangphan/anaconda3/lib/python3.10/site-packages/numpy/lib/shape_base.py:379: RuntimeWarning: Precision loss occurred in moment calculation due to catastrophic cancellation. This occurs when the data are nearly identical. Results may be unreliable.\n",
      "  res = asanyarray(func1d(inarr_view[ind0], *args, **kwargs))\n",
      "/Users/khangphan/anaconda3/lib/python3.10/site-packages/numpy/lib/shape_base.py:402: RuntimeWarning: Precision loss occurred in moment calculation due to catastrophic cancellation. This occurs when the data are nearly identical. Results may be unreliable.\n",
      "  buff[ind] = asanyarray(func1d(inarr_view[ind], *args, **kwargs))\n"
     ]
    },
    {
     "name": "stdout",
     "output_type": "stream",
     "text": [
      "S09T1_keypoint.csv\n",
      "11340\n",
      "(11340, 26)\n"
     ]
    },
    {
     "name": "stderr",
     "output_type": "stream",
     "text": [
      "/var/folders/qq/ckqvfttx4vs_68cbq08jts2c0000gn/T/ipykernel_13918/1178493513.py:5: RuntimeWarning: invalid value encountered in scalar divide\n",
      "  cosine_angle = np.dot(ba, bc) / (np.linalg.norm(ba) * np.linalg.norm(bc))\n",
      "/Users/khangphan/anaconda3/lib/python3.10/site-packages/numpy/lib/shape_base.py:402: RuntimeWarning: Precision loss occurred in moment calculation due to catastrophic cancellation. This occurs when the data are nearly identical. Results may be unreliable.\n",
      "  buff[ind] = asanyarray(func1d(inarr_view[ind], *args, **kwargs))\n",
      "/var/folders/qq/ckqvfttx4vs_68cbq08jts2c0000gn/T/ipykernel_13918/1178493513.py:88: RuntimeWarning: Precision loss occurred in moment calculation due to catastrophic cancellation. This occurs when the data are nearly identical. Results may be unreliable.\n",
      "  kurtosis=scipy.stats.kurtosis(data)\n",
      "/var/folders/qq/ckqvfttx4vs_68cbq08jts2c0000gn/T/ipykernel_13918/1178493513.py:89: RuntimeWarning: Precision loss occurred in moment calculation due to catastrophic cancellation. This occurs when the data are nearly identical. Results may be unreliable.\n",
      "  skew=scipy.stats.skew(data)\n"
     ]
    },
    {
     "name": "stdout",
     "output_type": "stream",
     "text": [
      "S01T1_keypoint.csv\n",
      "8415\n",
      "(8415, 26)\n"
     ]
    },
    {
     "name": "stderr",
     "output_type": "stream",
     "text": [
      "/var/folders/qq/ckqvfttx4vs_68cbq08jts2c0000gn/T/ipykernel_13918/1178493513.py:5: RuntimeWarning: invalid value encountered in scalar divide\n",
      "  cosine_angle = np.dot(ba, bc) / (np.linalg.norm(ba) * np.linalg.norm(bc))\n",
      "/Users/khangphan/anaconda3/lib/python3.10/site-packages/numpy/lib/shape_base.py:402: RuntimeWarning: Precision loss occurred in moment calculation due to catastrophic cancellation. This occurs when the data are nearly identical. Results may be unreliable.\n",
      "  buff[ind] = asanyarray(func1d(inarr_view[ind], *args, **kwargs))\n",
      "/var/folders/qq/ckqvfttx4vs_68cbq08jts2c0000gn/T/ipykernel_13918/1178493513.py:88: RuntimeWarning: Precision loss occurred in moment calculation due to catastrophic cancellation. This occurs when the data are nearly identical. Results may be unreliable.\n",
      "  kurtosis=scipy.stats.kurtosis(data)\n",
      "/var/folders/qq/ckqvfttx4vs_68cbq08jts2c0000gn/T/ipykernel_13918/1178493513.py:89: RuntimeWarning: Precision loss occurred in moment calculation due to catastrophic cancellation. This occurs when the data are nearly identical. Results may be unreliable.\n",
      "  skew=scipy.stats.skew(data)\n"
     ]
    }
   ],
   "source": [
    "IDS=os.listdir(\"./train\")\n",
    "for ID in IDS:\n",
    "    print(ID)\n",
    "    make_csv(ID)"
   ]
  },
  {
   "cell_type": "code",
   "execution_count": null,
   "id": "e0277d0d",
   "metadata": {},
   "outputs": [],
   "source": []
  },
  {
   "cell_type": "code",
   "execution_count": null,
   "id": "cc3eeae2",
   "metadata": {},
   "outputs": [],
   "source": []
  },
  {
   "cell_type": "code",
   "execution_count": null,
   "id": "1ddd6166",
   "metadata": {},
   "outputs": [],
   "source": []
  },
  {
   "cell_type": "code",
   "execution_count": null,
   "id": "42b7bdf3",
   "metadata": {},
   "outputs": [],
   "source": []
  },
  {
   "cell_type": "code",
   "execution_count": null,
   "id": "c6970825",
   "metadata": {},
   "outputs": [],
   "source": []
  },
  {
   "cell_type": "code",
   "execution_count": null,
   "id": "884411f1",
   "metadata": {},
   "outputs": [],
   "source": []
  },
  {
   "cell_type": "code",
   "execution_count": null,
   "id": "79f1843f",
   "metadata": {},
   "outputs": [],
   "source": []
  },
  {
   "cell_type": "code",
   "execution_count": null,
   "id": "244047d0",
   "metadata": {},
   "outputs": [],
   "source": []
  },
  {
   "cell_type": "code",
   "execution_count": null,
   "id": "75c314bc",
   "metadata": {},
   "outputs": [],
   "source": []
  },
  {
   "cell_type": "code",
   "execution_count": null,
   "id": "b31b1553",
   "metadata": {},
   "outputs": [],
   "source": []
  },
  {
   "cell_type": "code",
   "execution_count": null,
   "id": "6837b7ca",
   "metadata": {},
   "outputs": [],
   "source": []
  },
  {
   "cell_type": "code",
   "execution_count": null,
   "id": "95b32bb9",
   "metadata": {},
   "outputs": [],
   "source": []
  },
  {
   "cell_type": "code",
   "execution_count": null,
   "id": "6fecd1a7",
   "metadata": {},
   "outputs": [],
   "source": []
  },
  {
   "cell_type": "code",
   "execution_count": null,
   "id": "d702accd",
   "metadata": {},
   "outputs": [],
   "source": []
  },
  {
   "cell_type": "code",
   "execution_count": null,
   "id": "70e6f979",
   "metadata": {},
   "outputs": [],
   "source": []
  },
  {
   "cell_type": "code",
   "execution_count": null,
   "id": "39e3b66b",
   "metadata": {},
   "outputs": [],
   "source": []
  },
  {
   "cell_type": "code",
   "execution_count": null,
   "id": "c19b1bb1",
   "metadata": {},
   "outputs": [],
   "source": []
  },
  {
   "cell_type": "code",
   "execution_count": null,
   "id": "ff3e4fc6",
   "metadata": {},
   "outputs": [],
   "source": []
  },
  {
   "cell_type": "code",
   "execution_count": null,
   "id": "27c32f35",
   "metadata": {},
   "outputs": [],
   "source": []
  },
  {
   "cell_type": "code",
   "execution_count": null,
   "id": "c47d7a0a",
   "metadata": {},
   "outputs": [],
   "source": []
  },
  {
   "cell_type": "code",
   "execution_count": null,
   "id": "356ca81a",
   "metadata": {},
   "outputs": [],
   "source": []
  },
  {
   "cell_type": "code",
   "execution_count": null,
   "id": "50a20ee0",
   "metadata": {},
   "outputs": [],
   "source": []
  },
  {
   "cell_type": "code",
   "execution_count": null,
   "id": "3216cafc",
   "metadata": {},
   "outputs": [],
   "source": []
  },
  {
   "cell_type": "code",
   "execution_count": null,
   "id": "7185c6a2",
   "metadata": {},
   "outputs": [],
   "source": []
  },
  {
   "cell_type": "code",
   "execution_count": null,
   "id": "cda068a4",
   "metadata": {},
   "outputs": [],
   "source": []
  },
  {
   "cell_type": "code",
   "execution_count": null,
   "id": "405510e9",
   "metadata": {},
   "outputs": [],
   "source": []
  },
  {
   "cell_type": "code",
   "execution_count": null,
   "id": "a77f4871",
   "metadata": {},
   "outputs": [],
   "source": []
  },
  {
   "cell_type": "code",
   "execution_count": null,
   "id": "6821441f",
   "metadata": {},
   "outputs": [],
   "source": []
  },
  {
   "cell_type": "code",
   "execution_count": null,
   "id": "c3b73651",
   "metadata": {},
   "outputs": [],
   "source": []
  },
  {
   "cell_type": "code",
   "execution_count": null,
   "id": "71721fa6",
   "metadata": {},
   "outputs": [],
   "source": []
  },
  {
   "cell_type": "code",
   "execution_count": null,
   "id": "06c6e64b",
   "metadata": {},
   "outputs": [],
   "source": []
  },
  {
   "cell_type": "code",
   "execution_count": null,
   "id": "91a9a414",
   "metadata": {},
   "outputs": [],
   "source": []
  },
  {
   "cell_type": "code",
   "execution_count": null,
   "id": "88b7969c",
   "metadata": {},
   "outputs": [],
   "source": []
  },
  {
   "cell_type": "code",
   "execution_count": null,
   "id": "5ea439d7",
   "metadata": {},
   "outputs": [],
   "source": []
  },
  {
   "cell_type": "code",
   "execution_count": null,
   "id": "66617fb0",
   "metadata": {},
   "outputs": [],
   "source": []
  },
  {
   "cell_type": "code",
   "execution_count": null,
   "id": "1504f5cc",
   "metadata": {},
   "outputs": [],
   "source": []
  }
 ],
 "metadata": {
  "kernelspec": {
   "display_name": "Python 3 (ipykernel)",
   "language": "python",
   "name": "python3"
  },
  "language_info": {
   "codemirror_mode": {
    "name": "ipython",
    "version": 3
   },
   "file_extension": ".py",
   "mimetype": "text/x-python",
   "name": "python",
   "nbconvert_exporter": "python",
   "pygments_lexer": "ipython3",
   "version": "3.10.9"
  }
 },
 "nbformat": 4,
 "nbformat_minor": 5
}
