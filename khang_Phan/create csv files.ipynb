{
 "cells": [
  {
   "cell_type": "code",
   "execution_count": 1,
   "id": "b32ed366",
   "metadata": {},
   "outputs": [],
   "source": [
    "import pandas as pd\n",
    "import numpy as np\n",
    "import seaborn as sns\n",
    "import matplotlib.pyplot as plt\n",
    "import os\n",
    "from sklearn.model_selection import train_test_split\n",
    "from sklearn.preprocessing import StandardScaler\n",
    "import tensorflow as tf\n",
    "from tensorflow import keras\n",
    "from tensorflow.keras import layers\n",
    "\n",
    "import pandas as pd # data processing\n",
    "from tensorflow.keras.models import Sequential\n",
    "from tensorflow.keras.layers import Dense,Conv1D,Dropout,LSTM, Bidirectional\n",
    "import tensorflow as tf\n",
    "from sklearn.preprocessing import MinMaxScaler\n",
    "from sklearn.preprocessing import StandardScaler\n",
    "from sklearn.metrics import confusion_matrix\n",
    "from keras.layers import BatchNormalization, Dropout\n",
    "from keras.layers import Dense, Activation\n",
    "from tensorflow import keras\n",
    "from tensorflow.keras.callbacks import EarlyStopping\n",
    "import torch\n",
    "from torch.nn import Transformer\n",
    "from sklearn.preprocessing import MinMaxScaler,RobustScaler"
   ]
  },
  {
   "cell_type": "code",
   "execution_count": 2,
   "id": "48e6028a",
   "metadata": {},
   "outputs": [],
   "source": [
    "FS = 30 # sampling rate\n",
    "TOTAL_CLASSESS = 9\n",
    "DATA_FOLDER = \"./\"\n",
    "WINDOW_SIZE = 4 # seconds\n",
    "OVERLAP_RATE = 0.5 * WINDOW_SIZE # overlap 50% of window size\n",
    "standartscaler=RobustScaler()#org MinMaxScaler()\n",
    "def load_data(keypoint_csv, ann_csv):\n",
    "    kp_df = pd.read_csv(keypoint_csv)\n",
    "    kp_df = kp_df.loc[:, ~kp_df.columns.str.contains('^Unnamed')]\n",
    "\n",
    "    ann_df = pd.read_csv(ann_csv)\n",
    "    ann_df = ann_df.loc[:, ~ann_df.columns.str.contains('^Unnamed')]\n",
    "\n",
    "    return kp_df, ann_df"
   ]
  },
  {
   "cell_type": "code",
   "execution_count": 3,
   "id": "24def509",
   "metadata": {},
   "outputs": [],
   "source": [
    "def remove_redundant_kp(kp_df):\n",
    "    kp_df = kp_df.loc[:, ~kp_df.columns.str.contains(\n",
    "    'conf|left_knee|right_knee|left_ankle|right_ankle', regex=True)]\n",
    "    return kp_df\n"
   ]
  },
  {
   "cell_type": "code",
   "execution_count": 4,
   "id": "2ccade52",
   "metadata": {},
   "outputs": [],
   "source": [
    "SMOOTH_LEN = 4 # seconds\n",
    "\n",
    "def smooth_kp(kp_col):\n",
    "    zero_idx = np.flatnonzero(kp_col == 0)\n",
    "    split_idx = np.split(zero_idx, np.flatnonzero(np.diff(zero_idx) > 1) + 1)\n",
    "    for each_split_idx in split_idx:\n",
    "        if len(each_split_idx) == 0 or each_split_idx[0] == 0 or each_split_idx[-1] == (len(kp_col) - 1) or len(each_split_idx) > SMOOTH_LEN*FS:\n",
    "            continue\n",
    "        xp = [each_split_idx[0] - 1, each_split_idx[-1] + 1]\n",
    "        fp = kp_col[xp]\n",
    "        interp_kp = np.interp(each_split_idx, xp, fp)\n",
    "        kp_col[each_split_idx] = interp_kp\n",
    "    return kp_col"
   ]
  },
  {
   "cell_type": "code",
   "execution_count": 6,
   "id": "61003e35",
   "metadata": {},
   "outputs": [],
   "source": [
    "def cal_angle(a, b, c):\n",
    "    ba = a - b\n",
    "    bc = c - b\n",
    "\n",
    "    cosine_angle = np.dot(ba, bc) / (np.linalg.norm(ba) * np.linalg.norm(bc))\n",
    "    angle = np.arccos(cosine_angle)\n",
    "    return angle\n",
    "\n",
    "\n",
    "def extract_joint_angles(kp_data, steps=2):\n",
    "    # steps = 2 if kp_data is removed conf columns\n",
    "    # steps = 3 if kp_data has conf columns\n",
    "    left_elbow_shoulder_hip = np.asarray([cal_angle(kp_data[i, 7*steps:(7*steps+2)], kp_data[i, 5*steps:(5*steps+2)], kp_data[i, 11*steps:(11*steps+2)])\n",
    "                                          for i in range(len(kp_data))])\n",
    "    left_elbow_shoulder_hip = np.nan_to_num(left_elbow_shoulder_hip)\n",
    "\n",
    "\n",
    "    right_elbow_shoulder_hip = np.asarray([cal_angle(kp_data[i, 8*steps:(8*steps+2)], kp_data[i, 6*steps:(6*steps+2)], kp_data[i, 12*steps:(12*steps+2)])\n",
    "                                            for i in range(len(kp_data))])\n",
    "    right_elbow_shoulder_hip = np.nan_to_num(right_elbow_shoulder_hip)\n",
    "\n",
    "\n",
    "    left_wrist_elbow_shoulder = np.asarray([cal_angle(kp_data[i, 9*steps:(9*steps+2)], kp_data[i, 7*steps:(7*steps+2)], kp_data[i, 5*steps:(5*steps + 2)])\n",
    "                                            for i in range(len(kp_data))])\n",
    "    left_wrist_elbow_shoulder = np.nan_to_num(left_wrist_elbow_shoulder)\n",
    "\n",
    "\n",
    "    right_wrist_elbow_shoulder = np.asarray([cal_angle(kp_data[i, 10*steps:(10*steps+2)], kp_data[i, 8*steps:(8*steps+2)], kp_data[i, 6*steps:(6*steps+2)])\n",
    "                                              for i in range(len(kp_data))])\n",
    "    right_wrist_elbow_shoulder = np.nan_to_num(right_wrist_elbow_shoulder)\n",
    "\n",
    "\n",
    "    right_elbow_shoulder = np.asarray([cal_angle(kp_data[i, 8*steps:(8*steps+2)], kp_data[i, 6*steps:(6*steps+2)], kp_data[i, 5*steps:(5*steps+2)])\n",
    "                                              for i in range(len(kp_data))])\n",
    "    right_elbow_shoulder = np.nan_to_num(right_elbow_shoulder)\n",
    "\n",
    "\n",
    "    left_elbow_shoulder = np.asarray([cal_angle(kp_data[i, 6*steps:(6*steps+2)], kp_data[i, 5*steps:(5*steps+2)], kp_data[i, 7*steps:(7*steps+2)])\n",
    "                                              for i in range(len(kp_data))])\n",
    "    left_elbow_shoulder = np.nan_to_num(left_elbow_shoulder)\n",
    "\n",
    "    ece = np.asarray([cal_angle(kp_data[i, 7*steps:(7*steps+2)], kp_data[i, 25*steps:(25*steps+2)], kp_data[i, 8*steps:(8*steps+2)])\n",
    "                                              for i in range(len(kp_data))])\n",
    "    ece = np.nan_to_num(left_elbow_shoulder)\n",
    "    \n",
    "    scs = np.asarray([cal_angle(kp_data[i, 5*steps:(5*steps+2)], kp_data[i, 25*steps:(25*steps+2)], kp_data[i, 6*steps:(6*steps+2)])\n",
    "                                              for i in range(len(kp_data))])\n",
    "    scs = np.nan_to_num(left_elbow_shoulder)\n",
    "    \n",
    "    wcw = np.asarray([cal_angle(kp_data[i, 9*steps:(9*steps+2)], kp_data[i, 25*steps:(25*steps+2)], kp_data[i, 10*steps:(10*steps+2)])\n",
    "                                              for i in range(len(kp_data))])\n",
    "    wcw = np.nan_to_num(left_elbow_shoulder)\n",
    "\n",
    "\n",
    "    joint_angles = np.array([left_elbow_shoulder_hip,\n",
    "                    right_elbow_shoulder_hip, left_wrist_elbow_shoulder, \n",
    "                             right_wrist_elbow_shoulder, right_elbow_shoulder,\n",
    "                             left_elbow_shoulder,ece,scs,wcw]).T\n",
    "    \n",
    "\n",
    "    return joint_angles\n",
    "def extract_velocity(kp_data):\n",
    "    velocity = np.diff(kp_data, axis=0)\n",
    "    return velocity\n",
    "\n",
    "    \n",
    "def moving(v):\n",
    "    if v>0:\n",
    "        return 1\n",
    "    return 0\n",
    "def is_moving(kp_data):\n",
    "    velocity = np.diff(kp_data, axis=0)\n",
    "    velocity=pd.DataFrame(velocity)\n",
    "    for col in velocity.columns:\n",
    "        velocity[col]=velocity[col].apply(lambda x: moving(x))\n",
    "    velocity=np.array(velocity)\n",
    "    return velocity\n",
    "def extract_acceleration(kp_data):\n",
    "    velocity = np.diff(kp_data, axis=0)\n",
    "    acceleration = np.diff(velocity, axis=0)\n",
    "    return acceleration\n",
    "def segment(data, max_time, sub_window_size, stride_size):\n",
    "    sub_windows = np.arange(sub_window_size)[None, :] + np.arange(0, max_time, stride_size)[:, None]\n",
    "\n",
    "    row, col = np.where(sub_windows >= max_time)\n",
    "    uniq_row = len(np.unique(row))\n",
    "\n",
    "    if uniq_row > 0 and row[0] > 0:\n",
    "        sub_windows = sub_windows[:-uniq_row, :]\n",
    "\n",
    "    return data[sub_windows]\n",
    "import scipy\n",
    "\n",
    "def extract_feature(data, fs):\n",
    "    mean_ft = np.mean(data, axis=0)\n",
    "    std_ft = np.std(data, axis=0)\n",
    "    max_ft = np.max(data, axis=0)\n",
    "    min_ft = np.min(data, axis=0)\n",
    "    var_ft = np.var(data, axis=0)\n",
    "    med_ft = np.median(data, axis=0)\n",
    "    sum_ft = np.sum(data, axis=0)\n",
    "    std = np.std(data, axis=0)\n",
    "    kurtosis=scipy.stats.kurtosis(data)\n",
    "    skew=scipy.stats.skew(data)\n",
    "    quantile25=np.quantile(data,0.25,axis=0)\n",
    "    quantile75=np.quantile(data,0.75,axis=0)\n",
    "    rms = np.sqrt(np.mean(data**2,axis=0))\n",
    "    mean_absolute=np.mean(np.absolute(data),axis=0)\n",
    "    mode=scipy.stats.mode(data)\n",
    "    error=data-mean_ft\n",
    "    rmse = np.sqrt(np.mean((error)**2,axis=0))\n",
    "    mae=np.mean(np.absolute(error),axis=0)\n",
    "    maxerror=np.max(error,axis=0)\n",
    "    minerror=np.min(error,axis=0)\n",
    "    stderror=np.std(error,axis=0)\n",
    "    quantile25e=np.quantile(error,0.25,axis=0)\n",
    "    quantile75e=np.quantile(error,0.75,axis=0)\n",
    "#     slopes=scipy.stats.theilslopes(data)\n",
    "#     slope=slopes[0]\n",
    "#     intercept=slopes[1]\n",
    "#     low_slope=slopes[2]\n",
    "#     high_slope=slopes[3]\n",
    "#     print(slope)\n",
    "    features = np.array([mean_ft, std_ft, max_ft, min_ft,\n",
    "                         var_ft, med_ft,sum_ft,std,kurtosis,skew,quantile25,quantile75\n",
    "                         ,rms,mean_absolute\n",
    "#                          ,mode\n",
    "                         ,rmse,mae\n",
    "                         ,maxerror,minerror,stderror,quantile25e,quantile75e\n",
    "#                          ,slope,intercept,low_slope,high_slope\n",
    "                        ]).T.flatten()\n",
    "    features = np.nan_to_num(features)\n",
    "    return features\n",
    "def remove_redundant_kp(kp_df):\n",
    "    kp_df = kp_df.loc[:, ~kp_df.columns.str.contains(\n",
    "    'conf|left_knee|right_knee|left_ankle|right_ankle', regex=True)]\n",
    "    return kp_df\n"
   ]
  },
  {
   "cell_type": "code",
   "execution_count": 11,
   "id": "1475622c",
   "metadata": {},
   "outputs": [],
   "source": [
    "def make_csv(USER_ID):\n",
    "    USER_ID=USER_ID[:5]\n",
    "    keypoint_csv = DATA_FOLDER + \"train/{}_keypoint.csv\".format(USER_ID)\n",
    "    ann_csv = DATA_FOLDER + \"/ann/{}_ann.csv\".format(USER_ID)\n",
    "    kp_df, ann_df = load_data(keypoint_csv, ann_csv)\n",
    "    kp_df = remove_redundant_kp(kp_df)\n",
    "    col=kp_df.columns\n",
    "    kp_df=standartscaler.fit_transform(kp_df)\n",
    "    kp_df=pd.DataFrame(kp_df,columns=col)\n",
    "    feature_seg_feat=[\"left_elbow_shoulder_hip\",\n",
    "                    \"right_elbow_shoulder_hip\", \"left_wrist_elbow_shoulder\", \n",
    "                    \"right_wrist_elbow_shoulder\",\" right_elbow_shoulder\",\n",
    "                    \"left_elbow_shoulder\",'elbow_center_elbow',\"shoulder_center_shoulder\",\n",
    "                     \"wrist_center_wrist\"]\n",
    "    \n",
    "    \n",
    "    feature=[]\n",
    "    stat_feat=[\"mean_ft\", \"std_ft\", \"max_ft\", \"min_ft\", \"var_ft\", \"med_ft\", \"sum_ft\",\n",
    "               \"std\",\"kurtosis\",\"skew\",\"quantile 25\",'quantile 75'\n",
    "               ,\"RMS\",\"MAV\",\n",
    "#                'mode',\n",
    "               'rmse','mae'\n",
    "               ,\"maxerror\",\"minerror\",\"stderror\",\"quantile25e\",\"quantile75e\"\n",
    "#                ,'slope,intercept','low_slope','high_slope'\n",
    "              ]\n",
    "\n",
    "#position of body\n",
    "    for i in [e for e in kp_df.columns if e not in ('right_shoulder_y','right_shoulder_x')]:\n",
    "        if i[-1]=='y':\n",
    "#             y_axis.append(i)\n",
    "            feat_name=\"right_shoulder \"+i[:-2]+' dy'\n",
    "            kp_df[feat_name]=kp_df['right_shoulder_y']-kp_df[i]\n",
    "        else:\n",
    "#             x_axis.append(i)\n",
    "            feat_name=\"right_shoulder \"+i[:-2]+' dx'\n",
    "            kp_df[feat_name]=kp_df['right_shoulder_x']-kp_df[i]\n",
    "    \n",
    "    kp_df[\"center_x\"]=kp_df.loc[:,kp_df.columns.str.contains(\"_x\")].apply(np.mean,axis=1)\n",
    "    kp_df[\"center_y\"]=kp_df.loc[:,kp_df.columns.str.contains(\"_y\")].apply(np.mean,axis=1)\n",
    "\n",
    "    norm_feat=kp_df.columns\n",
    "    vel_feat=[f\"velo{x}\" for x in norm_feat]\n",
    "    acc_feat=[f\"acc{x}\" for x in norm_feat]\n",
    "    moving_feat=[f\"moving{x}\" for x in norm_feat]\n",
    "\n",
    "    for feat in feature_seg_feat:\n",
    "        for f in stat_feat:\n",
    "            feature.append(\"\".join([feat,\" \",f]))\n",
    "\n",
    "    for feat in norm_feat:\n",
    "        for f in stat_feat:\n",
    "            feature.append(\"\".join([feat,\" \",f]))\n",
    "\n",
    "    for feat in vel_feat:\n",
    "        for f in stat_feat:\n",
    "            feature.append(\"\".join([feat,\" \",f]))\n",
    "\n",
    "    for feat in acc_feat:\n",
    "        for f in stat_feat:\n",
    "            feature.append(\"\".join([feat,\" \",f]))\n",
    "\n",
    "    for feat in moving_feat:\n",
    "        for f in stat_feat:\n",
    "            feature.append(\"\".join([feat,\" \",f]))\n",
    "\n",
    "    \n",
    "    for i in range(len(kp_df.columns)):\n",
    "        kp_df.iloc[:, i] = smooth_kp(np.array(kp_df.iloc[:, i]))\n",
    "    # Processing training data\n",
    "    all_feature = []\n",
    "    all_label = []\n",
    "\n",
    "    for i in range(len(ann_df)):\n",
    "        seg = kp_df.loc[int(ann_df['start_time'][i]*FS): int(ann_df['stop_time'][i]*FS)]\n",
    "        seg_label = ann_df[\"annotation\"].iloc[i]\n",
    "        if len(seg) > 0 and (len(seg) >= WINDOW_SIZE * FS):\n",
    "            # Calculate joint angles from keypoint data\n",
    "            joint_angles = extract_joint_angles(np.array(seg))\n",
    "\n",
    "            # Segment keypoint data and joint angles by WINDOW_SIZE and OVERLAP_RATE\n",
    "            ws_seg = segment(np.array(seg), max_time=len(seg), sub_window_size=WINDOW_SIZE * FS, stride_size=int((WINDOW_SIZE - OVERLAP_RATE) * FS))\n",
    "            joint_angles_seg = segment(joint_angles, max_time=len(seg), sub_window_size=WINDOW_SIZE * FS,\n",
    "                                            stride_size=int((WINDOW_SIZE - OVERLAP_RATE) * FS))\n",
    "\n",
    "            # Calculate velocity from each segment of keypoint data\n",
    "            velocity_seg = [extract_velocity(ws_seg[i]) for i in range(len(ws_seg))]\n",
    "\n",
    "            # Calculate acceleration from each segment of keypoint data\n",
    "            acceleration_seg = [extract_acceleration(ws_seg[i]) for i in range(len(ws_seg))]\n",
    "            \n",
    "            # Calculate movement from each segment of keypoint data\n",
    "            moving_seg = [is_moving(ws_seg[i]) for i in range(len(ws_seg))]\n",
    "            # Calculate features from each segment of keypoint data, joint angles and velocity\n",
    "            feature_seg = [extract_feature(ws_seg[i], FS) for i in range(len(ws_seg))]\n",
    "            feature_joint_angles_seg = [extract_feature(joint_angles_seg[i], FS) for i in\n",
    "                                      range(len(joint_angles_seg))]\n",
    "            feature_velocity_seg = [extract_feature(extract_velocity(ws_seg[i]), FS) for i in range(len(ws_seg))]\n",
    "            feature_acceleration_seg = [extract_feature(extract_acceleration(ws_seg[i]), FS) for i in range(len(ws_seg))]\n",
    "            feature_moving_seg = [extract_feature(is_moving(ws_seg[i]), FS) for i in range(len(ws_seg))]\n",
    "            # Concatenate all features\n",
    "            feature_segs = np.concatenate([feature_seg, feature_joint_angles_seg, feature_velocity_seg,feature_acceleration_seg,feature_moving_seg], axis=1)\n",
    "\n",
    "            all_feature.extend(feature_segs)\n",
    "            all_label.extend([int(seg_label)]*len(ws_seg))\n",
    "\n",
    "    df=pd.DataFrame(all_feature,columns=feature)\n",
    "    b=list(all_label[1:])\n",
    "    b.insert(0,0)\n",
    "    df['previous_label']=b\n",
    "    \n",
    "    df['label'] = all_label\n",
    "#     print(a_f)\n",
    "#     print(v_f)\n",
    "\n",
    "\n",
    "    \n",
    "    testset=[x[:3] for x in os.listdir('./test_set_df_acc')]\n",
    "    if USER_ID[:3] not in testset:\n",
    "        name=f\"./training_set_df_acc_window5/{USER_ID}.csv\"\n",
    "    else:\n",
    "        name=f\"./test_set_df_acc_window5/{USER_ID}.csv\"\n",
    "    df.to_csv(name,index=False)\n",
    "#     print(df)\n",
    "    return df"
   ]
  },
  {
   "cell_type": "code",
   "execution_count": 12,
   "id": "4b547d20",
   "metadata": {
    "scrolled": true
   },
   "outputs": [
    {
     "name": "stdout",
     "output_type": "stream",
     "text": [
      "52\n"
     ]
    },
    {
     "ename": "NameError",
     "evalue": "name 'pr' is not defined",
     "output_type": "error",
     "traceback": [
      "\u001b[0;31m---------------------------------------------------------------------------\u001b[0m",
      "\u001b[0;31mNameError\u001b[0m                                 Traceback (most recent call last)",
      "Cell \u001b[0;32mIn[12], line 1\u001b[0m\n\u001b[0;32m----> 1\u001b[0m \u001b[43mmake_csv\u001b[49m\u001b[43m(\u001b[49m\u001b[38;5;124;43m'\u001b[39;49m\u001b[38;5;124;43mS08T1.csv\u001b[39;49m\u001b[38;5;124;43m'\u001b[39;49m\u001b[43m)\u001b[49m\n",
      "Cell \u001b[0;32mIn[11], line 41\u001b[0m, in \u001b[0;36mmake_csv\u001b[0;34m(USER_ID)\u001b[0m\n\u001b[1;32m     39\u001b[0m kp_df[\u001b[38;5;124m\"\u001b[39m\u001b[38;5;124mcenter_y\u001b[39m\u001b[38;5;124m\"\u001b[39m]\u001b[38;5;241m=\u001b[39mkp_df\u001b[38;5;241m.\u001b[39mloc[:,kp_df\u001b[38;5;241m.\u001b[39mcolumns\u001b[38;5;241m.\u001b[39mstr\u001b[38;5;241m.\u001b[39mcontains(\u001b[38;5;124m\"\u001b[39m\u001b[38;5;124m_y\u001b[39m\u001b[38;5;124m\"\u001b[39m)]\u001b[38;5;241m.\u001b[39mapply(np\u001b[38;5;241m.\u001b[39mmean,axis\u001b[38;5;241m=\u001b[39m\u001b[38;5;241m1\u001b[39m)\n\u001b[1;32m     40\u001b[0m \u001b[38;5;28mprint\u001b[39m(\u001b[38;5;28mlen\u001b[39m(kp_df\u001b[38;5;241m.\u001b[39mcolumns))\n\u001b[0;32m---> 41\u001b[0m \u001b[43mpr\u001b[49m()\n\u001b[1;32m     42\u001b[0m norm_feat\u001b[38;5;241m=\u001b[39mkp_df\u001b[38;5;241m.\u001b[39mcolumns\n\u001b[1;32m     43\u001b[0m vel_feat\u001b[38;5;241m=\u001b[39m[\u001b[38;5;124mf\u001b[39m\u001b[38;5;124m\"\u001b[39m\u001b[38;5;124mvelo\u001b[39m\u001b[38;5;132;01m{\u001b[39;00mx\u001b[38;5;132;01m}\u001b[39;00m\u001b[38;5;124m\"\u001b[39m \u001b[38;5;28;01mfor\u001b[39;00m x \u001b[38;5;129;01min\u001b[39;00m norm_feat]\n",
      "\u001b[0;31mNameError\u001b[0m: name 'pr' is not defined"
     ]
    }
   ],
   "source": [
    "# make_csv('S08T1.csv')"
   ]
  },
  {
   "cell_type": "code",
   "execution_count": 8,
   "id": "bf5ef555",
   "metadata": {
    "scrolled": true
   },
   "outputs": [
    {
     "name": "stdout",
     "output_type": "stream",
     "text": [
      "N04T1_keypoint.csv\n"
     ]
    },
    {
     "name": "stderr",
     "output_type": "stream",
     "text": [
      "/var/folders/qq/ckqvfttx4vs_68cbq08jts2c0000gn/T/ipykernel_41284/3406409932.py:5: RuntimeWarning: invalid value encountered in scalar divide\n",
      "  cosine_angle = np.dot(ba, bc) / (np.linalg.norm(ba) * np.linalg.norm(bc))\n",
      "/var/folders/qq/ckqvfttx4vs_68cbq08jts2c0000gn/T/ipykernel_41284/3406409932.py:6: RuntimeWarning: invalid value encountered in arccos\n",
      "  angle = np.arccos(cosine_angle)\n",
      "/var/folders/qq/ckqvfttx4vs_68cbq08jts2c0000gn/T/ipykernel_41284/3406409932.py:103: RuntimeWarning: Precision loss occurred in moment calculation due to catastrophic cancellation. This occurs when the data are nearly identical. Results may be unreliable.\n",
      "  kurtosis=scipy.stats.kurtosis(data)\n",
      "/var/folders/qq/ckqvfttx4vs_68cbq08jts2c0000gn/T/ipykernel_41284/3406409932.py:104: RuntimeWarning: Precision loss occurred in moment calculation due to catastrophic cancellation. This occurs when the data are nearly identical. Results may be unreliable.\n",
      "  skew=scipy.stats.skew(data)\n"
     ]
    },
    {
     "name": "stdout",
     "output_type": "stream",
     "text": [
      "N11T1_keypoint.csv\n"
     ]
    },
    {
     "name": "stderr",
     "output_type": "stream",
     "text": [
      "/var/folders/qq/ckqvfttx4vs_68cbq08jts2c0000gn/T/ipykernel_41284/3406409932.py:5: RuntimeWarning: invalid value encountered in scalar divide\n",
      "  cosine_angle = np.dot(ba, bc) / (np.linalg.norm(ba) * np.linalg.norm(bc))\n",
      "/var/folders/qq/ckqvfttx4vs_68cbq08jts2c0000gn/T/ipykernel_41284/3406409932.py:6: RuntimeWarning: invalid value encountered in arccos\n",
      "  angle = np.arccos(cosine_angle)\n",
      "/var/folders/qq/ckqvfttx4vs_68cbq08jts2c0000gn/T/ipykernel_41284/3406409932.py:103: RuntimeWarning: Precision loss occurred in moment calculation due to catastrophic cancellation. This occurs when the data are nearly identical. Results may be unreliable.\n",
      "  kurtosis=scipy.stats.kurtosis(data)\n",
      "/var/folders/qq/ckqvfttx4vs_68cbq08jts2c0000gn/T/ipykernel_41284/3406409932.py:104: RuntimeWarning: Precision loss occurred in moment calculation due to catastrophic cancellation. This occurs when the data are nearly identical. Results may be unreliable.\n",
      "  skew=scipy.stats.skew(data)\n"
     ]
    },
    {
     "name": "stdout",
     "output_type": "stream",
     "text": [
      "S07T2_keypoint.csv\n"
     ]
    },
    {
     "name": "stderr",
     "output_type": "stream",
     "text": [
      "/var/folders/qq/ckqvfttx4vs_68cbq08jts2c0000gn/T/ipykernel_41284/3406409932.py:103: RuntimeWarning: Precision loss occurred in moment calculation due to catastrophic cancellation. This occurs when the data are nearly identical. Results may be unreliable.\n",
      "  kurtosis=scipy.stats.kurtosis(data)\n",
      "/var/folders/qq/ckqvfttx4vs_68cbq08jts2c0000gn/T/ipykernel_41284/3406409932.py:104: RuntimeWarning: Precision loss occurred in moment calculation due to catastrophic cancellation. This occurs when the data are nearly identical. Results may be unreliable.\n",
      "  skew=scipy.stats.skew(data)\n"
     ]
    },
    {
     "name": "stdout",
     "output_type": "stream",
     "text": [
      "S08T2_keypoint.csv\n"
     ]
    },
    {
     "name": "stderr",
     "output_type": "stream",
     "text": [
      "/var/folders/qq/ckqvfttx4vs_68cbq08jts2c0000gn/T/ipykernel_41284/3406409932.py:103: RuntimeWarning: Precision loss occurred in moment calculation due to catastrophic cancellation. This occurs when the data are nearly identical. Results may be unreliable.\n",
      "  kurtosis=scipy.stats.kurtosis(data)\n",
      "/var/folders/qq/ckqvfttx4vs_68cbq08jts2c0000gn/T/ipykernel_41284/3406409932.py:104: RuntimeWarning: Precision loss occurred in moment calculation due to catastrophic cancellation. This occurs when the data are nearly identical. Results may be unreliable.\n",
      "  skew=scipy.stats.skew(data)\n"
     ]
    },
    {
     "name": "stdout",
     "output_type": "stream",
     "text": [
      "S01T2_keypoint.csv\n"
     ]
    },
    {
     "name": "stderr",
     "output_type": "stream",
     "text": [
      "/var/folders/qq/ckqvfttx4vs_68cbq08jts2c0000gn/T/ipykernel_41284/3406409932.py:5: RuntimeWarning: invalid value encountered in scalar divide\n",
      "  cosine_angle = np.dot(ba, bc) / (np.linalg.norm(ba) * np.linalg.norm(bc))\n",
      "/var/folders/qq/ckqvfttx4vs_68cbq08jts2c0000gn/T/ipykernel_41284/3406409932.py:6: RuntimeWarning: invalid value encountered in arccos\n",
      "  angle = np.arccos(cosine_angle)\n",
      "/var/folders/qq/ckqvfttx4vs_68cbq08jts2c0000gn/T/ipykernel_41284/3406409932.py:103: RuntimeWarning: Precision loss occurred in moment calculation due to catastrophic cancellation. This occurs when the data are nearly identical. Results may be unreliable.\n",
      "  kurtosis=scipy.stats.kurtosis(data)\n",
      "/var/folders/qq/ckqvfttx4vs_68cbq08jts2c0000gn/T/ipykernel_41284/3406409932.py:104: RuntimeWarning: Precision loss occurred in moment calculation due to catastrophic cancellation. This occurs when the data are nearly identical. Results may be unreliable.\n",
      "  skew=scipy.stats.skew(data)\n"
     ]
    },
    {
     "name": "stdout",
     "output_type": "stream",
     "text": [
      "N02T1_keypoint.csv\n"
     ]
    },
    {
     "name": "stderr",
     "output_type": "stream",
     "text": [
      "/var/folders/qq/ckqvfttx4vs_68cbq08jts2c0000gn/T/ipykernel_41284/3406409932.py:103: RuntimeWarning: Precision loss occurred in moment calculation due to catastrophic cancellation. This occurs when the data are nearly identical. Results may be unreliable.\n",
      "  kurtosis=scipy.stats.kurtosis(data)\n",
      "/var/folders/qq/ckqvfttx4vs_68cbq08jts2c0000gn/T/ipykernel_41284/3406409932.py:104: RuntimeWarning: Precision loss occurred in moment calculation due to catastrophic cancellation. This occurs when the data are nearly identical. Results may be unreliable.\n",
      "  skew=scipy.stats.skew(data)\n"
     ]
    },
    {
     "name": "stdout",
     "output_type": "stream",
     "text": [
      "S09T2_keypoint.csv\n"
     ]
    },
    {
     "name": "stderr",
     "output_type": "stream",
     "text": [
      "/var/folders/qq/ckqvfttx4vs_68cbq08jts2c0000gn/T/ipykernel_41284/3406409932.py:5: RuntimeWarning: invalid value encountered in scalar divide\n",
      "  cosine_angle = np.dot(ba, bc) / (np.linalg.norm(ba) * np.linalg.norm(bc))\n",
      "/var/folders/qq/ckqvfttx4vs_68cbq08jts2c0000gn/T/ipykernel_41284/3406409932.py:6: RuntimeWarning: invalid value encountered in arccos\n",
      "  angle = np.arccos(cosine_angle)\n",
      "/var/folders/qq/ckqvfttx4vs_68cbq08jts2c0000gn/T/ipykernel_41284/3406409932.py:103: RuntimeWarning: Precision loss occurred in moment calculation due to catastrophic cancellation. This occurs when the data are nearly identical. Results may be unreliable.\n",
      "  kurtosis=scipy.stats.kurtosis(data)\n",
      "/var/folders/qq/ckqvfttx4vs_68cbq08jts2c0000gn/T/ipykernel_41284/3406409932.py:104: RuntimeWarning: Precision loss occurred in moment calculation due to catastrophic cancellation. This occurs when the data are nearly identical. Results may be unreliable.\n",
      "  skew=scipy.stats.skew(data)\n"
     ]
    },
    {
     "name": "stdout",
     "output_type": "stream",
     "text": [
      "S11T2_keypoint.csv\n"
     ]
    },
    {
     "name": "stderr",
     "output_type": "stream",
     "text": [
      "/var/folders/qq/ckqvfttx4vs_68cbq08jts2c0000gn/T/ipykernel_41284/3406409932.py:103: RuntimeWarning: Precision loss occurred in moment calculation due to catastrophic cancellation. This occurs when the data are nearly identical. Results may be unreliable.\n",
      "  kurtosis=scipy.stats.kurtosis(data)\n",
      "/var/folders/qq/ckqvfttx4vs_68cbq08jts2c0000gn/T/ipykernel_41284/3406409932.py:104: RuntimeWarning: Precision loss occurred in moment calculation due to catastrophic cancellation. This occurs when the data are nearly identical. Results may be unreliable.\n",
      "  skew=scipy.stats.skew(data)\n"
     ]
    },
    {
     "name": "stdout",
     "output_type": "stream",
     "text": [
      "N12T1_keypoint.csv\n"
     ]
    },
    {
     "name": "stderr",
     "output_type": "stream",
     "text": [
      "/var/folders/qq/ckqvfttx4vs_68cbq08jts2c0000gn/T/ipykernel_41284/3406409932.py:5: RuntimeWarning: invalid value encountered in scalar divide\n",
      "  cosine_angle = np.dot(ba, bc) / (np.linalg.norm(ba) * np.linalg.norm(bc))\n",
      "/var/folders/qq/ckqvfttx4vs_68cbq08jts2c0000gn/T/ipykernel_41284/3406409932.py:103: RuntimeWarning: Precision loss occurred in moment calculation due to catastrophic cancellation. This occurs when the data are nearly identical. Results may be unreliable.\n",
      "  kurtosis=scipy.stats.kurtosis(data)\n",
      "/var/folders/qq/ckqvfttx4vs_68cbq08jts2c0000gn/T/ipykernel_41284/3406409932.py:104: RuntimeWarning: Precision loss occurred in moment calculation due to catastrophic cancellation. This occurs when the data are nearly identical. Results may be unreliable.\n",
      "  skew=scipy.stats.skew(data)\n"
     ]
    },
    {
     "name": "stdout",
     "output_type": "stream",
     "text": [
      "N07T1_keypoint.csv\n"
     ]
    },
    {
     "name": "stderr",
     "output_type": "stream",
     "text": [
      "/var/folders/qq/ckqvfttx4vs_68cbq08jts2c0000gn/T/ipykernel_41284/3406409932.py:103: RuntimeWarning: Precision loss occurred in moment calculation due to catastrophic cancellation. This occurs when the data are nearly identical. Results may be unreliable.\n",
      "  kurtosis=scipy.stats.kurtosis(data)\n",
      "/var/folders/qq/ckqvfttx4vs_68cbq08jts2c0000gn/T/ipykernel_41284/3406409932.py:104: RuntimeWarning: Precision loss occurred in moment calculation due to catastrophic cancellation. This occurs when the data are nearly identical. Results may be unreliable.\n",
      "  skew=scipy.stats.skew(data)\n",
      "/var/folders/qq/ckqvfttx4vs_68cbq08jts2c0000gn/T/ipykernel_41284/3406409932.py:5: RuntimeWarning: invalid value encountered in scalar divide\n",
      "  cosine_angle = np.dot(ba, bc) / (np.linalg.norm(ba) * np.linalg.norm(bc))\n",
      "/var/folders/qq/ckqvfttx4vs_68cbq08jts2c0000gn/T/ipykernel_41284/3406409932.py:6: RuntimeWarning: invalid value encountered in arccos\n",
      "  angle = np.arccos(cosine_angle)\n"
     ]
    },
    {
     "name": "stdout",
     "output_type": "stream",
     "text": [
      "S03T2_keypoint.csv\n"
     ]
    },
    {
     "name": "stderr",
     "output_type": "stream",
     "text": [
      "/var/folders/qq/ckqvfttx4vs_68cbq08jts2c0000gn/T/ipykernel_41284/3406409932.py:5: RuntimeWarning: invalid value encountered in scalar divide\n",
      "  cosine_angle = np.dot(ba, bc) / (np.linalg.norm(ba) * np.linalg.norm(bc))\n",
      "/var/folders/qq/ckqvfttx4vs_68cbq08jts2c0000gn/T/ipykernel_41284/3406409932.py:6: RuntimeWarning: invalid value encountered in arccos\n",
      "  angle = np.arccos(cosine_angle)\n",
      "/var/folders/qq/ckqvfttx4vs_68cbq08jts2c0000gn/T/ipykernel_41284/3406409932.py:103: RuntimeWarning: Precision loss occurred in moment calculation due to catastrophic cancellation. This occurs when the data are nearly identical. Results may be unreliable.\n",
      "  kurtosis=scipy.stats.kurtosis(data)\n",
      "/var/folders/qq/ckqvfttx4vs_68cbq08jts2c0000gn/T/ipykernel_41284/3406409932.py:104: RuntimeWarning: Precision loss occurred in moment calculation due to catastrophic cancellation. This occurs when the data are nearly identical. Results may be unreliable.\n",
      "  skew=scipy.stats.skew(data)\n"
     ]
    },
    {
     "name": "stdout",
     "output_type": "stream",
     "text": [
      "N01T1_keypoint.csv\n"
     ]
    },
    {
     "name": "stderr",
     "output_type": "stream",
     "text": [
      "/var/folders/qq/ckqvfttx4vs_68cbq08jts2c0000gn/T/ipykernel_41284/3406409932.py:5: RuntimeWarning: invalid value encountered in scalar divide\n",
      "  cosine_angle = np.dot(ba, bc) / (np.linalg.norm(ba) * np.linalg.norm(bc))\n",
      "/var/folders/qq/ckqvfttx4vs_68cbq08jts2c0000gn/T/ipykernel_41284/3406409932.py:6: RuntimeWarning: invalid value encountered in arccos\n",
      "  angle = np.arccos(cosine_angle)\n",
      "/var/folders/qq/ckqvfttx4vs_68cbq08jts2c0000gn/T/ipykernel_41284/3406409932.py:103: RuntimeWarning: Precision loss occurred in moment calculation due to catastrophic cancellation. This occurs when the data are nearly identical. Results may be unreliable.\n",
      "  kurtosis=scipy.stats.kurtosis(data)\n",
      "/var/folders/qq/ckqvfttx4vs_68cbq08jts2c0000gn/T/ipykernel_41284/3406409932.py:104: RuntimeWarning: Precision loss occurred in moment calculation due to catastrophic cancellation. This occurs when the data are nearly identical. Results may be unreliable.\n",
      "  skew=scipy.stats.skew(data)\n"
     ]
    },
    {
     "name": "stdout",
     "output_type": "stream",
     "text": [
      "S02T2_keypoint.csv\n"
     ]
    },
    {
     "name": "stderr",
     "output_type": "stream",
     "text": [
      "/var/folders/qq/ckqvfttx4vs_68cbq08jts2c0000gn/T/ipykernel_41284/3406409932.py:103: RuntimeWarning: Precision loss occurred in moment calculation due to catastrophic cancellation. This occurs when the data are nearly identical. Results may be unreliable.\n",
      "  kurtosis=scipy.stats.kurtosis(data)\n",
      "/var/folders/qq/ckqvfttx4vs_68cbq08jts2c0000gn/T/ipykernel_41284/3406409932.py:104: RuntimeWarning: Precision loss occurred in moment calculation due to catastrophic cancellation. This occurs when the data are nearly identical. Results may be unreliable.\n",
      "  skew=scipy.stats.skew(data)\n"
     ]
    },
    {
     "name": "stdout",
     "output_type": "stream",
     "text": [
      "N06T1_keypoint.csv\n"
     ]
    },
    {
     "name": "stderr",
     "output_type": "stream",
     "text": [
      "/var/folders/qq/ckqvfttx4vs_68cbq08jts2c0000gn/T/ipykernel_41284/3406409932.py:103: RuntimeWarning: Precision loss occurred in moment calculation due to catastrophic cancellation. This occurs when the data are nearly identical. Results may be unreliable.\n",
      "  kurtosis=scipy.stats.kurtosis(data)\n",
      "/var/folders/qq/ckqvfttx4vs_68cbq08jts2c0000gn/T/ipykernel_41284/3406409932.py:104: RuntimeWarning: Precision loss occurred in moment calculation due to catastrophic cancellation. This occurs when the data are nearly identical. Results may be unreliable.\n",
      "  skew=scipy.stats.skew(data)\n"
     ]
    },
    {
     "name": "stdout",
     "output_type": "stream",
     "text": [
      "S10T2_keypoint.csv\n"
     ]
    },
    {
     "name": "stderr",
     "output_type": "stream",
     "text": [
      "/var/folders/qq/ckqvfttx4vs_68cbq08jts2c0000gn/T/ipykernel_41284/3406409932.py:103: RuntimeWarning: Precision loss occurred in moment calculation due to catastrophic cancellation. This occurs when the data are nearly identical. Results may be unreliable.\n",
      "  kurtosis=scipy.stats.kurtosis(data)\n",
      "/var/folders/qq/ckqvfttx4vs_68cbq08jts2c0000gn/T/ipykernel_41284/3406409932.py:104: RuntimeWarning: Precision loss occurred in moment calculation due to catastrophic cancellation. This occurs when the data are nearly identical. Results may be unreliable.\n",
      "  skew=scipy.stats.skew(data)\n"
     ]
    },
    {
     "name": "stdout",
     "output_type": "stream",
     "text": [
      "S05T2_keypoint.csv\n"
     ]
    },
    {
     "name": "stderr",
     "output_type": "stream",
     "text": [
      "/var/folders/qq/ckqvfttx4vs_68cbq08jts2c0000gn/T/ipykernel_41284/3406409932.py:103: RuntimeWarning: Precision loss occurred in moment calculation due to catastrophic cancellation. This occurs when the data are nearly identical. Results may be unreliable.\n",
      "  kurtosis=scipy.stats.kurtosis(data)\n",
      "/var/folders/qq/ckqvfttx4vs_68cbq08jts2c0000gn/T/ipykernel_41284/3406409932.py:104: RuntimeWarning: Precision loss occurred in moment calculation due to catastrophic cancellation. This occurs when the data are nearly identical. Results may be unreliable.\n",
      "  skew=scipy.stats.skew(data)\n"
     ]
    },
    {
     "name": "stdout",
     "output_type": "stream",
     "text": [
      "N12T2_keypoint.csv\n"
     ]
    },
    {
     "name": "stderr",
     "output_type": "stream",
     "text": [
      "/var/folders/qq/ckqvfttx4vs_68cbq08jts2c0000gn/T/ipykernel_41284/3406409932.py:5: RuntimeWarning: invalid value encountered in scalar divide\n",
      "  cosine_angle = np.dot(ba, bc) / (np.linalg.norm(ba) * np.linalg.norm(bc))\n",
      "/var/folders/qq/ckqvfttx4vs_68cbq08jts2c0000gn/T/ipykernel_41284/3406409932.py:103: RuntimeWarning: Precision loss occurred in moment calculation due to catastrophic cancellation. This occurs when the data are nearly identical. Results may be unreliable.\n",
      "  kurtosis=scipy.stats.kurtosis(data)\n",
      "/var/folders/qq/ckqvfttx4vs_68cbq08jts2c0000gn/T/ipykernel_41284/3406409932.py:104: RuntimeWarning: Precision loss occurred in moment calculation due to catastrophic cancellation. This occurs when the data are nearly identical. Results may be unreliable.\n",
      "  skew=scipy.stats.skew(data)\n",
      "/var/folders/qq/ckqvfttx4vs_68cbq08jts2c0000gn/T/ipykernel_41284/3406409932.py:6: RuntimeWarning: invalid value encountered in arccos\n",
      "  angle = np.arccos(cosine_angle)\n"
     ]
    },
    {
     "name": "stdout",
     "output_type": "stream",
     "text": [
      "N07T2_keypoint.csv\n"
     ]
    },
    {
     "name": "stderr",
     "output_type": "stream",
     "text": [
      "/var/folders/qq/ckqvfttx4vs_68cbq08jts2c0000gn/T/ipykernel_41284/3406409932.py:5: RuntimeWarning: invalid value encountered in scalar divide\n",
      "  cosine_angle = np.dot(ba, bc) / (np.linalg.norm(ba) * np.linalg.norm(bc))\n",
      "/var/folders/qq/ckqvfttx4vs_68cbq08jts2c0000gn/T/ipykernel_41284/3406409932.py:103: RuntimeWarning: Precision loss occurred in moment calculation due to catastrophic cancellation. This occurs when the data are nearly identical. Results may be unreliable.\n",
      "  kurtosis=scipy.stats.kurtosis(data)\n",
      "/var/folders/qq/ckqvfttx4vs_68cbq08jts2c0000gn/T/ipykernel_41284/3406409932.py:104: RuntimeWarning: Precision loss occurred in moment calculation due to catastrophic cancellation. This occurs when the data are nearly identical. Results may be unreliable.\n",
      "  skew=scipy.stats.skew(data)\n",
      "/var/folders/qq/ckqvfttx4vs_68cbq08jts2c0000gn/T/ipykernel_41284/3406409932.py:6: RuntimeWarning: invalid value encountered in arccos\n",
      "  angle = np.arccos(cosine_angle)\n"
     ]
    },
    {
     "name": "stdout",
     "output_type": "stream",
     "text": [
      "S11T1_keypoint.csv\n"
     ]
    },
    {
     "name": "stderr",
     "output_type": "stream",
     "text": [
      "/var/folders/qq/ckqvfttx4vs_68cbq08jts2c0000gn/T/ipykernel_41284/3406409932.py:103: RuntimeWarning: Precision loss occurred in moment calculation due to catastrophic cancellation. This occurs when the data are nearly identical. Results may be unreliable.\n",
      "  kurtosis=scipy.stats.kurtosis(data)\n",
      "/var/folders/qq/ckqvfttx4vs_68cbq08jts2c0000gn/T/ipykernel_41284/3406409932.py:104: RuntimeWarning: Precision loss occurred in moment calculation due to catastrophic cancellation. This occurs when the data are nearly identical. Results may be unreliable.\n",
      "  skew=scipy.stats.skew(data)\n"
     ]
    },
    {
     "name": "stdout",
     "output_type": "stream",
     "text": [
      "S03T1_keypoint.csv\n"
     ]
    },
    {
     "name": "stderr",
     "output_type": "stream",
     "text": [
      "/var/folders/qq/ckqvfttx4vs_68cbq08jts2c0000gn/T/ipykernel_41284/3406409932.py:5: RuntimeWarning: invalid value encountered in scalar divide\n",
      "  cosine_angle = np.dot(ba, bc) / (np.linalg.norm(ba) * np.linalg.norm(bc))\n",
      "/var/folders/qq/ckqvfttx4vs_68cbq08jts2c0000gn/T/ipykernel_41284/3406409932.py:6: RuntimeWarning: invalid value encountered in arccos\n",
      "  angle = np.arccos(cosine_angle)\n",
      "/var/folders/qq/ckqvfttx4vs_68cbq08jts2c0000gn/T/ipykernel_41284/3406409932.py:103: RuntimeWarning: Precision loss occurred in moment calculation due to catastrophic cancellation. This occurs when the data are nearly identical. Results may be unreliable.\n",
      "  kurtosis=scipy.stats.kurtosis(data)\n",
      "/var/folders/qq/ckqvfttx4vs_68cbq08jts2c0000gn/T/ipykernel_41284/3406409932.py:104: RuntimeWarning: Precision loss occurred in moment calculation due to catastrophic cancellation. This occurs when the data are nearly identical. Results may be unreliable.\n",
      "  skew=scipy.stats.skew(data)\n"
     ]
    },
    {
     "name": "stdout",
     "output_type": "stream",
     "text": [
      "S02T1_keypoint.csv\n"
     ]
    },
    {
     "name": "stderr",
     "output_type": "stream",
     "text": [
      "/var/folders/qq/ckqvfttx4vs_68cbq08jts2c0000gn/T/ipykernel_41284/3406409932.py:103: RuntimeWarning: Precision loss occurred in moment calculation due to catastrophic cancellation. This occurs when the data are nearly identical. Results may be unreliable.\n",
      "  kurtosis=scipy.stats.kurtosis(data)\n",
      "/var/folders/qq/ckqvfttx4vs_68cbq08jts2c0000gn/T/ipykernel_41284/3406409932.py:104: RuntimeWarning: Precision loss occurred in moment calculation due to catastrophic cancellation. This occurs when the data are nearly identical. Results may be unreliable.\n",
      "  skew=scipy.stats.skew(data)\n"
     ]
    },
    {
     "name": "stdout",
     "output_type": "stream",
     "text": [
      "N01T2_keypoint.csv\n"
     ]
    },
    {
     "name": "stderr",
     "output_type": "stream",
     "text": [
      "/var/folders/qq/ckqvfttx4vs_68cbq08jts2c0000gn/T/ipykernel_41284/3406409932.py:5: RuntimeWarning: invalid value encountered in scalar divide\n",
      "  cosine_angle = np.dot(ba, bc) / (np.linalg.norm(ba) * np.linalg.norm(bc))\n",
      "/var/folders/qq/ckqvfttx4vs_68cbq08jts2c0000gn/T/ipykernel_41284/3406409932.py:6: RuntimeWarning: invalid value encountered in arccos\n",
      "  angle = np.arccos(cosine_angle)\n",
      "/var/folders/qq/ckqvfttx4vs_68cbq08jts2c0000gn/T/ipykernel_41284/3406409932.py:103: RuntimeWarning: Precision loss occurred in moment calculation due to catastrophic cancellation. This occurs when the data are nearly identical. Results may be unreliable.\n",
      "  kurtosis=scipy.stats.kurtosis(data)\n",
      "/var/folders/qq/ckqvfttx4vs_68cbq08jts2c0000gn/T/ipykernel_41284/3406409932.py:104: RuntimeWarning: Precision loss occurred in moment calculation due to catastrophic cancellation. This occurs when the data are nearly identical. Results may be unreliable.\n",
      "  skew=scipy.stats.skew(data)\n"
     ]
    },
    {
     "name": "stdout",
     "output_type": "stream",
     "text": [
      "S10T1_keypoint.csv\n"
     ]
    },
    {
     "name": "stderr",
     "output_type": "stream",
     "text": [
      "/var/folders/qq/ckqvfttx4vs_68cbq08jts2c0000gn/T/ipykernel_41284/3406409932.py:103: RuntimeWarning: Precision loss occurred in moment calculation due to catastrophic cancellation. This occurs when the data are nearly identical. Results may be unreliable.\n",
      "  kurtosis=scipy.stats.kurtosis(data)\n",
      "/var/folders/qq/ckqvfttx4vs_68cbq08jts2c0000gn/T/ipykernel_41284/3406409932.py:104: RuntimeWarning: Precision loss occurred in moment calculation due to catastrophic cancellation. This occurs when the data are nearly identical. Results may be unreliable.\n",
      "  skew=scipy.stats.skew(data)\n"
     ]
    },
    {
     "name": "stdout",
     "output_type": "stream",
     "text": [
      "S05T1_keypoint.csv\n"
     ]
    },
    {
     "name": "stderr",
     "output_type": "stream",
     "text": [
      "/var/folders/qq/ckqvfttx4vs_68cbq08jts2c0000gn/T/ipykernel_41284/3406409932.py:103: RuntimeWarning: Precision loss occurred in moment calculation due to catastrophic cancellation. This occurs when the data are nearly identical. Results may be unreliable.\n",
      "  kurtosis=scipy.stats.kurtosis(data)\n",
      "/var/folders/qq/ckqvfttx4vs_68cbq08jts2c0000gn/T/ipykernel_41284/3406409932.py:104: RuntimeWarning: Precision loss occurred in moment calculation due to catastrophic cancellation. This occurs when the data are nearly identical. Results may be unreliable.\n",
      "  skew=scipy.stats.skew(data)\n"
     ]
    },
    {
     "name": "stdout",
     "output_type": "stream",
     "text": [
      "N06T2_keypoint.csv\n"
     ]
    },
    {
     "name": "stderr",
     "output_type": "stream",
     "text": [
      "/var/folders/qq/ckqvfttx4vs_68cbq08jts2c0000gn/T/ipykernel_41284/3406409932.py:5: RuntimeWarning: invalid value encountered in scalar divide\n",
      "  cosine_angle = np.dot(ba, bc) / (np.linalg.norm(ba) * np.linalg.norm(bc))\n",
      "/var/folders/qq/ckqvfttx4vs_68cbq08jts2c0000gn/T/ipykernel_41284/3406409932.py:103: RuntimeWarning: Precision loss occurred in moment calculation due to catastrophic cancellation. This occurs when the data are nearly identical. Results may be unreliable.\n",
      "  kurtosis=scipy.stats.kurtosis(data)\n",
      "/var/folders/qq/ckqvfttx4vs_68cbq08jts2c0000gn/T/ipykernel_41284/3406409932.py:104: RuntimeWarning: Precision loss occurred in moment calculation due to catastrophic cancellation. This occurs when the data are nearly identical. Results may be unreliable.\n",
      "  skew=scipy.stats.skew(data)\n",
      "/var/folders/qq/ckqvfttx4vs_68cbq08jts2c0000gn/T/ipykernel_41284/3406409932.py:6: RuntimeWarning: invalid value encountered in arccos\n",
      "  angle = np.arccos(cosine_angle)\n"
     ]
    },
    {
     "name": "stdout",
     "output_type": "stream",
     "text": [
      "S07T1_keypoint.csv\n"
     ]
    },
    {
     "name": "stderr",
     "output_type": "stream",
     "text": [
      "/var/folders/qq/ckqvfttx4vs_68cbq08jts2c0000gn/T/ipykernel_41284/3406409932.py:103: RuntimeWarning: Precision loss occurred in moment calculation due to catastrophic cancellation. This occurs when the data are nearly identical. Results may be unreliable.\n",
      "  kurtosis=scipy.stats.kurtosis(data)\n",
      "/var/folders/qq/ckqvfttx4vs_68cbq08jts2c0000gn/T/ipykernel_41284/3406409932.py:104: RuntimeWarning: Precision loss occurred in moment calculation due to catastrophic cancellation. This occurs when the data are nearly identical. Results may be unreliable.\n",
      "  skew=scipy.stats.skew(data)\n"
     ]
    },
    {
     "name": "stdout",
     "output_type": "stream",
     "text": [
      "N04T2_keypoint.csv\n"
     ]
    },
    {
     "name": "stderr",
     "output_type": "stream",
     "text": [
      "/var/folders/qq/ckqvfttx4vs_68cbq08jts2c0000gn/T/ipykernel_41284/3406409932.py:5: RuntimeWarning: invalid value encountered in scalar divide\n",
      "  cosine_angle = np.dot(ba, bc) / (np.linalg.norm(ba) * np.linalg.norm(bc))\n",
      "/var/folders/qq/ckqvfttx4vs_68cbq08jts2c0000gn/T/ipykernel_41284/3406409932.py:103: RuntimeWarning: Precision loss occurred in moment calculation due to catastrophic cancellation. This occurs when the data are nearly identical. Results may be unreliable.\n",
      "  kurtosis=scipy.stats.kurtosis(data)\n",
      "/var/folders/qq/ckqvfttx4vs_68cbq08jts2c0000gn/T/ipykernel_41284/3406409932.py:104: RuntimeWarning: Precision loss occurred in moment calculation due to catastrophic cancellation. This occurs when the data are nearly identical. Results may be unreliable.\n",
      "  skew=scipy.stats.skew(data)\n",
      "/var/folders/qq/ckqvfttx4vs_68cbq08jts2c0000gn/T/ipykernel_41284/3406409932.py:6: RuntimeWarning: invalid value encountered in arccos\n",
      "  angle = np.arccos(cosine_angle)\n"
     ]
    },
    {
     "name": "stdout",
     "output_type": "stream",
     "text": [
      "N11T2_keypoint.csv\n"
     ]
    },
    {
     "name": "stderr",
     "output_type": "stream",
     "text": [
      "/var/folders/qq/ckqvfttx4vs_68cbq08jts2c0000gn/T/ipykernel_41284/3406409932.py:5: RuntimeWarning: invalid value encountered in scalar divide\n",
      "  cosine_angle = np.dot(ba, bc) / (np.linalg.norm(ba) * np.linalg.norm(bc))\n",
      "/var/folders/qq/ckqvfttx4vs_68cbq08jts2c0000gn/T/ipykernel_41284/3406409932.py:6: RuntimeWarning: invalid value encountered in arccos\n",
      "  angle = np.arccos(cosine_angle)\n",
      "/var/folders/qq/ckqvfttx4vs_68cbq08jts2c0000gn/T/ipykernel_41284/3406409932.py:103: RuntimeWarning: Precision loss occurred in moment calculation due to catastrophic cancellation. This occurs when the data are nearly identical. Results may be unreliable.\n",
      "  kurtosis=scipy.stats.kurtosis(data)\n",
      "/var/folders/qq/ckqvfttx4vs_68cbq08jts2c0000gn/T/ipykernel_41284/3406409932.py:104: RuntimeWarning: Precision loss occurred in moment calculation due to catastrophic cancellation. This occurs when the data are nearly identical. Results may be unreliable.\n",
      "  skew=scipy.stats.skew(data)\n"
     ]
    },
    {
     "name": "stdout",
     "output_type": "stream",
     "text": [
      "S08T1_keypoint.csv\n"
     ]
    },
    {
     "name": "stderr",
     "output_type": "stream",
     "text": [
      "/var/folders/qq/ckqvfttx4vs_68cbq08jts2c0000gn/T/ipykernel_41284/3406409932.py:103: RuntimeWarning: Precision loss occurred in moment calculation due to catastrophic cancellation. This occurs when the data are nearly identical. Results may be unreliable.\n",
      "  kurtosis=scipy.stats.kurtosis(data)\n",
      "/var/folders/qq/ckqvfttx4vs_68cbq08jts2c0000gn/T/ipykernel_41284/3406409932.py:104: RuntimeWarning: Precision loss occurred in moment calculation due to catastrophic cancellation. This occurs when the data are nearly identical. Results may be unreliable.\n",
      "  skew=scipy.stats.skew(data)\n"
     ]
    },
    {
     "name": "stdout",
     "output_type": "stream",
     "text": [
      "N02T2_keypoint.csv\n"
     ]
    },
    {
     "name": "stderr",
     "output_type": "stream",
     "text": [
      "/var/folders/qq/ckqvfttx4vs_68cbq08jts2c0000gn/T/ipykernel_41284/3406409932.py:103: RuntimeWarning: Precision loss occurred in moment calculation due to catastrophic cancellation. This occurs when the data are nearly identical. Results may be unreliable.\n",
      "  kurtosis=scipy.stats.kurtosis(data)\n",
      "/var/folders/qq/ckqvfttx4vs_68cbq08jts2c0000gn/T/ipykernel_41284/3406409932.py:104: RuntimeWarning: Precision loss occurred in moment calculation due to catastrophic cancellation. This occurs when the data are nearly identical. Results may be unreliable.\n",
      "  skew=scipy.stats.skew(data)\n"
     ]
    },
    {
     "name": "stdout",
     "output_type": "stream",
     "text": [
      "S09T1_keypoint.csv\n"
     ]
    },
    {
     "name": "stderr",
     "output_type": "stream",
     "text": [
      "/var/folders/qq/ckqvfttx4vs_68cbq08jts2c0000gn/T/ipykernel_41284/3406409932.py:103: RuntimeWarning: Precision loss occurred in moment calculation due to catastrophic cancellation. This occurs when the data are nearly identical. Results may be unreliable.\n",
      "  kurtosis=scipy.stats.kurtosis(data)\n",
      "/var/folders/qq/ckqvfttx4vs_68cbq08jts2c0000gn/T/ipykernel_41284/3406409932.py:104: RuntimeWarning: Precision loss occurred in moment calculation due to catastrophic cancellation. This occurs when the data are nearly identical. Results may be unreliable.\n",
      "  skew=scipy.stats.skew(data)\n"
     ]
    },
    {
     "name": "stdout",
     "output_type": "stream",
     "text": [
      "S01T1_keypoint.csv\n"
     ]
    },
    {
     "name": "stderr",
     "output_type": "stream",
     "text": [
      "/var/folders/qq/ckqvfttx4vs_68cbq08jts2c0000gn/T/ipykernel_41284/3406409932.py:5: RuntimeWarning: invalid value encountered in scalar divide\n",
      "  cosine_angle = np.dot(ba, bc) / (np.linalg.norm(ba) * np.linalg.norm(bc))\n",
      "/var/folders/qq/ckqvfttx4vs_68cbq08jts2c0000gn/T/ipykernel_41284/3406409932.py:6: RuntimeWarning: invalid value encountered in arccos\n",
      "  angle = np.arccos(cosine_angle)\n",
      "/var/folders/qq/ckqvfttx4vs_68cbq08jts2c0000gn/T/ipykernel_41284/3406409932.py:103: RuntimeWarning: Precision loss occurred in moment calculation due to catastrophic cancellation. This occurs when the data are nearly identical. Results may be unreliable.\n",
      "  kurtosis=scipy.stats.kurtosis(data)\n",
      "/var/folders/qq/ckqvfttx4vs_68cbq08jts2c0000gn/T/ipykernel_41284/3406409932.py:104: RuntimeWarning: Precision loss occurred in moment calculation due to catastrophic cancellation. This occurs when the data are nearly identical. Results may be unreliable.\n",
      "  skew=scipy.stats.skew(data)\n"
     ]
    }
   ],
   "source": [
    "IDS=os.listdir(\"./train\")\n",
    "for ID in IDS:\n",
    "    print(ID)\n",
    "    make_csv(ID)"
   ]
  },
  {
   "cell_type": "code",
   "execution_count": null,
   "id": "e0277d0d",
   "metadata": {},
   "outputs": [],
   "source": []
  },
  {
   "cell_type": "code",
   "execution_count": null,
   "id": "cc3eeae2",
   "metadata": {},
   "outputs": [],
   "source": []
  },
  {
   "cell_type": "code",
   "execution_count": null,
   "id": "1ddd6166",
   "metadata": {},
   "outputs": [],
   "source": []
  },
  {
   "cell_type": "code",
   "execution_count": null,
   "id": "42b7bdf3",
   "metadata": {},
   "outputs": [],
   "source": []
  },
  {
   "cell_type": "code",
   "execution_count": null,
   "id": "c6970825",
   "metadata": {},
   "outputs": [],
   "source": []
  },
  {
   "cell_type": "code",
   "execution_count": null,
   "id": "884411f1",
   "metadata": {},
   "outputs": [],
   "source": []
  },
  {
   "cell_type": "code",
   "execution_count": null,
   "id": "79f1843f",
   "metadata": {},
   "outputs": [],
   "source": []
  },
  {
   "cell_type": "code",
   "execution_count": null,
   "id": "244047d0",
   "metadata": {},
   "outputs": [],
   "source": []
  },
  {
   "cell_type": "code",
   "execution_count": null,
   "id": "75c314bc",
   "metadata": {},
   "outputs": [],
   "source": []
  },
  {
   "cell_type": "code",
   "execution_count": null,
   "id": "b31b1553",
   "metadata": {},
   "outputs": [],
   "source": []
  },
  {
   "cell_type": "code",
   "execution_count": null,
   "id": "6837b7ca",
   "metadata": {},
   "outputs": [],
   "source": []
  },
  {
   "cell_type": "code",
   "execution_count": null,
   "id": "95b32bb9",
   "metadata": {},
   "outputs": [],
   "source": []
  },
  {
   "cell_type": "code",
   "execution_count": null,
   "id": "6fecd1a7",
   "metadata": {},
   "outputs": [],
   "source": []
  },
  {
   "cell_type": "code",
   "execution_count": null,
   "id": "d702accd",
   "metadata": {},
   "outputs": [],
   "source": []
  },
  {
   "cell_type": "code",
   "execution_count": null,
   "id": "70e6f979",
   "metadata": {},
   "outputs": [],
   "source": []
  },
  {
   "cell_type": "code",
   "execution_count": null,
   "id": "39e3b66b",
   "metadata": {},
   "outputs": [],
   "source": []
  },
  {
   "cell_type": "code",
   "execution_count": null,
   "id": "c19b1bb1",
   "metadata": {},
   "outputs": [],
   "source": []
  },
  {
   "cell_type": "code",
   "execution_count": null,
   "id": "ff3e4fc6",
   "metadata": {},
   "outputs": [],
   "source": []
  },
  {
   "cell_type": "code",
   "execution_count": null,
   "id": "27c32f35",
   "metadata": {},
   "outputs": [],
   "source": []
  },
  {
   "cell_type": "code",
   "execution_count": null,
   "id": "c47d7a0a",
   "metadata": {},
   "outputs": [],
   "source": []
  },
  {
   "cell_type": "code",
   "execution_count": null,
   "id": "356ca81a",
   "metadata": {},
   "outputs": [],
   "source": []
  },
  {
   "cell_type": "code",
   "execution_count": null,
   "id": "50a20ee0",
   "metadata": {},
   "outputs": [],
   "source": []
  },
  {
   "cell_type": "code",
   "execution_count": null,
   "id": "3216cafc",
   "metadata": {},
   "outputs": [],
   "source": []
  },
  {
   "cell_type": "code",
   "execution_count": null,
   "id": "7185c6a2",
   "metadata": {},
   "outputs": [],
   "source": []
  },
  {
   "cell_type": "code",
   "execution_count": null,
   "id": "cda068a4",
   "metadata": {},
   "outputs": [],
   "source": []
  },
  {
   "cell_type": "code",
   "execution_count": null,
   "id": "405510e9",
   "metadata": {},
   "outputs": [],
   "source": []
  },
  {
   "cell_type": "code",
   "execution_count": null,
   "id": "a77f4871",
   "metadata": {},
   "outputs": [],
   "source": []
  },
  {
   "cell_type": "code",
   "execution_count": null,
   "id": "6821441f",
   "metadata": {},
   "outputs": [],
   "source": []
  },
  {
   "cell_type": "code",
   "execution_count": null,
   "id": "c3b73651",
   "metadata": {},
   "outputs": [],
   "source": []
  },
  {
   "cell_type": "code",
   "execution_count": null,
   "id": "71721fa6",
   "metadata": {},
   "outputs": [],
   "source": []
  },
  {
   "cell_type": "code",
   "execution_count": null,
   "id": "06c6e64b",
   "metadata": {},
   "outputs": [],
   "source": []
  },
  {
   "cell_type": "code",
   "execution_count": null,
   "id": "91a9a414",
   "metadata": {},
   "outputs": [],
   "source": []
  },
  {
   "cell_type": "code",
   "execution_count": null,
   "id": "88b7969c",
   "metadata": {},
   "outputs": [],
   "source": []
  },
  {
   "cell_type": "code",
   "execution_count": null,
   "id": "5ea439d7",
   "metadata": {},
   "outputs": [],
   "source": []
  },
  {
   "cell_type": "code",
   "execution_count": null,
   "id": "66617fb0",
   "metadata": {},
   "outputs": [],
   "source": []
  },
  {
   "cell_type": "code",
   "execution_count": null,
   "id": "1504f5cc",
   "metadata": {},
   "outputs": [],
   "source": []
  }
 ],
 "metadata": {
  "kernelspec": {
   "display_name": "Python 3 (ipykernel)",
   "language": "python",
   "name": "python3"
  },
  "language_info": {
   "codemirror_mode": {
    "name": "ipython",
    "version": 3
   },
   "file_extension": ".py",
   "mimetype": "text/x-python",
   "name": "python",
   "nbconvert_exporter": "python",
   "pygments_lexer": "ipython3",
   "version": "3.10.9"
  }
 },
 "nbformat": 4,
 "nbformat_minor": 5
}
